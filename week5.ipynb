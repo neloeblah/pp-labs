{
 "cells": [
  {
   "cell_type": "markdown",
   "id": "917fe41c",
   "metadata": {},
   "source": [
    "#  Classes  and Objects\n",
    "\n",
    "# EXERCISE 1: Simple Class\n",
    "\n",
    "\n",
    "- In Python, a class is a blueprint for creating objects. Objects are instances of a class, and each object can have attributes (characteristics) and methods (functions) associated with it. Classes provide a way to encapsulate data and behavior into a single unit, promoting code organization, reuse, and maintainability.\n",
    "- Classes play a crucial role in organizing and structuring code, making it more modular and easier to maintain. They facilitate the creation of reusable and extensible code, promoting good software design practices.\n",
    "- Here's a brief introduction to key concepts related to classes in Python:"
   ]
  },
  {
   "cell_type": "code",
   "execution_count": null,
   "id": "46a7d5a0",
   "metadata": {},
   "outputs": [],
   "source": [
    "class Car:\n",
    "    def __init__(self, make, model, year, color):\n",
    "        self.make = make\n",
    "        self.model = model\n",
    "        self.year = year\n",
    "        self.color = color\n",
    "        self.mileage = 0\n",
    "\n",
    "    def display_info(self):\n",
    "        print(f\"{self.year} {self.make} {self.model} ({self.color}) - Mileage: {self.mileage} miles\")\n",
    "\n",
    "    def drive(self, miles):\n",
    "        self.mileage += miles\n",
    "        print(f\"Driving {miles} miles...\")\n",
    "\n",
    "# Creating instances of the Car class\n",
    "car1 = Car(\"Toyota\", \"Camry\", 2022, \"Blue\")\n",
    "car2 = Car(\"Honda\", \"Accord\", 2021, \"Silver\")\n",
    "\n",
    "# Accessing instance variables and calling methods\n",
    "car1.display_info()\n",
    "car1.drive(50)\n",
    "car1.display_info()\n",
    "\n",
    "car2.display_info()\n",
    "car2.drive(30)\n",
    "car2.display_info()\n"
   ]
  },
  {
   "cell_type": "markdown",
   "id": "625d8cdd",
   "metadata": {},
   "source": [
    "## Question 1.1: Employee Salary Calculation\n",
    "\n",
    "- Create a Python class named Employee to represent an employee in a company. The class should have the following attributes:\n",
    "\n",
    "    - name (employee's name)\n",
    "    - position (employee's position or job title)\n",
    "    - monthly_salary (employee's monthly salary)\n",
    "- Implement a method named calculate_annual_salary within the Employee class. This method should take an optional parameter bonus_percentage (default is 0) and calculate the annual salary based on the monthly salary and the provided bonus percentage."
   ]
  },
  {
   "cell_type": "code",
   "execution_count": null,
   "id": "a67d8ad1",
   "metadata": {},
   "outputs": [],
   "source": [
    "# TODO: replace the content of this cell with your Python solution\n",
    "raise NotImplementedError\n"
   ]
  },
  {
   "cell_type": "markdown",
   "id": "95097012",
   "metadata": {},
   "source": [
    "## *STOP PLEASE. THE FOLLOWING IS FOR THE NEXT EXERCISE. THANKS.*\n"
   ]
  },
  {
   "cell_type": "markdown",
   "id": "310cf040",
   "metadata": {},
   "source": [
    "# EXERCISE 2: Encapsulation, Private Attributes and Class Variables \n",
    "\n",
    "- In object-oriented programming, encapsulation is the idea of bundling the data (attributes) and methods (functions) that operate on the data into a single unit known as a class. This helps in hiding the internal details of an object and exposing only what is necessary for external use.\n",
    "\n",
    "- In Python, a double leading underscore (__) is a convention used to indicate that an attribute is \"private,\" suggesting that it should not be accessed directly from outside the class. Attempting to access such attributes directly will result in an AttributeError.\n",
    "\n",
    "## Example 2.1: Private data\n"
   ]
  },
  {
   "cell_type": "code",
   "execution_count": null,
   "id": "505a8d3a",
   "metadata": {},
   "outputs": [],
   "source": [
    "class MyClass:\n",
    "    def __init__(self, private_data):\n",
    "        self.__private_data = private_data\n",
    "\n",
    "# Creating an instance of MyClass\n",
    "my_object = MyClass(\"Secret Information\")\n",
    "\n",
    "# Attempting to access the private attribute directly (will result in an error)\n",
    "try:\n",
    "    print(my_object.__private_data)\n",
    "except AttributeError as e:\n",
    "    print(f\"Error: {e}\")\n"
   ]
  },
  {
   "cell_type": "markdown",
   "id": "c70cb6ef",
   "metadata": {},
   "source": [
    "## Exapmple 2.2: Bank Account Class with Private Attributes\n",
    "\n",
    "- This example showcases the use of private attributes, getter and setter methods, and access control, reinforcing the principles of encapsulation and information hiding in object-oriented programming.\n",
    "- In this example, we've created a BankAccount class to illustrate the use of encapsulation, private attributes, and access control in Python.\n",
    "\n",
    "- Class Definition:\n",
    "\n",
    "    -  The BankAccount class encapsulates the concept of a bank account, bundling attributes and methods within a cohesive unit.\n",
    "\n",
    "- Private Attributes:\n",
    "\n",
    "    - Private attributes __account_holder and __balance are marked with double underscores, making them truly private. This reinforces the idea of information hiding, limiting direct external access to these attributes.\n",
    "\n",
    "- Getter and Setter Methods:\n",
    "\n",
    "    - Getter methods (get_account_holder and get_balance) are provided to access the private attributes indirectly, promoting controlled access.\n",
    "    - Setter method (set_account_holder) allows modification of the private attribute __account_holder.\n",
    "\n",
    "- Static Variable:\n",
    "\n",
    "    - The class variable __total_accounts is marked as private and static, keeping track of the total number of bank accounts created.\n",
    "    \n",
    "- Error Handling:\n",
    "\n",
    "    - Attempting to directly access private attributes from outside the class results in an AttributeError. This emphasizes the importance of encapsulation and controlled access.\n",
    "\n",
    "- String Representation:\n",
    "\n",
    "    - The __str__ method is implemented to provide a meaningful string representation of the BankAccount object when printed."
   ]
  },
  {
   "cell_type": "code",
   "execution_count": null,
   "id": "2972a562",
   "metadata": {},
   "outputs": [],
   "source": [
    "class BankAccount:\n",
    "    # Class variable\n",
    "    __total_accounts = 0\n",
    "\n",
    "    def __init__(self, account_holder, balance):\n",
    "        # Private attributes\n",
    "        self.__account_holder = account_holder\n",
    "        self.__balance = balance\n",
    "\n",
    "        # Increment the total number of accounts\n",
    "        BankAccount.__total_accounts += 1\n",
    "\n",
    "    # Getter methods\n",
    "    def get_account_holder(self):\n",
    "        return self.__account_holder\n",
    "\n",
    "    def get_balance(self):\n",
    "        return self.__balance\n",
    "\n",
    "    @staticmethod\n",
    "    def get_total_accounts():\n",
    "        return BankAccount.__total_accounts\n",
    "\n",
    "    # Setter methods\n",
    "    def set_account_holder(self, account_holder):\n",
    "        self.__account_holder = account_holder\n",
    "\n",
    "    def deposit(self, amount):\n",
    "        if amount > 0:\n",
    "            self.__balance += amount\n",
    "            print(f\"Deposited ${amount}. New balance: ${self.__balance}\")\n",
    "        else:\n",
    "            print(\"Invalid deposit amount.\")\n",
    "\n",
    "    def withdraw(self, amount):\n",
    "        if amount > 0 and amount <= self.__balance:\n",
    "            self.__balance -= amount\n",
    "            print(f\"Withdrew ${amount}. New balance: ${self.__balance}\")\n",
    "        else:\n",
    "            print(\"Invalid withdrawal amount or insufficient funds.\")\n",
    "\n",
    "    # __str__ method for string representation\n",
    "    def __str__(self):\n",
    "        return f\"BankAccount(Account Holder: {self.__account_holder}, Balance: ${self.__balance})\"\n",
    "\n",
    "\n"
   ]
  },
  {
   "cell_type": "markdown",
   "id": "6568f9ee",
   "metadata": {},
   "source": [
    "- Example Usage:\n",
    "\n",
    "    - Instances of the BankAccount class are created, and operations such as deposits, withdrawals, and access to account information are demonstrated.\n",
    "\n"
   ]
  },
  {
   "cell_type": "code",
   "execution_count": null,
   "id": "bf2e1e3a",
   "metadata": {},
   "outputs": [],
   "source": [
    "# Example usage\n",
    "account1 = BankAccount(\"Alice\", 1000)\n",
    "account2 = BankAccount(\"Bob\", 500)\n",
    "\n",
    "# Attempting to directly access private attributes (will result in an error)\n",
    "try:\n",
    "    print(account1.__account_holder)\n",
    "except AttributeError as e:\n",
    "    print(f\"Error: {e}\")\n",
    "\n",
    "# Accessing private attributes using getter methods\n",
    "print(f\"Account 1 - Holder: {account1.get_account_holder()}, Balance: ${account1.get_balance()}\")\n",
    "\n",
    "# Setting new values using setter methods\n",
    "account1.set_account_holder(\"Alicia\")\n",
    "\n",
    "# Accessing updated values using getter methods\n",
    "print(f\"Account 1 (Updated) - Holder: {account1.get_account_holder()}, Balance: ${account1.get_balance()}\")\n",
    "\n",
    "# Accessing static variable using static method\n",
    "print(f\"Total Accounts: {BankAccount.get_total_accounts()}\")\n",
    "\n",
    "# Using __str__ method for string representation\n",
    "print(account1)\n",
    "print(account2)"
   ]
  },
  {
   "cell_type": "markdown",
   "id": "0de134f8",
   "metadata": {},
   "source": [
    "\n",
    "## Question 2.1: Product Inventory System\n",
    "\n",
    "- Create a Product Inventory System using a Python class, Product. The program represents individual products with attributes such as product ID, name, price, and quantity. To enhance the design, a class variable is introduced to track the total number of products created. The exercise focuses on encapsulation, information hiding, and the use of class variables.\n",
    "\n",
    "\n",
    "\n",
    "    - Define a Product class with private attributes, including __product_id, __name, __price, and __quantity. The double underscores signify their private nature.\n",
    "\n",
    "    - Implement setter and getter methods for controlled access to these attributes.\n",
    "\n",
    "    - Introduce a class variable __total_products to track the overall number of products created. This variable is updated each time a new product instance is added.\n",
    "\n",
    "\n",
    "    - Implement the __str__ method in the Product class to offer a clear and informative string representation when printing product objects.\n",
    "\n",
    "    - Include error-handling mechanisms within setter methods to manage cases where incorrect inputs, such as negative prices or quantities, are provided.\n"
   ]
  },
  {
   "cell_type": "code",
   "execution_count": null,
   "id": "f0cf94cd",
   "metadata": {},
   "outputs": [],
   "source": [
    "#TODO replace the content of this cell with your Python solution.\n",
    "raise NotImplementedError"
   ]
  },
  {
   "cell_type": "markdown",
   "id": "2d5048ca",
   "metadata": {},
   "source": [
    "# STOP PLEASE. THE FOLLOWING IS FOR THE NEXT EXERCISE. THANKS.\n",
    "\n",
    "# EXERCISE 3: Inheritance and Composition\n",
    "\n",
    "## Inheritance \n",
    "\n",
    "- Inheritance is a fundamental concept in object-oriented programming that allows a new class (subclass) to inherit attributes and methods from an existing class (superclass). Here's an example code demonstrating inheritance in Python:"
   ]
  },
  {
   "cell_type": "code",
   "execution_count": null,
   "id": "5040f38c",
   "metadata": {},
   "outputs": [],
   "source": [
    "# Parent class (Base class)\n",
    "class Animal:\n",
    "    def __init__(self, name, species):\n",
    "        self.name = name\n",
    "        self.species = species\n",
    "\n",
    "    def make_sound(self):\n",
    "        print(\"Some generic animal sound\")\n",
    "\n",
    "# Child class (Derived class) inheriting from Animal\n",
    "class Dog(Animal):\n",
    "    def __init__(self, name, breed):\n",
    "        # Call the constructor of the parent class\n",
    "        super().__init__(name, species=\"Dog\")\n",
    "        self.breed = breed\n",
    "\n",
    "    # Override the make_sound method\n",
    "    def make_sound(self):\n",
    "        print(\"Woof! Woof!\")\n",
    "\n",
    "# Child class (Derived class) inheriting from Animal\n",
    "class Cat(Animal):\n",
    "    def __init__(self, name, color):\n",
    "        # Call the constructor of the parent class\n",
    "        super().__init__(name, species=\"Cat\")\n",
    "        self.color = color\n",
    "\n",
    "    # Override the make_sound method\n",
    "    def make_sound(self):\n",
    "        print(\"Meow!\")\n",
    "\n",
    "\n"
   ]
  },
  {
   "cell_type": "markdown",
   "id": "77223e81",
   "metadata": {},
   "source": [
    "- In this example, Dog and Cat are subclasses that inherit from the Animal class. They override the make_sound method to provide specific implementations for each subclass. The super() function is used to call the constructor of the parent class (Animal)."
   ]
  },
  {
   "cell_type": "code",
   "execution_count": null,
   "id": "b22d7459",
   "metadata": {},
   "outputs": [],
   "source": [
    "# Creating instances of the derived classes\n",
    "dog_instance = Dog(name=\"Buddy\", breed=\"Labrador\")\n",
    "cat_instance = Cat(name=\"Whiskers\", color=\"Calico\")\n",
    "\n",
    "# Accessing properties and methods of the instances\n",
    "print(f\"{dog_instance.name} is a {dog_instance.species} of breed {dog_instance.breed}.\")\n",
    "dog_instance.make_sound()\n",
    "\n",
    "print(f\"{cat_instance.name} is a {cat_instance.species} with {cat_instance.color} fur.\")\n",
    "cat_instance.make_sound()"
   ]
  },
  {
   "cell_type": "markdown",
   "id": "0f596db3",
   "metadata": {},
   "source": [
    "### Question 3.1: Vehicle Hierarchy\n",
    "- Design a system to represent different types of vehicles. Implement a Python program that utilizes the concept of inheritance to create a hierarchy of vehicles. Your hierarchy should include a base class Vehicle and at least two derived classes, such as Car and Motorcycle. Each class should have appropriate attributes and methods.\n",
    "\n",
    "- Consider including the following aspects in your implementation:\n",
    "\n",
    "    - Base Class: Vehicle\n",
    "\n",
    "        - Attributes: make (string), model (string), year (integer).\n",
    "        - Methods:\n",
    "            - __init__ (constructor) - Initializes the vehicle attributes.\n",
    "            - display_info - Displays information about the vehicle.\n",
    "\n",
    "    - Derived Class: Car\n",
    "\n",
    "        - Additional Attributes: num_doors (integer), fuel_type (string).\n",
    "        - Additional Methods:\n",
    "            - start_engine - Simulates starting the car's engine.\n",
    "            - display_info (override) - Overrides the base class method to include car-specific information.\n",
    "\n",
    "    - Derived Class: Motorcycle\n",
    "\n",
    "        - Additional Attributes: num_wheels (integer), has_kickstand (boolean).\n",
    "        - Additional Methods:\n",
    "            - ride - Simulates riding the motorcycle.\n",
    "            - display_info (override) - Overrides the base class method to include motorcycle-specific information.\n"
   ]
  },
  {
   "cell_type": "code",
   "execution_count": null,
   "id": "83ad86d3",
   "metadata": {},
   "outputs": [],
   "source": [
    "#TODO replace the content of this cell with your Python solution.\n",
    "raise NotImplementedError"
   ]
  },
  {
   "cell_type": "markdown",
   "id": "689a57f6",
   "metadata": {},
   "source": [
    "## Composition \n",
    "\n",
    "- In object-oriented programming (OOP), composition is a fundamental concept that allows you to model relationships between classes in a flexible and modular way. Composition enables one class to contain an instance of another class as a part or component. This relationship is often referred to as a \"has-a\" relationship, indicating that an object of one class has another object as a component. Here's an example code demonstrating composition in Python:"
   ]
  },
  {
   "cell_type": "code",
   "execution_count": null,
   "id": "c84fec1c",
   "metadata": {},
   "outputs": [],
   "source": [
    "class Address:\n",
    "    def __init__(self, street, city, state, zip_code):\n",
    "        self.street = street\n",
    "        self.city = city\n",
    "        self.state = state\n",
    "        self.zip_code = zip_code\n",
    "\n",
    "    def display_info(self):\n",
    "        print(f\"Address: {self.street}, {self.city}, {self.state} {self.zip_code}\")\n",
    "\n",
    "\n",
    "class Person:\n",
    "    def __init__(self, name, age, email, address):\n",
    "        self.name = name\n",
    "        self.age = age\n",
    "        self.email = email\n",
    "        self.address = address  # Composition Relationship\n",
    "\n",
    "    def display_info(self):\n",
    "        print(f\"Name: {self.name}, Age: {self.age}, Email: {self.email}\")\n",
    "        self.address.display_info()\n",
    "\n",
    "\n",
    "# Test the classes\n",
    "person_address = Address(\"123 Main St\", \"Cityville\", \"Stateville\", \"12345\")\n",
    "person = Person(\"John Doe\", 30, \"john@example.com\", person_address)\n",
    "\n",
    "person.display_info()\n"
   ]
  },
  {
   "cell_type": "markdown",
   "id": "d603558b",
   "metadata": {},
   "source": [
    "## Qestion 3.2:  Library System\n",
    "\n",
    "\n",
    "In this exercise, you are tasked with designing a simplified library system using the concept of composition in object-oriented programming.\n",
    "\n",
    "#### Class: `Book`\n",
    "Create a `Book` class that represents a book in the library. Include attributes such as `title`, `author`, and `ISBN`. Implement a method `display_info` to showcase information about the book.\n",
    "\n",
    "#### Class: `Author`\n",
    "Design an `Author` class to represent the author of a book. Include attributes like `name`, `birth_date`, and `nationality`. Implement a method `display_info` for the author's information.\n",
    "\n",
    "#### Composition Relationship: `Library`\n",
    "Create a `Library` class that represents the library itself. The `Library` class should be composed of instances of the `Book` class. Each book in the library is an object of the `Book` class.\n",
    "\n",
    "#### Method in `Library`: `display_books`\n",
    "Implement a method in the `Library` class called `display_books` that displays information about all the books in the library. This method should call the `display_info` method for each book.\n",
    "\n",
    "#### Method in `Library`: `display_authors`\n",
    "Extend the `Library` class by implementing a method called `display_authors` that displays information about all the authors in the library. This method should call the `display_info` method for each author.\n",
    "\n",
    "**Example Usage:**\n",
    "```python\n",
    "# Create instances of Book and Author\n",
    "book1 = Book(\"The Catcher in the Rye\", \"J.D. Salinger\", \"978-0-316-76948-0\")\n",
    "author1 = Author(\"J.D. Salinger\", \"January 1, 1919\", \"American\")\n",
    "\n",
    "book2 = Book(\"To Kill a Mockingbird\", \"Harper Lee\", \"978-0-06-112008-4\")\n",
    "author2 = Author(\"Harper Lee\", \"April 28, 1926\", \"American\")\n",
    "\n",
    "# Create a Library and add books to it\n",
    "library = Library()\n",
    "library.add_book(book1)\n",
    "library.add_book(book2)\n",
    "\n",
    "# Display information about books and authors in the library\n",
    "library.display_books()\n",
    "library.display_authors()\n"
   ]
  },
  {
   "cell_type": "code",
   "execution_count": null,
   "id": "6e872c5a",
   "metadata": {},
   "outputs": [],
   "source": [
    "#TODO replace the content of this cell with your Python solution.\n",
    "raise NotImplementedError\n"
   ]
  },
  {
   "cell_type": "markdown",
   "id": "21673274",
   "metadata": {},
   "source": [
    "# End of Tutorial. Many Thanks."
   ]
  },
  {
   "cell_type": "code",
   "execution_count": null,
   "id": "210775ab",
   "metadata": {},
   "outputs": [],
   "source": []
  }
 ],
 "metadata": {
  "kernelspec": {
   "display_name": "Python 3 (ipykernel)",
   "language": "python",
   "name": "python3"
  },
  "language_info": {
   "codemirror_mode": {
    "name": "ipython",
    "version": 3
   },
   "file_extension": ".py",
   "mimetype": "text/x-python",
   "name": "python",
   "nbconvert_exporter": "python",
   "pygments_lexer": "ipython3",
   "version": "3.11.5"
  }
 },
 "nbformat": 4,
 "nbformat_minor": 5
}
