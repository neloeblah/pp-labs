{
 "cells": [
  {
   "cell_type": "markdown",
   "id": "917fe41c",
   "metadata": {},
   "source": [
    "#  Conditionals, Lists and Loops\n",
    "\n",
    "# EXERCISE 1: \n",
    "## if statements\n",
    "As you move on to create more and more complex programs, you will find that some operations are only necessary in the case that certain conditions are true. There isn't much of a reason, for example, to take an umbrella with you outside if it isn't raining - or to fill up a bottle with water if it is already full. \n",
    "\n",
    "Control flow statements allow us to create programs that can make decisions based on the validity of certain conditions, and it is through them that we can create more sophisticated programs that can deal with more complex problems.\n",
    "\n",
    "Here's a quick example:"
   ]
  },
  {
   "cell_type": "code",
   "execution_count": null,
   "id": "46a7d5a0",
   "metadata": {},
   "outputs": [],
   "source": [
    "money_in_wallet = 5\n",
    "price_of_pen = 2\n",
    "\n",
    "if price_of_pen <= money_in_wallet:\n",
    "    print(\"I will buy the pen!\")\n",
    "\n",
    "print(\"I have finished my shopping\")"
   ]
  },
  {
   "cell_type": "markdown",
   "id": "d761a1c4",
   "metadata": {},
   "source": [
    "Try changing the values of money_in_wallet and price_of_pen and see what happens!\n",
    "\n"
   ]
  },
  {
   "cell_type": "markdown",
   "id": "0112074f",
   "metadata": {},
   "source": [
    "## else and elif\n",
    "\n",
    "Building on top of what we have established with IF statements, the else keyword allows us to provide the program with another path to follow. Consider the following example:"
   ]
  },
  {
   "cell_type": "code",
   "execution_count": null,
   "id": "dc8be336",
   "metadata": {},
   "outputs": [],
   "source": [
    "number = -10\n",
    "\n",
    "if number < 0:\n",
    "    print(\"We have a negative number!\")\n",
    "else:\n",
    "    print(\"We have a positive number, that's great!\")\n",
    "\n",
    "\n",
    "print(\"Our number is {}!\".format(number))"
   ]
  },
  {
   "cell_type": "markdown",
   "id": "627654ac",
   "metadata": {},
   "source": [
    "Observe that the block of code underneath our else keyword (line 6) will only execute in the case that our if statement does not trigger. It will be executed in place of line 4 if number < 0 evaluates as False.\n",
    "\n",
    "Now the natural combination of these two ideas gives us the elif statement: literally \"else if\". This is a reasonably intuitive statement: like else, it will only execute if a previous if statement does not trigger - but it also allows us to set conditions for its activation, just like an if statement."
   ]
  },
  {
   "cell_type": "code",
   "execution_count": null,
   "id": "82891a47",
   "metadata": {},
   "outputs": [],
   "source": [
    "holding = \"Greens\"\n",
    "\n",
    "if holding == \"greens\":\n",
    "    print(\"I am holding greeeeens.\")\n",
    "\n",
    "elif holding == \"reds\":\n",
    "    print(\"I am holding redsssss.\")\n",
    "\n",
    "elif holding == \"Greens\":\n",
    "    # You can stack as many elifs as is necessary!\n",
    "    print(\"I am holding onto some Greens (with a capital G!)\")\n",
    "\n",
    "elif holding == \"so many elifs\":\n",
    "    print(\"We'll probably never print this!\")\n",
    "\n",
    "else:\n",
    "    # else works at the end of any if/elif statement!\n",
    "    print(\"I am not holding anything :(\")"
   ]
  },
  {
   "cell_type": "markdown",
   "id": "34aeeb2a",
   "metadata": {},
   "source": [
    "# Here are some exercises to practice if, else and elif\n",
    "\n",
    "## Question 1.1: Shopping\n",
    "- Write a program that will compare the prices of two identical products of different quantities, and tell us which option is cheaper per unit. \n",
    "- For example, it is cheaper to buy 12 pens for \\\\$11 rather than 10 pens for \\\\$10. (12 pens for \\\\$11 → 91c per pen, 10 pens for \\\\$10 → \\\\$1 per pen)\n",
    "\n",
    "- The program should print Option A, then ask Quantity:  and Price:, which the user will fill out. The same should happen for Option B. It program then tells us which item was cheaper.\n",
    "\n",
    "Examples\n",
    "\n",
    "\n",
    "Option A\n",
    "\n",
    "Quantity: 10\n",
    "\n",
    "Price: 10\n",
    "\n",
    "Option B\n",
    "\n",
    "Quantity: 12\n",
    "\n",
    "Price: 11\n",
    "\n",
    "Option B is cheaper!\n"
   ]
  },
  {
   "cell_type": "code",
   "execution_count": null,
   "id": "a67d8ad1",
   "metadata": {},
   "outputs": [],
   "source": [
    "# TODO: replace the content of this cell with your Python solution\n",
    "raise NotImplementedError"
   ]
  },
  {
   "cell_type": "markdown",
   "id": "45a4b553",
   "metadata": {},
   "source": [
    "## Eligibility Checker\n",
    "\n",
    "Ask the user to input their age and whether they have a valid driver's license (yes or no). Check the following conditions and print an eligibility message:\n",
    "\n",
    "- If the person is 18 or older and has a valid driver's license, print \"You are eligible to drive.\"\n",
    "- If the person is 18 or older but does not have a valid driver's license, print \"You need a valid driver's license to drive.\"\n",
    "- If the person is under 18, print \"You are not eligible to drive.\""
   ]
  },
  {
   "cell_type": "code",
   "execution_count": null,
   "id": "e1d3763e",
   "metadata": {},
   "outputs": [],
   "source": [
    "#TODO replace the content of this cell with your Python solution.\n",
    "raise NotImplementedError"
   ]
  },
  {
   "cell_type": "markdown",
   "id": "e5d5f2be",
   "metadata": {},
   "source": [
    "## Question 1.3: Ticket Price Calculator\n",
    "\n",
    "Ask the user to input their age and whether they are a student (yes or no). Implement the following ticket price calculation:\n",
    "\n",
    "- If the person is under 12 years old, the ticket price is \\\\$5.\n",
    "- If the person is 12 to 17 years old (inclusive) and a student, the ticket price is \\\\$8.\n",
    "- If the person is 12 to 17 years old (inclusive) and not a student, the ticket price is \\\\$10.\n",
    "- If the person is 18 or older and a student, the ticket price is \\\\$12.\n",
    "- If the person is 18 or older and not a student, the ticket price is \\\\$15.\n",
    "- Print the calculated ticket price."
   ]
  },
  {
   "cell_type": "code",
   "execution_count": null,
   "id": "f41f311a",
   "metadata": {},
   "outputs": [],
   "source": [
    "#TODO replace the content of this cell with your Python solution.\n",
    "raise NotImplementedError"
   ]
  },
  {
   "cell_type": "markdown",
   "id": "95097012",
   "metadata": {},
   "source": [
    "## *STOP PLEASE. THE FOLLOWING IS FOR THE NEXT EXERCISE. THANKS.*\n"
   ]
  },
  {
   "cell_type": "markdown",
   "id": "310cf040",
   "metadata": {},
   "source": [
    "# EXERCISE 2: \n",
    "## Range \n",
    "\n"
   ]
  },
  {
   "cell_type": "markdown",
   "id": "4254fe5d",
   "metadata": {},
   "source": [
    "### Example 1: Default Start and Step"
   ]
  },
  {
   "cell_type": "code",
   "execution_count": null,
   "id": "f6f1fcab",
   "metadata": {},
   "outputs": [],
   "source": [
    "# Syntax: range(stop)\n",
    "result1 = list(range(5))\n",
    "print(result1)  # Output: [0, 1, 2, 3, 4]\n"
   ]
  },
  {
   "cell_type": "markdown",
   "id": "85bb99ab",
   "metadata": {},
   "source": [
    "### Example 2: Specify Start and Stop"
   ]
  },
  {
   "cell_type": "code",
   "execution_count": null,
   "id": "41451a15",
   "metadata": {},
   "outputs": [],
   "source": [
    "# Syntax: range(start, stop)\n",
    "result2 = list(range(2, 8))\n",
    "print(result2)  # Output: [2, 3, 4, 5, 6, 7]\n"
   ]
  },
  {
   "cell_type": "markdown",
   "id": "5dcde055",
   "metadata": {},
   "source": [
    "### Example 3: Specify Start, Stop, and Step"
   ]
  },
  {
   "cell_type": "code",
   "execution_count": null,
   "id": "b1657b81",
   "metadata": {},
   "outputs": [],
   "source": [
    "# Syntax: range(start, stop, step)\n",
    "result3 = list(range(1, 10, 2))\n",
    "print(result3)  # Output: [1, 3, 5, 7, 9]\n"
   ]
  },
  {
   "cell_type": "markdown",
   "id": "256cdd2d",
   "metadata": {},
   "source": [
    "### Example 4: Reverse Order"
   ]
  },
  {
   "cell_type": "code",
   "execution_count": null,
   "id": "e4d9d87d",
   "metadata": {},
   "outputs": [],
   "source": [
    "result4 = list(range(10, 0, -1))\n",
    "print(result4)  # Output: [10, 9, 8, 7, 6, 5, 4, 3, 2, 1]\n"
   ]
  },
  {
   "cell_type": "markdown",
   "id": "54df4592",
   "metadata": {},
   "source": [
    "### Example 5: Empty Range\n"
   ]
  },
  {
   "cell_type": "code",
   "execution_count": null,
   "id": "ce3532d2",
   "metadata": {},
   "outputs": [],
   "source": [
    "result5 = list(range(10, 5))  # No elements because start is greater than stop\n",
    "print(result5)  # Output: []"
   ]
  },
  {
   "cell_type": "markdown",
   "id": "ed7a8532",
   "metadata": {},
   "source": [
    "### Example 6: Sum of Even Numbers"
   ]
  },
  {
   "cell_type": "code",
   "execution_count": null,
   "id": "e5e63cd7",
   "metadata": {},
   "outputs": [],
   "source": [
    "\n",
    "even_numbers = list(range(2, 21, 2))\n",
    "even_sum = sum(even_numbers)\n",
    "print(\"Sum of even numbers:\", even_sum)\n"
   ]
  },
  {
   "cell_type": "markdown",
   "id": "012cc271",
   "metadata": {},
   "source": [
    "### LIST\n",
    "- A list is a collection of arbitrary objects. Each object is called an element of the list and can be accessed using an index, starting from 0. Elements in a list can be different data types. Lists are mutable objects. This means that we can change its elements by accessing them directly in an assignment statement. We can also add or remove elements from the list.\n",
    "\n",
    "- Try out the following piece of code. Note: Don't name your variable list since it is a built-in function in Python!\n",
    "\n",
    "## Question 2.1:"
   ]
  },
  {
   "cell_type": "code",
   "execution_count": null,
   "id": "cc016212",
   "metadata": {},
   "outputs": [],
   "source": [
    "ls = [\"red\", \"orange\", \"yellow\", \"green\", \"blue\", \"pink\"]\n",
    "print(ls[0])"
   ]
  },
  {
   "cell_type": "markdown",
   "id": "ef2c1008",
   "metadata": {},
   "source": [
    "- Change the index to print out other elements. What happens if you try print(ls[6])?\n",
    "\n",
    "- What happens if you try print(ls[-1])? What about other negative numbers?\n",
    "\n",
    "- Change \"pink\" to \"indigo\" so that you get a proper rainbow! \n",
    "\n",
    "- Try ls.append(\"rainbow\") before the print statement. What does append() do?"
   ]
  },
  {
   "cell_type": "code",
   "execution_count": null,
   "id": "f0cf94cd",
   "metadata": {},
   "outputs": [],
   "source": [
    "#TODO replace the content of this cell with your Python solution.\n",
    "raise NotImplementedError"
   ]
  },
  {
   "cell_type": "markdown",
   "id": "b770e76d",
   "metadata": {},
   "source": [
    "## Question 2.2: List Methods\n",
    "\n",
    "- Create a list of numbers from 1 to 5.\n",
    "- Use the append() method to add the number 6 to the end of the list.\n",
    "- Use the insert() method to add the number 0 at the beginning of the list.\n",
    "- Use the remove() method to remove the number 3 from the list.\n",
    "- Print the final modified list.\n",
    "- Use the sort() method to sort the list alphabetically.\n",
    "- Print the sorted list.\n",
    "- Use the reverse() method to reverse the order of the list.\n",
    "- Print the reversed list.\n",
    "- Use the append() method to add the 'red' to the end of the list.\n",
    "- Check if 'red' is in the list and print the result.\n",
    "- Check if 'green' is not in the list and print the result.\n",
    "- Use list slicing to print the first three elements.\n",
    "- Use list slicing to print the last three elements.\n",
    "- Use list slicing to print every second element.\n",
    "- Create a shallow copy of the list and store it in a new variable.\n",
    "- Modify an element in the original list and print both lists to observe the difference."
   ]
  },
  {
   "cell_type": "code",
   "execution_count": null,
   "id": "cfe5b381",
   "metadata": {},
   "outputs": [],
   "source": [
    "#TODO replace the content of this cell with your Python solution.\n",
    "raise NotImplementedError"
   ]
  },
  {
   "cell_type": "markdown",
   "id": "2d5048ca",
   "metadata": {},
   "source": [
    "# STOP PLEASE. THE FOLLOWING IS FOR THE NEXT EXERCISE. THANKS.\n",
    "## EXERCISE 3: Loops\n",
    "\n",
    "## while Loops"
   ]
  },
  {
   "cell_type": "markdown",
   "id": "dff8ad98",
   "metadata": {},
   "source": [
    "### Example 1: Countdown\n"
   ]
  },
  {
   "cell_type": "code",
   "execution_count": null,
   "id": "5040f38c",
   "metadata": {},
   "outputs": [],
   "source": [
    "countdown = 10\n",
    "while countdown > 0:\n",
    "    print(countdown)\n",
    "    countdown -= 1\n"
   ]
  },
  {
   "cell_type": "markdown",
   "id": "2904acb7",
   "metadata": {},
   "source": [
    "### Example 2: Even Numbers"
   ]
  },
  {
   "cell_type": "code",
   "execution_count": null,
   "id": "b22d7459",
   "metadata": {},
   "outputs": [],
   "source": [
    "number = 2\n",
    "while number <= 10:\n",
    "    print(number)\n",
    "    number += 2\n"
   ]
  },
  {
   "cell_type": "markdown",
   "id": "76394b61",
   "metadata": {},
   "source": [
    "### Example 3: User Input"
   ]
  },
  {
   "cell_type": "code",
   "execution_count": null,
   "id": "d5ff4cd1",
   "metadata": {},
   "outputs": [],
   "source": [
    "\n",
    "sum_of_numbers = 0\n",
    "while True:\n",
    "    user_input = int(input(\"Enter a number (enter a negative number to stop): \"))\n",
    "    if user_input < 0:\n",
    "        break\n",
    "    sum_of_numbers += user_input\n",
    "print(\"Sum of entered numbers:\", sum_of_numbers)\n"
   ]
  },
  {
   "cell_type": "markdown",
   "id": "60e5c546",
   "metadata": {},
   "source": [
    "### Example 4: Password Checker"
   ]
  },
  {
   "cell_type": "code",
   "execution_count": null,
   "id": "12194ff1",
   "metadata": {},
   "outputs": [],
   "source": [
    "# Exercise 4: Password Checker\n",
    "correct_password = \"password123\"\n",
    "while True:\n",
    "    user_password = input(\"Enter the password: \")\n",
    "    if user_password == correct_password:\n",
    "        print(\"Correct password! Access granted.\")\n",
    "        break\n",
    "    else:\n",
    "        print(\"Incorrect password. Try again.\")\n"
   ]
  },
  {
   "cell_type": "markdown",
   "id": "0f596db3",
   "metadata": {},
   "source": [
    "## Question 3.1: Factorial Calculation:\n",
    "- Write a program that calculates the factorial of a number entered by the user using a while loop.\n",
    "\n"
   ]
  },
  {
   "cell_type": "code",
   "execution_count": null,
   "id": "edd7744b",
   "metadata": {},
   "outputs": [],
   "source": [
    "#TODO replace the content of this cell with your Python solution.\n",
    "raise NotImplementedError"
   ]
  },
  {
   "cell_type": "markdown",
   "id": "49b6f0e5",
   "metadata": {},
   "source": [
    "## Question 3.2: Guess the Number\n",
    "\n",
    "- Write a program that generates a random number between 1 and 20 (inclusive) and asks the user to guess the number. Provide hints whether the user's guess is too high, too low, or correct. Continue the game until the user guesses the correct number."
   ]
  },
  {
   "cell_type": "code",
   "execution_count": null,
   "id": "6e872c5a",
   "metadata": {},
   "outputs": [],
   "source": [
    "#TODO replace the content of this cell with your Python solution.\n",
    "raise NotImplementedError"
   ]
  },
  {
   "cell_type": "markdown",
   "id": "a5e02b80",
   "metadata": {},
   "source": [
    "# for Loops"
   ]
  },
  {
   "cell_type": "markdown",
   "id": "c649a620",
   "metadata": {},
   "source": [
    "### Example 1: Print Numbers"
   ]
  },
  {
   "cell_type": "code",
   "execution_count": null,
   "id": "1a6f980b",
   "metadata": {},
   "outputs": [],
   "source": [
    "for number in range(1, 6):\n",
    "    print(number)\n"
   ]
  },
  {
   "cell_type": "markdown",
   "id": "0a0cb25d",
   "metadata": {},
   "source": [
    "### Example 2: Sum of Squares"
   ]
  },
  {
   "cell_type": "code",
   "execution_count": null,
   "id": "a0640a8a",
   "metadata": {},
   "outputs": [],
   "source": [
    "sum_of_squares = 0\n",
    "for number in range(1, 6):\n",
    "    sum_of_squares += number ** 2\n",
    "print(\"Sum of squares:\", sum_of_squares)\n"
   ]
  },
  {
   "cell_type": "markdown",
   "id": "1dc4ccb1",
   "metadata": {},
   "source": [
    "### Example 3: Reverse List"
   ]
  },
  {
   "cell_type": "code",
   "execution_count": null,
   "id": "9a0aa5db",
   "metadata": {},
   "outputs": [],
   "source": [
    "my_list = [1, 2, 3, 4, 5]\n",
    "for element in reversed(my_list):\n",
    "    print(element)\n"
   ]
  },
  {
   "cell_type": "markdown",
   "id": "b298d80c",
   "metadata": {},
   "source": [
    "### Example 4: String Concatenation"
   ]
  },
  {
   "cell_type": "code",
   "execution_count": null,
   "id": "9bc34ecf",
   "metadata": {},
   "outputs": [],
   "source": [
    "word = \"Python\"\n",
    "for char in word:\n",
    "    print(char + \" is a letter.\")\n"
   ]
  },
  {
   "cell_type": "markdown",
   "id": "fb413ed8",
   "metadata": {},
   "source": [
    "## Question 3.3: Investment with Annual Contributions\n",
    "- Write a program that calculates the future value of an investment with annual contributions. Ask the user to input the principal amount, annual interest rate, the number of years, and the annual contribution. Use a for loop to calculate the future value for each year.\n",
    "\n"
   ]
  },
  {
   "cell_type": "code",
   "execution_count": null,
   "id": "ba56fe67",
   "metadata": {},
   "outputs": [],
   "source": [
    "#TODO replace the content of this cell with your Python solution.\n",
    "raise NotImplementedError"
   ]
  },
  {
   "cell_type": "markdown",
   "id": "522b13d5",
   "metadata": {},
   "source": [
    "\n",
    "### Question 3.4: Prime Numbers\n",
    "\n",
    "- Write a program to find and print all prime numbers within a specified range. Ask the user to input the starting and ending values of the range, and then use a for loop to identify and print the prime numbers in that range."
   ]
  },
  {
   "cell_type": "code",
   "execution_count": null,
   "id": "eaeddee7",
   "metadata": {},
   "outputs": [],
   "source": [
    "#TODO replace the content of this cell with your Python solution.\n",
    "raise NotImplementedError"
   ]
  },
  {
   "cell_type": "markdown",
   "id": "9f402197",
   "metadata": {},
   "source": [
    "# End of Tutorial. Many Thanks."
   ]
  }
 ],
 "metadata": {
  "kernelspec": {
   "display_name": "Python 3 (ipykernel)",
   "language": "python",
   "name": "python3"
  },
  "language_info": {
   "codemirror_mode": {
    "name": "ipython",
    "version": 3
   },
   "file_extension": ".py",
   "mimetype": "text/x-python",
   "name": "python",
   "nbconvert_exporter": "python",
   "pygments_lexer": "ipython3",
   "version": "3.11.5"
  }
 },
 "nbformat": 4,
 "nbformat_minor": 5
}
