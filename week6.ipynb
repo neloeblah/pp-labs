{
 "cells": [
  {
   "cell_type": "markdown",
   "id": "917fe41c",
   "metadata": {},
   "source": [
    "#  Web Scraping and API\n",
    "\n",
    "# EXERCISE 1: Scraping Data from a Website\n",
    "\n",
    "\n",
    "In the lecture, we demonstrated how to extract data from a given website. In this tutorial, we will learn how to do so with Python.\n",
    "\n",
    "We will use the following Python libraries:\n",
    "- **Request**         for interacting with websites and web services\n",
    "- **Beautiful Soup**  for webpage parsing"
   ]
  },
  {
   "cell_type": "markdown",
   "id": "cc738f6b",
   "metadata": {},
   "source": [
    "## Example 1: Web Scraping 'by hand'"
   ]
  },
  {
   "cell_type": "code",
   "execution_count": 68,
   "id": "46a7d5a0",
   "metadata": {},
   "outputs": [
    {
     "name": "stdout",
     "output_type": "stream",
     "text": [
      "<title>Python Programming</title>\n",
      "Lecturers\n",
      "\t- Ali Anaissi\n",
      "\t- Tony Huang\n",
      "\t- Masoud Pouya\n",
      "PP36122 - Python Programming\n",
      "-------------------------\n",
      "Weekly_submissions :    10\n",
      "Programming_Quiz_1 :    12\n",
      "Programming_Quiz_2 :    16\n",
      "Assignment      :    45\n",
      "-------------------------\n",
      "Final result    :    83\n"
     ]
    }
   ],
   "source": [
    "from bs4 import BeautifulSoup\n",
    "import requests\n",
    "\n",
    "\n",
    "html = \"\"\"\n",
    "<html> \n",
    "<head>  <title>Python Programming</title> </head>\n",
    "  <body>    \n",
    "    <div id =\"divCode\">\n",
    "              <h1><span class=\"uoscode\">PP36122</span> - Python Programming</h1>\n",
    "    </div>\n",
    "    <div class=\"lecturer\">Ali Anaissi</div>\n",
    "    <div class=\"lecturer\">Tony Huang</div>\n",
    "    <div class=\"lecturer\">Masoud Pouya</div>\n",
    "    <p id=\"4711\" class=\"description\">PP36122 is about</p>\n",
    "    <div id=\"results\">\n",
    "        <table class=\"data\">\n",
    "            <tr>\n",
    "                <th>Weekly submissions</th>\n",
    "                <th>Programming Quiz 1</th>\n",
    "                <th>Programming Quiz 2</th>\n",
    "                <th>Assignment</th>\n",
    "            </tr>\n",
    "            <tr>\n",
    "                <td>10</td>\n",
    "                <td>12</td>\n",
    "                <td>16</td>\n",
    "                <td>45</td>\n",
    "            </tr>\n",
    "        </table>\n",
    "    </div>\n",
    "  </body> \n",
    "</html> \n",
    "\n",
    "\"\"\"\n",
    "page_content = BeautifulSoup(html, 'lxml')\n",
    "\n",
    "#page_content = BeautifulSoup(html, 'html5lib') \n",
    "print(page_content.title)\n",
    "lecturers = page_content('div', 'lecturer')\n",
    "print(\"Lecturers\")\n",
    "for l in lecturers:\n",
    "    print(\"\\t-\",l.text)\n",
    "\n",
    "\n",
    "\n",
    "print(page_content.find('div', id='divCode').h1.text)\n",
    "data_table = page_content.find(\"table\")\n",
    "\n",
    "headers = []\n",
    "for h in data_table.find_all(\"th\"):\n",
    "    headers.append(h.string.replace(\" \", \"_\"))\n",
    " \n",
    "\n",
    "data_rows = data_table.find_all(\"tr\")\n",
    "results = {}\n",
    "column = 0\n",
    "total_marks = 0\n",
    "for v in data_rows[1].find_all(\"td\"):\n",
    "    results[ headers[column] ] = float(v.string)\n",
    "    column += 1\n",
    "    total_marks += float(v.string)\n",
    "print(25*\"-\") \n",
    "for k in results:\n",
    "    print(\"%-15s : %5d\" % (k, results[k]))\n",
    "print(25*\"-\")\n",
    "print(\"%-15s : %5d\" % (\"Final result\",total_marks))\n",
    "\n",
    "\n",
    "\n"
   ]
  },
  {
   "cell_type": "markdown",
   "id": "b373a979",
   "metadata": {},
   "source": [
    "# COVID-19 data from the NSW Health website"
   ]
  },
  {
   "cell_type": "markdown",
   "id": "603302a1",
   "metadata": {},
   "source": [
    "## Example 2: Scrape the latest COVID-19 data from the NSW Health website"
   ]
  },
  {
   "cell_type": "code",
   "execution_count": 4,
   "id": "1ae1237f",
   "metadata": {},
   "outputs": [
    {
     "data": {
      "text/plain": [
       "<title>\n",
       "\t\n",
       "\tCOVID-19 (Coronavirus) statistics - News\n",
       "\n",
       "</title>"
      ]
     },
     "execution_count": 4,
     "metadata": {},
     "output_type": "execute_result"
    }
   ],
   "source": [
    "from bs4 import BeautifulSoup\n",
    "import requests\n",
    "html = requests.get(\"https://www.health.nsw.gov.au/news/Pages/20220329_00.aspx\").text\n",
    "page = BeautifulSoup(html, 'lxml')\n",
    "\n",
    "page.title"
   ]
  },
  {
   "cell_type": "markdown",
   "id": "b6b7c970",
   "metadata": {},
   "source": [
    "We can now identify parts of the page content directly, if we know their exact position in the HTML tree. Such as the printing of the page.title above.\n",
    "\n",
    "Or we search for it across the page, ideally with ID, or tag name and its class to be as specific as possible:"
   ]
  },
  {
   "cell_type": "code",
   "execution_count": 5,
   "id": "67838fe4",
   "metadata": {},
   "outputs": [
    {
     "data": {
      "text/plain": [
       "<div class=\"newsdate\">\n",
       "                29 March 2022        \n",
       "            </div>"
      ]
     },
     "execution_count": 5,
     "metadata": {},
     "output_type": "execute_result"
    }
   ],
   "source": [
    "page.select(\"div.newsdate\")[0]"
   ]
  },
  {
   "cell_type": "markdown",
   "id": "42da84a0",
   "metadata": {},
   "source": [
    "### Example 2.1: How many new COVID-19 cases yesterday?\n",
    "Now let's look for the data with the case numbers. This is in a table..."
   ]
  },
  {
   "cell_type": "code",
   "execution_count": 6,
   "id": "13fa1a1d",
   "metadata": {},
   "outputs": [],
   "source": [
    "tables = page.find_all('table')\n"
   ]
  },
  {
   "cell_type": "code",
   "execution_count": 7,
   "id": "e8324a6b",
   "metadata": {},
   "outputs": [
    {
     "name": "stdout",
     "output_type": "stream",
     "text": [
      "3\n"
     ]
    }
   ],
   "source": [
    "print(len(tables))"
   ]
  },
  {
   "cell_type": "code",
   "execution_count": 8,
   "id": "bce5ee46",
   "metadata": {},
   "outputs": [
    {
     "data": {
      "text/plain": [
       "'LHDPositive PCR testsPositive RATsTotal casesWestern Sydney 1,211 1,791 3,002 Northern Sydney 931 1,962 2,893 Hunter New England 508 2,146 2,654 South Western Sydney 779 1,582 2,361 South Eastern Sydney 811 1,495 2,306 Sydney 692 1,082 1,774 Nepean Blue Mountains 408 918 1,326 Illawarra Shoalhaven 384 760 1,144 Central Coast 216 845 1,061 Western NSW 121 654 775 Murrumbidgee 52 531 583 Northern NSW 60 428 488 Mid North Coast 39 426 465 Southern NSW 80 383 463 Far West 10 57 67 Correctional settings 20 0 20 Under investigation83 29 112 Total6,405 15,089 21,494 '"
      ]
     },
     "execution_count": 8,
     "metadata": {},
     "output_type": "execute_result"
    }
   ],
   "source": [
    "tables[0].text"
   ]
  },
  {
   "cell_type": "code",
   "execution_count": 9,
   "id": "28c1bb4c",
   "metadata": {},
   "outputs": [
    {
     "data": {
      "text/plain": [
       "['LHD', 'Positive PCR tests', 'Positive RATs', 'Total cases']"
      ]
     },
     "execution_count": 9,
     "metadata": {},
     "output_type": "execute_result"
    }
   ],
   "source": [
    "table = tables[0]   \n",
    "#would also work:\n",
    "#table = page.select(\"table\")[0]\n",
    "\n",
    "columns = []\n",
    "for th in table.select(\"th\"):\n",
    "    columns.append(th.text)\n",
    "columns"
   ]
  },
  {
   "cell_type": "code",
   "execution_count": 10,
   "id": "15cd3131",
   "metadata": {},
   "outputs": [
    {
     "data": {
      "text/plain": [
       "(['Western Sydney ', '1,211 ', '1,791 ', '3,002 '],\n",
       " ['Total', '6,405 ', '15,089 ', '21,494 '],\n",
       " 18)"
      ]
     },
     "execution_count": 10,
     "metadata": {},
     "output_type": "execute_result"
    }
   ],
   "source": [
    "data = []\n",
    "for tr in table.select(\"tr\"):\n",
    "    row = []\n",
    "    for td in tr.select(\"td\"):\n",
    "        row.append(td.text)\n",
    "    if len(row):\n",
    "        data.append(row)\n",
    "        \n",
    "# first and last row and length of table\n",
    "data[0], data[-1], len(data)"
   ]
  },
  {
   "cell_type": "code",
   "execution_count": 11,
   "id": "b1337dcf",
   "metadata": {},
   "outputs": [
    {
     "data": {
      "text/html": [
       "<div>\n",
       "<style scoped>\n",
       "    .dataframe tbody tr th:only-of-type {\n",
       "        vertical-align: middle;\n",
       "    }\n",
       "\n",
       "    .dataframe tbody tr th {\n",
       "        vertical-align: top;\n",
       "    }\n",
       "\n",
       "    .dataframe thead th {\n",
       "        text-align: right;\n",
       "    }\n",
       "</style>\n",
       "<table border=\"1\" class=\"dataframe\">\n",
       "  <thead>\n",
       "    <tr style=\"text-align: right;\">\n",
       "      <th></th>\n",
       "      <th>LHD</th>\n",
       "      <th>Positive PCR tests</th>\n",
       "      <th>Positive RATs</th>\n",
       "      <th>Total cases</th>\n",
       "    </tr>\n",
       "  </thead>\n",
       "  <tbody>\n",
       "    <tr>\n",
       "      <th>0</th>\n",
       "      <td>Western Sydney</td>\n",
       "      <td>1,211</td>\n",
       "      <td>1,791</td>\n",
       "      <td>3,002</td>\n",
       "    </tr>\n",
       "    <tr>\n",
       "      <th>1</th>\n",
       "      <td>Northern Sydney</td>\n",
       "      <td>931</td>\n",
       "      <td>1,962</td>\n",
       "      <td>2,893</td>\n",
       "    </tr>\n",
       "    <tr>\n",
       "      <th>2</th>\n",
       "      <td>Hunter New England</td>\n",
       "      <td>508</td>\n",
       "      <td>2,146</td>\n",
       "      <td>2,654</td>\n",
       "    </tr>\n",
       "    <tr>\n",
       "      <th>3</th>\n",
       "      <td>South Western Sydney</td>\n",
       "      <td>779</td>\n",
       "      <td>1,582</td>\n",
       "      <td>2,361</td>\n",
       "    </tr>\n",
       "    <tr>\n",
       "      <th>4</th>\n",
       "      <td>South Eastern Sydney</td>\n",
       "      <td>811</td>\n",
       "      <td>1,495</td>\n",
       "      <td>2,306</td>\n",
       "    </tr>\n",
       "    <tr>\n",
       "      <th>5</th>\n",
       "      <td>Sydney</td>\n",
       "      <td>692</td>\n",
       "      <td>1,082</td>\n",
       "      <td>1,774</td>\n",
       "    </tr>\n",
       "  </tbody>\n",
       "</table>\n",
       "</div>"
      ],
      "text/plain": [
       "                     LHD Positive PCR tests Positive RATs Total cases\n",
       "0        Western Sydney              1,211         1,791       3,002 \n",
       "1       Northern Sydney                931         1,962       2,893 \n",
       "2    Hunter New England                508         2,146       2,654 \n",
       "3  South Western Sydney                779         1,582       2,361 \n",
       "4  South Eastern Sydney                811         1,495       2,306 \n",
       "5                Sydney                692         1,082       1,774 "
      ]
     },
     "execution_count": 11,
     "metadata": {},
     "output_type": "execute_result"
    }
   ],
   "source": [
    "import pandas as pd\n",
    "df = pd.DataFrame(data, columns=columns)\n",
    "df.head(6)"
   ]
  },
  {
   "cell_type": "code",
   "execution_count": 10,
   "id": "5123d813",
   "metadata": {},
   "outputs": [
    {
     "data": {
      "text/html": [
       "<div>\n",
       "<style scoped>\n",
       "    .dataframe tbody tr th:only-of-type {\n",
       "        vertical-align: middle;\n",
       "    }\n",
       "\n",
       "    .dataframe tbody tr th {\n",
       "        vertical-align: top;\n",
       "    }\n",
       "\n",
       "    .dataframe thead th {\n",
       "        text-align: right;\n",
       "    }\n",
       "</style>\n",
       "<table border=\"1\" class=\"dataframe\">\n",
       "  <thead>\n",
       "    <tr style=\"text-align: right;\">\n",
       "      <th></th>\n",
       "      <th>LHD</th>\n",
       "      <th>Positive PCR tests</th>\n",
       "      <th>Positive RATs</th>\n",
       "      <th>Total cases</th>\n",
       "    </tr>\n",
       "  </thead>\n",
       "  <tbody>\n",
       "    <tr>\n",
       "      <th>0</th>\n",
       "      <td>Western Sydney</td>\n",
       "      <td>1211</td>\n",
       "      <td>1791</td>\n",
       "      <td>3002</td>\n",
       "    </tr>\n",
       "    <tr>\n",
       "      <th>1</th>\n",
       "      <td>Northern Sydney</td>\n",
       "      <td>931</td>\n",
       "      <td>1962</td>\n",
       "      <td>2893</td>\n",
       "    </tr>\n",
       "    <tr>\n",
       "      <th>2</th>\n",
       "      <td>Hunter New England</td>\n",
       "      <td>508</td>\n",
       "      <td>2146</td>\n",
       "      <td>2654</td>\n",
       "    </tr>\n",
       "    <tr>\n",
       "      <th>3</th>\n",
       "      <td>South Western Sydney</td>\n",
       "      <td>779</td>\n",
       "      <td>1582</td>\n",
       "      <td>2361</td>\n",
       "    </tr>\n",
       "    <tr>\n",
       "      <th>4</th>\n",
       "      <td>South Eastern Sydney</td>\n",
       "      <td>811</td>\n",
       "      <td>1495</td>\n",
       "      <td>2306</td>\n",
       "    </tr>\n",
       "    <tr>\n",
       "      <th>5</th>\n",
       "      <td>Sydney</td>\n",
       "      <td>692</td>\n",
       "      <td>1082</td>\n",
       "      <td>1774</td>\n",
       "    </tr>\n",
       "    <tr>\n",
       "      <th>6</th>\n",
       "      <td>Nepean Blue Mountains</td>\n",
       "      <td>408</td>\n",
       "      <td>918</td>\n",
       "      <td>1326</td>\n",
       "    </tr>\n",
       "    <tr>\n",
       "      <th>7</th>\n",
       "      <td>Illawarra Shoalhaven</td>\n",
       "      <td>384</td>\n",
       "      <td>760</td>\n",
       "      <td>1144</td>\n",
       "    </tr>\n",
       "    <tr>\n",
       "      <th>8</th>\n",
       "      <td>Central Coast</td>\n",
       "      <td>216</td>\n",
       "      <td>845</td>\n",
       "      <td>1061</td>\n",
       "    </tr>\n",
       "    <tr>\n",
       "      <th>9</th>\n",
       "      <td>Western NSW</td>\n",
       "      <td>121</td>\n",
       "      <td>654</td>\n",
       "      <td>775</td>\n",
       "    </tr>\n",
       "    <tr>\n",
       "      <th>10</th>\n",
       "      <td>Murrumbidgee</td>\n",
       "      <td>52</td>\n",
       "      <td>531</td>\n",
       "      <td>583</td>\n",
       "    </tr>\n",
       "    <tr>\n",
       "      <th>11</th>\n",
       "      <td>Northern NSW</td>\n",
       "      <td>60</td>\n",
       "      <td>428</td>\n",
       "      <td>488</td>\n",
       "    </tr>\n",
       "    <tr>\n",
       "      <th>12</th>\n",
       "      <td>Mid North Coast</td>\n",
       "      <td>39</td>\n",
       "      <td>426</td>\n",
       "      <td>465</td>\n",
       "    </tr>\n",
       "    <tr>\n",
       "      <th>13</th>\n",
       "      <td>Southern NSW</td>\n",
       "      <td>80</td>\n",
       "      <td>383</td>\n",
       "      <td>463</td>\n",
       "    </tr>\n",
       "    <tr>\n",
       "      <th>14</th>\n",
       "      <td>Far West</td>\n",
       "      <td>10</td>\n",
       "      <td>57</td>\n",
       "      <td>67</td>\n",
       "    </tr>\n",
       "    <tr>\n",
       "      <th>15</th>\n",
       "      <td>Correctional settings</td>\n",
       "      <td>20</td>\n",
       "      <td>0</td>\n",
       "      <td>20</td>\n",
       "    </tr>\n",
       "    <tr>\n",
       "      <th>16</th>\n",
       "      <td>Under investigation</td>\n",
       "      <td>83</td>\n",
       "      <td>29</td>\n",
       "      <td>112</td>\n",
       "    </tr>\n",
       "    <tr>\n",
       "      <th>17</th>\n",
       "      <td>Total</td>\n",
       "      <td>6405</td>\n",
       "      <td>15089</td>\n",
       "      <td>21494</td>\n",
       "    </tr>\n",
       "  </tbody>\n",
       "</table>\n",
       "</div>"
      ],
      "text/plain": [
       "                      LHD  Positive PCR tests  Positive RATs  Total cases\n",
       "0          Western Sydney                1211           1791         3002\n",
       "1         Northern Sydney                 931           1962         2893\n",
       "2      Hunter New England                 508           2146         2654\n",
       "3    South Western Sydney                 779           1582         2361\n",
       "4    South Eastern Sydney                 811           1495         2306\n",
       "5                  Sydney                 692           1082         1774\n",
       "6   Nepean Blue Mountains                 408            918         1326\n",
       "7    Illawarra Shoalhaven                 384            760         1144\n",
       "8           Central Coast                 216            845         1061\n",
       "9             Western NSW                 121            654          775\n",
       "10           Murrumbidgee                  52            531          583\n",
       "11           Northern NSW                  60            428          488\n",
       "12        Mid North Coast                  39            426          465\n",
       "13           Southern NSW                  80            383          463\n",
       "14               Far West                  10             57           67\n",
       "15  Correctional settings                  20              0           20\n",
       "16    Under investigation                  83             29          112\n",
       "17                  Total                6405          15089        21494"
      ]
     },
     "execution_count": 10,
     "metadata": {},
     "output_type": "execute_result"
    }
   ],
   "source": [
    "# much faster:\n",
    "df2 = pd.read_html(str(tables[0]))[0]\n",
    "df2"
   ]
  },
  {
   "cell_type": "markdown",
   "id": "9398ade9",
   "metadata": {},
   "source": [
    "### Example 2.2: How many patients are currently in hospital in NSW with COVID?\n",
    "\n",
    "This question is a bit more tricky because as our inspection of the page source finds, this information is part of the news release text, which is one of the variopus text paragraphs on the page without further logical marker...\n",
    "\n",
    "It seems however to be a standard formulation, which starts with: \"There are currently _X_ cases admitted to hospital...\""
   ]
  },
  {
   "cell_type": "code",
   "execution_count": 11,
   "id": "12c98df3",
   "metadata": {},
   "outputs": [],
   "source": [
    "page.find(string=\"cases admitted to hospital\")"
   ]
  },
  {
   "cell_type": "markdown",
   "id": "2e5614ec",
   "metadata": {},
   "source": [
    "This does not work as it is part of a string; so we need to use some pattern matching..."
   ]
  },
  {
   "cell_type": "code",
   "execution_count": 12,
   "id": "913d079e",
   "metadata": {},
   "outputs": [
    {
     "data": {
      "text/plain": [
       "'There are currently 1,283 COVID-19 cases admitted to hospital, including 53 people in intensive care, 18 of whom require ventilation.'"
      ]
     },
     "execution_count": 12,
     "metadata": {},
     "output_type": "execute_result"
    }
   ],
   "source": [
    "import re\n",
    "hospital_status = page.find(string=re.compile(\"^There are currently\"))\n",
    "hospital_status"
   ]
  },
  {
   "cell_type": "code",
   "execution_count": 13,
   "id": "dc856243",
   "metadata": {},
   "outputs": [
    {
     "data": {
      "text/plain": [
       "[' 1,283', ' 53', ' 18']"
      ]
     },
     "execution_count": 13,
     "metadata": {},
     "output_type": "execute_result"
    }
   ],
   "source": [
    "re.findall(' [0-9]+,?[0-9]*', hospital_status)"
   ]
  },
  {
   "cell_type": "markdown",
   "id": "ef9b79ee",
   "metadata": {},
   "source": [
    "### Example 2.3: Web Scraping using Pandas\n",
    "For well-formatted data such as HTML tables or lists, Pandas does a pretty good job of extracting data from HTML into a dataframe."
   ]
  },
  {
   "cell_type": "code",
   "execution_count": 14,
   "id": "2c6cf56b",
   "metadata": {},
   "outputs": [
    {
     "name": "stdout",
     "output_type": "stream",
     "text": [
      "Total tables: 1\n"
     ]
    }
   ],
   "source": [
    "covidlive_page_tables = pd.read_html(\"https://covidlive.com.au/report/daily-hospitalised/nsw\",\\\n",
    "                                     attrs = {'class': 'DAILY-HOSPITALISED'}, \\\n",
    "                                     parse_dates = True, \\\n",
    "                                     converters={'DATE':str,'HOSP':int,'ICU':int,'VENT':int})\n",
    "\n",
    "print(f'Total tables: {len(covidlive_page_tables)}')"
   ]
  },
  {
   "cell_type": "code",
   "execution_count": 15,
   "id": "3df8635a",
   "metadata": {},
   "outputs": [
    {
     "name": "stdout",
     "output_type": "stream",
     "text": [
      "<class 'pandas.core.frame.DataFrame'>\n",
      "RangeIndex: 1031 entries, 0 to 1030\n",
      "Data columns (total 4 columns):\n",
      " #   Column  Non-Null Count  Dtype \n",
      "---  ------  --------------  ----- \n",
      " 0   DATE    1031 non-null   object\n",
      " 1   HOSP    959 non-null    object\n",
      " 2   ICU     972 non-null    object\n",
      " 3   VENT    955 non-null    object\n",
      "dtypes: object(4)\n",
      "memory usage: 32.3+ KB\n"
     ]
    }
   ],
   "source": [
    "# meaning of the columns on the example of the NSW Health press release form 1 Nov 2021:\n",
    "# \"There are currently 349 COVID-19 cases admitted to hospital, with 77 people in intensive care, 33 of whom require ventilation.\"\n",
    "nsw_hospitalisations = covidlive_page_tables[0]\n",
    "nsw_hospitalisations.info()"
   ]
  },
  {
   "cell_type": "markdown",
   "id": "3744c47f",
   "metadata": {},
   "source": [
    "### Example 2.4 Data Cleaning Examples"
   ]
  },
  {
   "cell_type": "code",
   "execution_count": 16,
   "id": "0e44f442",
   "metadata": {},
   "outputs": [
    {
     "name": "stdout",
     "output_type": "stream",
     "text": [
      "<class 'pandas.core.frame.DataFrame'>\n",
      "RangeIndex: 1031 entries, 0 to 1030\n",
      "Data columns (total 4 columns):\n",
      " #   Column          Non-Null Count  Dtype \n",
      "---  ------          --------------  ----- \n",
      " 0   date            1031 non-null   object\n",
      " 1   hospitalised    959 non-null    object\n",
      " 2   ICU             972 non-null    object\n",
      " 3   ICU_ventilated  955 non-null    object\n",
      "dtypes: object(4)\n",
      "memory usage: 32.3+ KB\n"
     ]
    }
   ],
   "source": [
    "# more readable meta-data (column names)\n",
    "nsw_hospitalisations.rename(columns={'DATE': 'date', 'HOSP': 'hospitalised', 'ICU': 'ICU', 'VENT': 'ICU_ventilated'}, inplace=True)\n",
    "nsw_hospitalisations.info()"
   ]
  },
  {
   "cell_type": "code",
   "execution_count": 17,
   "id": "6c952280",
   "metadata": {},
   "outputs": [
    {
     "data": {
      "text/html": [
       "<div>\n",
       "<style scoped>\n",
       "    .dataframe tbody tr th:only-of-type {\n",
       "        vertical-align: middle;\n",
       "    }\n",
       "\n",
       "    .dataframe tbody tr th {\n",
       "        vertical-align: top;\n",
       "    }\n",
       "\n",
       "    .dataframe thead th {\n",
       "        text-align: right;\n",
       "    }\n",
       "</style>\n",
       "<table border=\"1\" class=\"dataframe\">\n",
       "  <thead>\n",
       "    <tr style=\"text-align: right;\">\n",
       "      <th></th>\n",
       "      <th>date</th>\n",
       "      <th>hospitalised</th>\n",
       "      <th>ICU</th>\n",
       "      <th>ICU_ventilated</th>\n",
       "    </tr>\n",
       "  </thead>\n",
       "  <tbody>\n",
       "    <tr>\n",
       "      <th>903</th>\n",
       "      <td>31 May 20</td>\n",
       "      <td>11</td>\n",
       "      <td>1</td>\n",
       "      <td>0</td>\n",
       "    </tr>\n",
       "    <tr>\n",
       "      <th>538</th>\n",
       "      <td>31 May 21</td>\n",
       "      <td>3</td>\n",
       "      <td>1</td>\n",
       "      <td>0</td>\n",
       "    </tr>\n",
       "    <tr>\n",
       "      <th>173</th>\n",
       "      <td>31 May 22</td>\n",
       "      <td>1185</td>\n",
       "      <td>36</td>\n",
       "      <td>8</td>\n",
       "    </tr>\n",
       "    <tr>\n",
       "      <th>750</th>\n",
       "      <td>31 Oct 20</td>\n",
       "      <td>6</td>\n",
       "      <td>1</td>\n",
       "      <td>1</td>\n",
       "    </tr>\n",
       "    <tr>\n",
       "      <th>385</th>\n",
       "      <td>31 Oct 21</td>\n",
       "      <td>340</td>\n",
       "      <td>78</td>\n",
       "      <td>32</td>\n",
       "    </tr>\n",
       "  </tbody>\n",
       "</table>\n",
       "</div>"
      ],
      "text/plain": [
       "          date hospitalised ICU ICU_ventilated\n",
       "903  31 May 20           11   1              0\n",
       "538  31 May 21            3   1              0\n",
       "173  31 May 22         1185  36              8\n",
       "750  31 Oct 20            6   1              1\n",
       "385  31 Oct 21          340  78             32"
      ]
     },
     "execution_count": 17,
     "metadata": {},
     "output_type": "execute_result"
    }
   ],
   "source": [
    "# check the last five entries\n",
    "nsw_hospitalisations.sort_values(by=['date'], inplace=True)\n",
    "nsw_hospitalisations.tail()"
   ]
  },
  {
   "cell_type": "code",
   "execution_count": 28,
   "id": "2aa3fedd",
   "metadata": {},
   "outputs": [],
   "source": [
    "# convert date column to proper datetime type\n",
    "#nsw_hospitalisations.date = pd.to_datetime(nsw_hospitalisations.date, format=\"DD/MM/YYYY\")\n",
    "nsw_hospitalisations.date = pd.to_datetime(nsw_hospitalisations.date)"
   ]
  },
  {
   "cell_type": "code",
   "execution_count": 29,
   "id": "a6c58c44",
   "metadata": {},
   "outputs": [
    {
     "data": {
      "text/html": [
       "<div>\n",
       "<style scoped>\n",
       "    .dataframe tbody tr th:only-of-type {\n",
       "        vertical-align: middle;\n",
       "    }\n",
       "\n",
       "    .dataframe tbody tr th {\n",
       "        vertical-align: top;\n",
       "    }\n",
       "\n",
       "    .dataframe thead th {\n",
       "        text-align: right;\n",
       "    }\n",
       "</style>\n",
       "<table border=\"1\" class=\"dataframe\">\n",
       "  <thead>\n",
       "    <tr style=\"text-align: right;\">\n",
       "      <th></th>\n",
       "      <th>date</th>\n",
       "      <th>hospitalised</th>\n",
       "      <th>ICU</th>\n",
       "      <th>ICU_ventilated</th>\n",
       "    </tr>\n",
       "  </thead>\n",
       "  <tbody>\n",
       "    <tr>\n",
       "      <th>4</th>\n",
       "      <td>2023-12-29</td>\n",
       "      <td>811</td>\n",
       "      <td>0</td>\n",
       "      <td>0</td>\n",
       "    </tr>\n",
       "    <tr>\n",
       "      <th>3</th>\n",
       "      <td>2024-01-05</td>\n",
       "      <td>811</td>\n",
       "      <td>0</td>\n",
       "      <td>0</td>\n",
       "    </tr>\n",
       "    <tr>\n",
       "      <th>2</th>\n",
       "      <td>2024-01-12</td>\n",
       "      <td>1152</td>\n",
       "      <td>0</td>\n",
       "      <td>0</td>\n",
       "    </tr>\n",
       "    <tr>\n",
       "      <th>1</th>\n",
       "      <td>2024-01-19</td>\n",
       "      <td>1152</td>\n",
       "      <td>0</td>\n",
       "      <td>0</td>\n",
       "    </tr>\n",
       "    <tr>\n",
       "      <th>0</th>\n",
       "      <td>2024-01-26</td>\n",
       "      <td>1152</td>\n",
       "      <td>0</td>\n",
       "      <td>0</td>\n",
       "    </tr>\n",
       "  </tbody>\n",
       "</table>\n",
       "</div>"
      ],
      "text/plain": [
       "        date hospitalised ICU  ICU_ventilated\n",
       "4 2023-12-29          811   0               0\n",
       "3 2024-01-05          811   0               0\n",
       "2 2024-01-12         1152   0               0\n",
       "1 2024-01-19         1152   0               0\n",
       "0 2024-01-26         1152   0               0"
      ]
     },
     "execution_count": 29,
     "metadata": {},
     "output_type": "execute_result"
    }
   ],
   "source": [
    "# check the last five entries\n",
    "nsw_hospitalisations.sort_values(by=['date'], inplace=True)\n",
    "nsw_hospitalisations.tail()"
   ]
  },
  {
   "cell_type": "code",
   "execution_count": 30,
   "id": "fda189af",
   "metadata": {},
   "outputs": [
    {
     "data": {
      "text/html": [
       "<div>\n",
       "<style scoped>\n",
       "    .dataframe tbody tr th:only-of-type {\n",
       "        vertical-align: middle;\n",
       "    }\n",
       "\n",
       "    .dataframe tbody tr th {\n",
       "        vertical-align: top;\n",
       "    }\n",
       "\n",
       "    .dataframe thead th {\n",
       "        text-align: right;\n",
       "    }\n",
       "</style>\n",
       "<table border=\"1\" class=\"dataframe\">\n",
       "  <thead>\n",
       "    <tr style=\"text-align: right;\">\n",
       "      <th></th>\n",
       "      <th>date</th>\n",
       "      <th>hospitalised</th>\n",
       "      <th>ICU</th>\n",
       "      <th>ICU_ventilated</th>\n",
       "    </tr>\n",
       "  </thead>\n",
       "  <tbody>\n",
       "    <tr>\n",
       "      <th>4</th>\n",
       "      <td>2023-12-29</td>\n",
       "      <td>811</td>\n",
       "      <td>0</td>\n",
       "      <td>0</td>\n",
       "    </tr>\n",
       "    <tr>\n",
       "      <th>3</th>\n",
       "      <td>2024-01-05</td>\n",
       "      <td>811</td>\n",
       "      <td>0</td>\n",
       "      <td>0</td>\n",
       "    </tr>\n",
       "    <tr>\n",
       "      <th>2</th>\n",
       "      <td>2024-01-12</td>\n",
       "      <td>1152</td>\n",
       "      <td>0</td>\n",
       "      <td>0</td>\n",
       "    </tr>\n",
       "    <tr>\n",
       "      <th>1</th>\n",
       "      <td>2024-01-19</td>\n",
       "      <td>1152</td>\n",
       "      <td>0</td>\n",
       "      <td>0</td>\n",
       "    </tr>\n",
       "    <tr>\n",
       "      <th>0</th>\n",
       "      <td>2024-01-26</td>\n",
       "      <td>1152</td>\n",
       "      <td>0</td>\n",
       "      <td>0</td>\n",
       "    </tr>\n",
       "  </tbody>\n",
       "</table>\n",
       "</div>"
      ],
      "text/plain": [
       "        date hospitalised ICU  ICU_ventilated\n",
       "4 2023-12-29          811   0               0\n",
       "3 2024-01-05          811   0               0\n",
       "2 2024-01-12         1152   0               0\n",
       "1 2024-01-19         1152   0               0\n",
       "0 2024-01-26         1152   0               0"
      ]
     },
     "execution_count": 30,
     "metadata": {},
     "output_type": "execute_result"
    }
   ],
   "source": [
    "# potential NaN / NULL handling\n",
    "nsw_hospitalisations['ICU_ventilated'].fillna(0, inplace=True)\n",
    "nsw_hospitalisations.tail()"
   ]
  },
  {
   "cell_type": "markdown",
   "id": "dbf7dd7c",
   "metadata": {},
   "source": [
    "### Example 2.5 Data Visualisation Examples"
   ]
  },
  {
   "cell_type": "code",
   "execution_count": 31,
   "id": "bad6f19a",
   "metadata": {},
   "outputs": [
    {
     "data": {
      "text/plain": [
       "<Axes: >"
      ]
     },
     "execution_count": 31,
     "metadata": {},
     "output_type": "execute_result"
    },
    {
     "data": {
      "image/png": "[encoded data removed]",
      "text/plain": [
       "<Figure size 640x480 with 1 Axes>"
      ]
     },
     "metadata": {},
     "output_type": "display_data"
    }
   ],
   "source": [
    "nsw_hospitalisations.plot()"
   ]
  },
  {
   "cell_type": "markdown",
   "id": "7932eae3",
   "metadata": {},
   "source": [
    "Not quite yet what we want; let's concentrate on just omne specific curve - the number of hospitalised patients with COVID-19."
   ]
  },
  {
   "cell_type": "code",
   "execution_count": 32,
   "id": "180c22d2",
   "metadata": {},
   "outputs": [
    {
     "data": {
      "text/plain": [
       "<Axes: >"
      ]
     },
     "execution_count": 32,
     "metadata": {},
     "output_type": "execute_result"
    },
    {
     "data": {
      "image/png": "[encoded data removed]",
      "text/plain": [
       "<Figure size 640x480 with 1 Axes>"
      ]
     },
     "metadata": {},
     "output_type": "display_data"
    }
   ],
   "source": [
    "nsw_hospitalisations['hospitalised'].plot()"
   ]
  },
  {
   "cell_type": "markdown",
   "id": "9e37d96a",
   "metadata": {},
   "source": [
    "Better - now let's try to get the date column as index for the x-axes:"
   ]
  },
  {
   "cell_type": "code",
   "execution_count": 33,
   "id": "d8fda4bb",
   "metadata": {},
   "outputs": [
    {
     "data": {
      "text/plain": [
       "<Axes: >"
      ]
     },
     "execution_count": 33,
     "metadata": {},
     "output_type": "execute_result"
    },
    {
     "data": {
      "image/png": "[encoded data removed]",
      "text/plain": [
       "<Figure size 640x480 with 1 Axes>"
      ]
     },
     "metadata": {},
     "output_type": "display_data"
    }
   ],
   "source": [
    "nsw_hospitalisations['hospitalised'].plot.bar(x='date')"
   ]
  },
  {
   "cell_type": "markdown",
   "id": "8b00fba7",
   "metadata": {},
   "source": [
    "Hard to read, let's zoom in a bit to the last 30 days:"
   ]
  },
  {
   "cell_type": "code",
   "execution_count": 34,
   "id": "de2a35e5",
   "metadata": {},
   "outputs": [
    {
     "data": {
      "text/plain": [
       "<Axes: >"
      ]
     },
     "execution_count": 34,
     "metadata": {},
     "output_type": "execute_result"
    },
    {
     "data": {
      "image/png": "[encoded data removed]",
      "text/plain": [
       "<Figure size 640x480 with 1 Axes>"
      ]
     },
     "metadata": {},
     "output_type": "display_data"
    }
   ],
   "source": [
    "nsw_hospitalisations['hospitalised'].tail(30).plot.bar(x='date')"
   ]
  },
  {
   "cell_type": "markdown",
   "id": "92e01e26",
   "metadata": {},
   "source": [
    "Let's make an attempt to plot the other two curves too, using a stacked bar chart:"
   ]
  },
  {
   "cell_type": "code",
   "execution_count": 35,
   "id": "1b2adf01",
   "metadata": {},
   "outputs": [
    {
     "data": {
      "text/plain": [
       "<Axes: xlabel='date'>"
      ]
     },
     "execution_count": 35,
     "metadata": {},
     "output_type": "execute_result"
    },
    {
     "data": {
      "image/png": "[encoded data removed]",
      "text/plain": [
       "<Figure size 640x480 with 1 Axes>"
      ]
     },
     "metadata": {},
     "output_type": "display_data"
    }
   ],
   "source": [
    "nsw_hospitalisations.tail(100).plot.bar(x='date', stacked=True)"
   ]
  },
  {
   "cell_type": "markdown",
   "id": "25133bdc",
   "metadata": {},
   "source": [
    "The above plot has some disadvantages:\n",
    "Besides that we cannot read the dates on the x-axis, it most importantly is *wrong*. We plotted the three patient numbers summative on top of each over so that their values are added up. But that's not the meaning of the data, the patients iof ICU are actually included in the number of the overall patients in hospital.\n",
    "\n",
    "So let's correct this. The following final example demonstrates on how to plot a correct stacked bar chart with the given data, and also how to enhance the readability of the plot and include all neccesary axis and chart titles.\n",
    "We are using the Seaaborn library here as an enhancement of matplotlib, and we define it within a utility function so that we can refer to it easily in different uses without having to repeat all these presentation tuning settings."
   ]
  },
  {
   "cell_type": "code",
   "execution_count": 36,
   "id": "022b1133",
   "metadata": {},
   "outputs": [],
   "source": [
    "import matplotlib.pyplot as plt  # for graphics\n",
    "import seaborn as sns            # for nicer graphics\n",
    "import matplotlib.ticker as ticker\n",
    "import matplotlib.patches as mpatches\n",
    "\n",
    "def plot_hospitalisation_timeline(casestats, ndays):\n",
    "    # we only want to plot the last 'ndays'\n",
    "    casedata = casestats.tail(ndays)\n",
    "    \n",
    "    # correct the absolute numbers for the purpose of a stacked bar chart; hospitalised includes ICU, which includes ventilated; for plot need to \n",
    "    pd.options.mode.chained_assignment = None  # default='warn'\n",
    "    casedata[\"hospital_only\"] = casedata[\"hospitalised\"] - casedata[\"ICU\"]\n",
    "    casedata[\"ICU_unventilated\"]  = casedata[\"hospitalised\"] - casedata[\"ICU_ventilated\"]\n",
    "    # prepare x-axis categoies; sns can't plot barchart+line together if x-axis is datetime???\n",
    "    casedata['date'] = casedata['date'].apply(lambda d: d.strftime('%d.%m.')) \n",
    "\n",
    "    # plot the timeline of hospitalisations as a stacked bar chart\n",
    "    sns.set_theme('notebook', 'ticks', font_scale=1.25)\n",
    "    fig, ax1 = plt.subplots(figsize=(20,6))\n",
    "    bar1 = sns.barplot (data=casedata, x='date', y='hospitalised',     color=\"#eb706d\", ax=ax1)\n",
    "    bar2 = sns.barplot (data=casedata, x='date', y='ICU_unventilated', color=\"#fcad43\", ax=ax1)\n",
    "    bar3 = sns.barplot (data=casedata, x='date', y='hospital_only',    color=\"#6589b2\", ax=ax1)\n",
    "    sns.despine()\n",
    "\n",
    "    # format the plot axis and legend\n",
    "    ax1.set_title(\"Daily COVID Hospital Patients in NSW\")\n",
    "    ax1.set_xlabel(None)\n",
    "    ax1.set_ylabel(\"number of patients\")\n",
    "    ax1.xaxis.set_major_locator(ticker.MultipleLocator(7))\n",
    "    fig.autofmt_xdate()\n",
    "    red_patch   = mpatches.Patch(color='#eb706d', label='ICU+ventilated')\n",
    "    orange_patch= mpatches.Patch(color='#fcad43', label='ICU')\n",
    "    blue_patch  = mpatches.Patch(color='#6589b2', label='hospitalised non ICU')\n",
    "    legnd = ax1.legend(handles=[red_patch,orange_patch,blue_patch], loc='upper left', ncol = 1, prop={'size':14})"
   ]
  },
  {
   "cell_type": "code",
   "execution_count": 37,
   "id": "11aef2e6",
   "metadata": {},
   "outputs": [
    {
     "data": {
      "image/png": "[encoded data removed]",
      "text/plain": [
       "<Figure size 2000x600 with 1 Axes>"
      ]
     },
     "metadata": {},
     "output_type": "display_data"
    }
   ],
   "source": [
    "# Let's plot the last 4 to 9 months of hospitalisations\n",
    "ndays = 270\n",
    "plot_hospitalisation_timeline(nsw_hospitalisations, ndays)"
   ]
  },
  {
   "cell_type": "markdown",
   "id": "0de134f8",
   "metadata": {},
   "source": [
    "# Question 1 - Scraping Data from The Reserve Bank of Australia\n",
    "\n",
    "Our goal is to load data from the following website that makes available historic data about the Cash Rate Target, Lenders' Interest Rates,  Retail Payments, ..etc in  Australia:\n",
    "https://www.rba.gov.au/\n",
    "\n",
    "Let's start by having a look at the actual webpage. The following code requests the webpage for the cash rates from the Reserve Bank website (the given URL scheme is specific for this website):\n"
   ]
  },
  {
   "cell_type": "code",
   "execution_count": 1,
   "id": "b45e85a6",
   "metadata": {},
   "outputs": [],
   "source": [
    "import requests\n",
    "webpage_source = requests.get(\"https://www.rba.gov.au/statistics/cash-rate/\").text\n",
    "\n"
   ]
  },
  {
   "cell_type": "code",
   "execution_count": 2,
   "id": "374b7a31",
   "metadata": {},
   "outputs": [
    {
     "name": "stdout",
     "output_type": "stream",
     "text": [
      "Example 1: get a specific HTML element - such as the page title\n",
      "<title>Cash Rate Target | RBA</title>\n",
      "\n",
      "Example 2: get HTML element's text content\n",
      "Cash Rate Target | RBA\n",
      "\n",
      "Example 3: navigate along an element path to some content inside the page\n",
      "page-cash-rate\n",
      "\n",
      "Example 4: find_all() URLs of hyperlinks on this webpage\n",
      "#content\n",
      "https://www.rba.gov.au/\n",
      "/monetary-policy/\n",
      "/mkt-operations/\n",
      "/payments-and-infrastructure/\n",
      "/fin-stability/\n",
      "/banknotes/\n",
      "/fin-services/\n",
      "/about-rba/\n",
      "/media-releases/\n",
      "/speeches/\n",
      "/publications/\n",
      "/statistics/\n",
      "/chart-pack/\n",
      "/research/\n",
      "/about-rba/archives/\n",
      "/education/\n",
      "/careers/\n",
      "/qa/\n",
      "/contact/\n",
      "/statistics/frequency/\n",
      "/statistics/frequency/fin-agg/\n",
      "/statistics/frequency/fin-agg/2023/\n",
      "/statistics/frequency/fin-agg/2022/\n",
      "/statistics/frequency/fin-agg/2021/\n",
      "#nav-finagg-2011-2020\n",
      "/statistics/frequency/fin-agg/2020/\n",
      "/statistics/frequency/fin-agg/2019/\n",
      "/statistics/frequency/fin-agg/2018/\n",
      "/statistics/frequency/fin-agg/2017/\n",
      "/statistics/frequency/fin-agg/2016/\n",
      "/statistics/frequency/fin-agg/2015/\n",
      "/statistics/frequency/fin-agg/2014/\n",
      "/statistics/frequency/fin-agg/2013/\n",
      "/statistics/frequency/fin-agg/2012/\n",
      "/statistics/frequency/fin-agg/2011/\n",
      "#nav-finagg-2001-2010\n",
      "/statistics/frequency/fin-agg/2010/\n",
      "/statistics/frequency/fin-agg/2009/\n",
      "/statistics/frequency/fin-agg/2008/\n",
      "/statistics/frequency/fin-agg/2007/\n",
      "/statistics/frequency/fin-agg/2006/\n",
      "/statistics/frequency/fin-agg/2005/\n",
      "/statistics/frequency/fin-agg/2004/\n",
      "/statistics/frequency/fin-agg/2003/\n",
      "/statistics/frequency/fin-agg/2002/\n",
      "/statistics/frequency/fin-agg/2001/\n",
      "/statistics/frequency/commodity-prices/\n",
      "/statistics/frequency/commodity-prices/2024/\n",
      "/statistics/frequency/commodity-prices/2023/\n",
      "/statistics/frequency/commodity-prices/2022/\n",
      "/statistics/frequency/commodity-prices/2021/\n",
      "#nav-icp-2011-2020\n",
      "/statistics/frequency/commodity-prices/2020/\n",
      "/statistics/frequency/commodity-prices/2019/\n",
      "/statistics/frequency/commodity-prices/2018/\n",
      "/statistics/frequency/commodity-prices/2017/\n",
      "/statistics/frequency/commodity-prices/2016/\n",
      "/statistics/frequency/commodity-prices/2015/\n",
      "/statistics/frequency/commodity-prices/2014/\n",
      "/statistics/frequency/commodity-prices/2013/\n",
      "/statistics/frequency/commodity-prices/2012/\n",
      "/statistics/frequency/commodity-prices/2011/\n",
      "/statistics/frequency/commodity-prices/2010/\n",
      "/statistics/frequency/retail-payments/\n",
      "/statistics/frequency/retail-payments/2023/\n",
      "/statistics/frequency/retail-payments/2022/\n",
      "/statistics/frequency/retail-payments/2021/\n",
      "/statistics/frequency/retail-payments/2020/\n",
      "/statistics/frequency/exchange-rates.html\n",
      "/statistics/frequency/twi/\n",
      "/statistics/frequency/twi/2021-2030.html\n",
      "/statistics/frequency/twi/2011-2020.html\n",
      "/statistics/frequency/twi/2001-2010.html\n",
      "/statistics/frequency/twi/1997-2000.html\n",
      "/statistics/frequency/weights-icp.html\n",
      "#nav-economic-and-financial\n",
      "/statistics/tables/\n",
      "/statistics/historical-data.html\n",
      "/statistics/discontinued-data.html\n",
      "/statistics/tables/frequency-statistical-releases.html\n",
      "/statistics/tables/changes-to-tables.html\n",
      "/statistics/tables/hist-series-breaks.html\n",
      "/statistics/glossary-statistical-data.html\n",
      "/statistics/other-data-sources.html\n",
      "/statistics/enquiries.html\n",
      "/statistics/balance-sheet/\n",
      "/statistics/cash-rate/\n",
      "/statistics/interest-rates/\n",
      "/chart-pack/\n",
      "/statistics/frequency/reserve-assets.html\n",
      "/snapshots/\n",
      "/snapshots/economy-indicators-snapshot/\n",
      "/snapshots/economy-composition-snapshot/\n",
      "/snapshots/how-australians-pay-snapshot/\n",
      "/calculator/\n",
      "/statistics/historical-forecasts.html\n",
      "/monetary-policy/about.html\n",
      "/mkt-operations/resources/cash-rate-methodology/\n",
      "/mkt-operations/resources/cash-rate-methodology/expert-judgement.html\n",
      "/statistics/tables/xls/f01d.xls\n",
      "#cash-rate-chart\n",
      "/media-releases/2023/mr-23-35.html\n",
      "/monetary-policy/rba-board-minutes/2023/2023-12-05.html\n",
      "/media-releases/2023/mr-23-30.html\n",
      "/monetary-policy/rba-board-minutes/2023/2023-11-07.html\n",
      "/media-releases/2023/mr-23-25.html\n",
      "/monetary-policy/rba-board-minutes/2023/2023-10-03.html\n",
      "/media-releases/2023/mr-23-23.html\n",
      "/monetary-policy/rba-board-minutes/2023/2023-09-05.html\n",
      "/media-releases/2023/mr-23-19.html\n",
      "/monetary-policy/rba-board-minutes/2023/2023-08-01.html\n",
      "/media-releases/2023/mr-23-16.html\n",
      "/monetary-policy/rba-board-minutes/2023/2023-07-04.html\n",
      "/media-releases/2023/mr-23-13.html\n",
      "/monetary-policy/rba-board-minutes/2023/2023-06-06.html\n",
      "/media-releases/2023/mr-23-10.html\n",
      "/monetary-policy/rba-board-minutes/2023/2023-05-02.html\n",
      "/media-releases/2023/mr-23-08.html\n",
      "/monetary-policy/rba-board-minutes/2023/2023-04-04.html\n",
      "/media-releases/2023/mr-23-07.html\n",
      "/monetary-policy/rba-board-minutes/2023/2023-03-07.html\n",
      "/media-releases/2023/mr-23-04.html\n",
      "/monetary-policy/rba-board-minutes/2023/2023-02-07.html\n",
      "/media-releases/2022/mr-22-41.html\n",
      "/monetary-policy/rba-board-minutes/2022/2022-12-06.html\n",
      "/media-releases/2022/mr-22-36.html\n",
      "/monetary-policy/rba-board-minutes/2022/2022-11-01.html\n",
      "/media-releases/2022/mr-22-33.html\n",
      "/monetary-policy/rba-board-minutes/2022/2022-10-04.html\n",
      "/media-releases/2022/mr-22-28.html\n",
      "/monetary-policy/rba-board-minutes/2022/2022-09-06.html\n",
      "/media-releases/2022/mr-22-21.html\n",
      "/monetary-policy/rba-board-minutes/2022/2022-08-02.html\n",
      "/media-releases/2022/mr-22-20.html\n",
      "/monetary-policy/rba-board-minutes/2022/2022-07-05.html\n",
      "/media-releases/2022/mr-22-14.html\n",
      "/monetary-policy/rba-board-minutes/2022/2022-06-07.html\n",
      "/media-releases/2022/mr-22-12.html\n",
      "/monetary-policy/rba-board-minutes/2022/2022-05-03.html\n",
      "/media-releases/2022/mr-22-11.html\n",
      "/monetary-policy/rba-board-minutes/2022/2022-04-05.html\n",
      "/media-releases/2022/mr-22-05.html\n",
      "/monetary-policy/rba-board-minutes/2022/2022-03-01.html\n",
      "/media-releases/2022/mr-22-02.html\n",
      "/monetary-policy/rba-board-minutes/2022/2022-02-01.html\n",
      "/media-releases/2021/mr-21-29.html\n",
      "/monetary-policy/rba-board-minutes/2021/2021-12-07.html\n",
      "/media-releases/2021/mr-21-24.html\n",
      "/monetary-policy/rba-board-minutes/2021/2021-11-02.html\n",
      "/media-releases/2021/mr-21-22.html\n",
      "/monetary-policy/rba-board-minutes/2021/2021-10-05.html\n",
      "/media-releases/2021/mr-21-19.html\n",
      "/monetary-policy/rba-board-minutes/2021/2021-09-07.html\n",
      "/media-releases/2021/mr-21-14.html\n",
      "/monetary-policy/rba-board-minutes/2021/2021-08-03.html\n",
      "/media-releases/2021/mr-21-13.html\n",
      "/monetary-policy/rba-board-minutes/2021/2021-07-06.html\n",
      "/media-releases/2021/mr-21-09.html\n",
      "/monetary-policy/rba-board-minutes/2021/2021-06-01.html\n",
      "/media-releases/2021/mr-21-06.html\n",
      "/monetary-policy/rba-board-minutes/2021/2021-05-04.html\n",
      "/media-releases/2021/mr-21-04.html\n",
      "/monetary-policy/rba-board-minutes/2021/2021-04-06.html\n",
      "/media-releases/2021/mr-21-03.html\n",
      "/monetary-policy/rba-board-minutes/2021/2021-03-02.html\n",
      "/media-releases/2021/mr-21-01.html\n",
      "/monetary-policy/rba-board-minutes/2021/2021-02-02.html\n",
      "/media-releases/2020/mr-20-32.html\n",
      "/monetary-policy/rba-board-minutes/2020/2020-12-01.html\n",
      "/media-releases/2020/mr-20-28.html\n",
      "/monetary-policy/rba-board-minutes/2020/2020-11-03.html\n",
      "/media-releases/2020/mr-20-24.html\n",
      "/monetary-policy/rba-board-minutes/2020/2020-10-06.html\n",
      "/media-releases/2020/mr-20-20.html\n",
      "/monetary-policy/rba-board-minutes/2020/2020-09-01.html\n",
      "/media-releases/2020/mr-20-18.html\n",
      "/monetary-policy/rba-board-minutes/2020/2020-08-04.html\n",
      "/media-releases/2020/mr-20-17.html\n",
      "/monetary-policy/rba-board-minutes/2020/2020-07-07.html\n",
      "/media-releases/2020/mr-20-15.html\n",
      "/monetary-policy/rba-board-minutes/2020/2020-06-02.html\n",
      "/media-releases/2020/mr-20-13.html\n",
      "/monetary-policy/rba-board-minutes/2020/2020-05-05.html\n",
      "/media-releases/2020/mr-20-11.html\n",
      "/monetary-policy/rba-board-minutes/2020/2020-04-07.html\n",
      "/media-releases/2020/mr-20-08.html\n",
      "/monetary-policy/rba-board-minutes/2020/2020-03-18.html\n",
      "/media-releases/2020/mr-20-06.html\n",
      "/monetary-policy/rba-board-minutes/2020/2020-03-03.html\n",
      "/media-releases/2020/mr-20-01.html\n",
      "/monetary-policy/rba-board-minutes/2020/2020-02-04.html\n",
      "/media-releases/2019/mr-19-33.html\n",
      "/monetary-policy/rba-board-minutes/2019/2019-12-03.html\n",
      "/media-releases/2019/mr-19-29.html\n",
      "/monetary-policy/rba-board-minutes/2019/2019-11-05.html\n",
      "/media-releases/2019/mr-19-27.html\n",
      "/monetary-policy/rba-board-minutes/2019/2019-10-01.html\n",
      "/media-releases/2019/mr-19-23.html\n",
      "/monetary-policy/rba-board-minutes/2019/2019-09-03.html\n",
      "/media-releases/2019/mr-19-20.html\n",
      "/monetary-policy/rba-board-minutes/2019/2019-08-06.html\n",
      "/media-releases/2019/mr-19-18.html\n",
      "/monetary-policy/rba-board-minutes/2019/2019-07-02.html\n",
      "/media-releases/2019/mr-19-15.html\n",
      "/monetary-policy/rba-board-minutes/2019/2019-06-04.html\n",
      "/media-releases/2019/mr-19-11.html\n",
      "/monetary-policy/rba-board-minutes/2019/2019-05-07.html\n",
      "/media-releases/2019/mr-19-07.html\n",
      "/monetary-policy/rba-board-minutes/2019/2019-04-02.html\n",
      "/media-releases/2019/mr-19-05.html\n",
      "/monetary-policy/rba-board-minutes/2019/2019-03-05.html\n",
      "/media-releases/2019/mr-19-01.html\n",
      "/monetary-policy/rba-board-minutes/2019/2019-02-05.html\n",
      "/media-releases/2018/mr-18-31.html\n",
      "/monetary-policy/rba-board-minutes/2018/2018-12-04.html\n",
      "/media-releases/2018/mr-18-27.html\n",
      "/monetary-policy/rba-board-minutes/2018/2018-11-06.html\n",
      "/media-releases/2018/mr-18-24.html\n",
      "/monetary-policy/rba-board-minutes/2018/2018-10-02.html\n",
      "/media-releases/2018/mr-18-21.html\n",
      "/monetary-policy/rba-board-minutes/2018/2018-09-04.html\n",
      "/media-releases/2018/mr-18-17.html\n",
      "/monetary-policy/rba-board-minutes/2018/2018-08-07.html\n",
      "/media-releases/2018/mr-18-16.html\n",
      "/monetary-policy/rba-board-minutes/2018/2018-07-03.html\n",
      "/media-releases/2018/mr-18-14.html\n",
      "/monetary-policy/rba-board-minutes/2018/2018-06-05.html\n",
      "/media-releases/2018/mr-18-11.html\n",
      "/monetary-policy/rba-board-minutes/2018/2018-05-01.html\n",
      "/media-releases/2018/mr-18-07.html\n",
      "/monetary-policy/rba-board-minutes/2018/2018-04-03.html\n",
      "/media-releases/2018/mr-18-05.html\n",
      "/monetary-policy/rba-board-minutes/2018/2018-03-06.html\n",
      "/media-releases/2018/mr-18-01.html\n",
      "/monetary-policy/rba-board-minutes/2018/2018-02-06.html\n",
      "/media-releases/2017/mr-17-25.html\n",
      "/monetary-policy/rba-board-minutes/2017/2017-12-05.html\n",
      "/media-releases/2017/mr-17-23.html\n",
      "/monetary-policy/rba-board-minutes/2017/2017-11-07.html\n",
      "/media-releases/2017/mr-17-21.html\n",
      "/monetary-policy/rba-board-minutes/2017/2017-10-03.html\n",
      "/media-releases/2017/mr-17-18.html\n",
      "/monetary-policy/rba-board-minutes/2017/2017-09-05.html\n",
      "/media-releases/2017/mr-17-15.html\n",
      "/monetary-policy/rba-board-minutes/2017/2017-08-01.html\n",
      "/media-releases/2017/mr-17-13.html\n",
      "/monetary-policy/rba-board-minutes/2017/2017-07-04.html\n",
      "/media-releases/2017/mr-17-12.html\n",
      "/monetary-policy/rba-board-minutes/2017/2017-06-06.html\n",
      "/media-releases/2017/mr-17-09.html\n",
      "/monetary-policy/rba-board-minutes/2017/2017-05-02.html\n",
      "/media-releases/2017/mr-17-07.html\n",
      "/monetary-policy/rba-board-minutes/2017/2017-04-04.html\n",
      "/media-releases/2017/mr-17-06.html\n",
      "/monetary-policy/rba-board-minutes/2017/2017-03-07.html\n",
      "/media-releases/2017/mr-17-02.html\n",
      "/monetary-policy/rba-board-minutes/2017/2017-02-07.html\n",
      "/media-releases/2016/mr-16-30.html\n",
      "/monetary-policy/rba-board-minutes/2016/2016-12-06.html\n",
      "/media-releases/2016/mr-16-27.html\n",
      "/monetary-policy/rba-board-minutes/2016/2016-11-01.html\n",
      "/media-releases/2016/mr-16-26.html\n",
      "/monetary-policy/rba-board-minutes/2016/2016-10-04.html\n",
      "/media-releases/2016/mr-16-23.html\n",
      "/monetary-policy/rba-board-minutes/2016/2016-09-06.html\n",
      "/media-releases/2016/mr-16-18.html\n",
      "/monetary-policy/rba-board-minutes/2016/2016-08-02.html\n",
      "/media-releases/2016/mr-16-17.html\n",
      "/monetary-policy/rba-board-minutes/2016/2016-07-05.html\n",
      "/media-releases/2016/mr-16-16.html\n",
      "/monetary-policy/rba-board-minutes/2016/2016-06-07.html\n",
      "/media-releases/2016/mr-16-10.html\n",
      "/monetary-policy/rba-board-minutes/2016/2016-05-03.html\n",
      "/media-releases/2016/mr-16-08.html\n",
      "/monetary-policy/rba-board-minutes/2016/2016-04-05.html\n",
      "/media-releases/2016/mr-16-04.html\n",
      "/monetary-policy/rba-board-minutes/2016/2016-03-01.html\n",
      "/media-releases/2016/mr-16-01.html\n",
      "/monetary-policy/rba-board-minutes/2016/2016-02-02.html\n",
      "/media-releases/2015/mr-15-23.html\n",
      "/monetary-policy/rba-board-minutes/2015/2015-12-01.html\n",
      "/media-releases/2015/mr-15-20.html\n",
      "/monetary-policy/rba-board-minutes/2015/2015-11-03.html\n",
      "/media-releases/2015/mr-15-18.html\n",
      "/monetary-policy/rba-board-minutes/2015/2015-10-06.html\n",
      "/media-releases/2015/mr-15-15.html\n",
      "/monetary-policy/rba-board-minutes/2015/2015-09-01.html\n",
      "/media-releases/2015/mr-15-13.html\n",
      "/monetary-policy/rba-board-minutes/2015/2015-08-04.html\n",
      "/media-releases/2015/mr-15-11.html\n",
      "/monetary-policy/rba-board-minutes/2015/2015-07-07.html\n",
      "/media-releases/2015/mr-15-09.html\n",
      "/monetary-policy/rba-board-minutes/2015/2015-06-02.html\n",
      "/media-releases/2015/mr-15-08.html\n",
      "/monetary-policy/rba-board-minutes/2015/2015-05-05.html\n",
      "/media-releases/2015/mr-15-05.html\n",
      "/monetary-policy/rba-board-minutes/2015/2015-04-07.html\n",
      "/media-releases/2015/mr-15-03.html\n",
      "/monetary-policy/rba-board-minutes/2015/2015-03-03.html\n",
      "/media-releases/2015/mr-15-01.html\n",
      "/monetary-policy/rba-board-minutes/2015/2015-02-03.html\n",
      "/media-releases/2014/mr-14-21.html\n",
      "/monetary-policy/rba-board-minutes/2014/02122014.html\n",
      "/media-releases/2014/mr-14-19.html\n",
      "/monetary-policy/rba-board-minutes/2014/04112014.html\n",
      "/media-releases/2014/mr-14-18.html\n",
      "/monetary-policy/rba-board-minutes/2014/07102014.html\n",
      "/media-releases/2014/mr-14-15.html\n",
      "/monetary-policy/rba-board-minutes/2014/02092014.html\n",
      "/media-releases/2014/mr-14-12.html\n",
      "/monetary-policy/rba-board-minutes/2014/05082014.html\n",
      "/media-releases/2014/mr-14-11.html\n",
      "/monetary-policy/rba-board-minutes/2014/01072014.html\n",
      "/media-releases/2014/mr-14-10.html\n",
      "/monetary-policy/rba-board-minutes/2014/03062014.html\n",
      "/media-releases/2014/mr-14-07.html\n",
      "/monetary-policy/rba-board-minutes/2014/06052014.html\n",
      "/media-releases/2014/mr-14-05.html\n",
      "/monetary-policy/rba-board-minutes/2014/01042014.html\n",
      "/media-releases/2014/mr-14-03.html\n",
      "/monetary-policy/rba-board-minutes/2014/04032014.html\n",
      "/media-releases/2014/mr-14-01.html\n",
      "/monetary-policy/rba-board-minutes/2014/04022014.html\n",
      "/media-releases/2013/mr-13-25.html\n",
      "/monetary-policy/rba-board-minutes/2013/03122013.html\n",
      "/media-releases/2013/mr-13-23.html\n",
      "/monetary-policy/rba-board-minutes/2013/05112013.html\n",
      "/media-releases/2013/mr-13-19.html\n",
      "/monetary-policy/rba-board-minutes/2013/01102013.html\n",
      "/media-releases/2013/mr-13-17.html\n",
      "/monetary-policy/rba-board-minutes/2013/03092013.html\n",
      "/media-releases/2013/mr-13-15.html\n",
      "/monetary-policy/rba-board-minutes/2013/06082013.html\n",
      "/media-releases/2013/mr-13-13.html\n",
      "/monetary-policy/rba-board-minutes/2013/02072013.html\n",
      "/media-releases/2013/mr-13-12.html\n",
      "/monetary-policy/rba-board-minutes/2013/04062013.html\n",
      "/media-releases/2013/mr-13-10.html\n",
      "/monetary-policy/rba-board-minutes/2013/07052013.html\n",
      "/media-releases/2013/mr-13-06.html\n",
      "/monetary-policy/rba-board-minutes/2013/02042013.html\n",
      "/media-releases/2013/mr-13-04.html\n",
      "/monetary-policy/rba-board-minutes/2013/05032013.html\n",
      "/media-releases/2013/mr-13-01.html\n",
      "/monetary-policy/rba-board-minutes/2013/05022013.html\n",
      "/media-releases/2012/mr-12-36.html\n",
      "/monetary-policy/rba-board-minutes/2012/04122012.html\n",
      "/media-releases/2012/mr-12-33.html\n",
      "/monetary-policy/rba-board-minutes/2012/06112012.html\n",
      "/media-releases/2012/mr-12-30.html\n",
      "/monetary-policy/rba-board-minutes/2012/02102012.html\n",
      "/media-releases/2012/mr-12-25.html\n",
      "/monetary-policy/rba-board-minutes/2012/04092012.html\n",
      "/media-releases/2012/mr-12-18.html\n",
      "/monetary-policy/rba-board-minutes/2012/07082012.html\n",
      "/media-releases/2012/mr-12-16.html\n",
      "/monetary-policy/rba-board-minutes/2012/03072012.html\n",
      "/media-releases/2012/mr-12-13.html\n",
      "/monetary-policy/rba-board-minutes/2012/05062012.html\n",
      "/media-releases/2012/mr-12-10.html\n",
      "/monetary-policy/rba-board-minutes/2012/01052012.html\n",
      "/media-releases/2012/mr-12-09.html\n",
      "/monetary-policy/rba-board-minutes/2012/03042012.html\n",
      "/media-releases/2012/mr-12-04.html\n",
      "/monetary-policy/rba-board-minutes/2012/06032012.html\n",
      "/media-releases/2012/mr-12-02.html\n",
      "/monetary-policy/rba-board-minutes/2012/07022012.html\n",
      "/media-releases/2011/mr-11-28.html\n",
      "/monetary-policy/rba-board-minutes/2011/06122011.html\n",
      "/media-releases/2011/mr-11-24.html\n",
      "/monetary-policy/rba-board-minutes/2011/01112011.html\n",
      "/media-releases/2011/mr-11-21.html\n",
      "/monetary-policy/rba-board-minutes/2011/04102011.html\n",
      "/media-releases/2011/mr-11-19.html\n",
      "/monetary-policy/rba-board-minutes/2011/06092011.html\n",
      "/media-releases/2011/mr-11-16.html\n",
      "/monetary-policy/rba-board-minutes/2011/02082011.html\n",
      "/media-releases/2011/mr-11-15.html\n",
      "/monetary-policy/rba-board-minutes/2011/05072011.html\n",
      "/media-releases/2011/mr-11-09.html\n",
      "/monetary-policy/rba-board-minutes/2011/07062011.html\n",
      "/media-releases/2011/mr-11-07.html\n",
      "/monetary-policy/rba-board-minutes/2011/03052011.html\n",
      "/media-releases/2011/mr-11-06.html\n",
      "/monetary-policy/rba-board-minutes/2011/05042011.html\n",
      "/media-releases/2011/mr-11-03.html\n",
      "/monetary-policy/rba-board-minutes/2011/01032011.html\n",
      "/media-releases/2011/mr-11-01.html\n",
      "/monetary-policy/rba-board-minutes/2011/01022011.html\n",
      "/media-releases/2010/mr-10-30.html\n",
      "/monetary-policy/rba-board-minutes/2010/07122010.html\n",
      "/media-releases/2010/mr-10-26.html\n",
      "/monetary-policy/rba-board-minutes/2010/02112010.html\n",
      "/media-releases/2010/mr-10-23.html\n",
      "/monetary-policy/rba-board-minutes/2010/05102010.html\n",
      "/media-releases/2010/mr-10-20.html\n",
      "/monetary-policy/rba-board-minutes/2010/07092010.html\n",
      "/media-releases/2010/mr-10-16.html\n",
      "/monetary-policy/rba-board-minutes/2010/03082010.html\n",
      "/media-releases/2010/mr-10-12.html\n",
      "/monetary-policy/rba-board-minutes/2010/06072010.html\n",
      "/media-releases/2010/mr-10-11.html\n",
      "/monetary-policy/rba-board-minutes/2010/01062010.html\n",
      "/media-releases/2010/mr-10-07.html\n",
      "/monetary-policy/rba-board-minutes/2010/04052010.html\n",
      "/media-releases/2010/mr-10-06.html\n",
      "/monetary-policy/rba-board-minutes/2010/06042010.html\n",
      "/media-releases/2010/mr-10-04.html\n",
      "/monetary-policy/rba-board-minutes/2010/02032010.html\n",
      "/media-releases/2010/mr-10-02.html\n",
      "/monetary-policy/rba-board-minutes/2010/02022010.html\n",
      "/media-releases/2009/mr-09-28.html\n",
      "/monetary-policy/rba-board-minutes/2009/01122009.html\n",
      "/media-releases/2009/mr-09-25.html\n",
      "/monetary-policy/rba-board-minutes/2009/03112009.html\n",
      "/media-releases/2009/mr-09-23.html\n",
      "/monetary-policy/rba-board-minutes/2009/06102009.html\n",
      "/media-releases/2009/mr-09-19.html\n",
      "/monetary-policy/rba-board-minutes/2009/01092009.html\n",
      "/media-releases/2009/mr-09-16.html\n",
      "/monetary-policy/rba-board-minutes/2009/04082009.html\n",
      "/media-releases/2009/mr-09-15.html\n",
      "/monetary-policy/rba-board-minutes/2009/07072009.html\n",
      "/media-releases/2009/mr-09-12.html\n",
      "/monetary-policy/rba-board-minutes/2009/02062009.html\n",
      "/media-releases/2009/mr-09-08.html\n",
      "/monetary-policy/rba-board-minutes/2009/05052009.html\n",
      "/media-releases/2009/mr-09-06.html\n",
      "/monetary-policy/rba-board-minutes/2009/07042009.html\n",
      "/media-releases/2009/mr-09-05.html\n",
      "/monetary-policy/rba-board-minutes/2009/03032009.html\n",
      "/media-releases/2009/mr-09-01.html\n",
      "/monetary-policy/rba-board-minutes/2009/03022009.html\n",
      "/media-releases/2008/mr-08-27.html\n",
      "/monetary-policy/rba-board-minutes/2008/02122008.html\n",
      "/media-releases/2008/mr-08-25.html\n",
      "/monetary-policy/rba-board-minutes/2008/04112008.html\n",
      "/media-releases/2008/mr-08-20.html\n",
      "/monetary-policy/rba-board-minutes/2008/07102008.html\n",
      "/media-releases/2008/mr-08-14.html\n",
      "/monetary-policy/rba-board-minutes/2008/02092008.html\n",
      "/media-releases/2008/mr-08-12.html\n",
      "/monetary-policy/rba-board-minutes/2008/05082008.html\n",
      "/media-releases/2008/mr-08-10.html\n",
      "/monetary-policy/rba-board-minutes/2008/01072008.html\n",
      "/media-releases/2008/mr-08-09.html\n",
      "/monetary-policy/rba-board-minutes/2008/03062008.html\n",
      "/media-releases/2008/mr-08-07.html\n",
      "/monetary-policy/rba-board-minutes/2008/06052008.html\n",
      "/media-releases/2008/mr-08-04.html\n",
      "/monetary-policy/rba-board-minutes/2008/01042008.html\n",
      "/media-releases/2008/mr-08-03.html\n",
      "/monetary-policy/rba-board-minutes/2008/04032008.html\n",
      "/media-releases/2008/mr-08-02.html\n",
      "/monetary-policy/rba-board-minutes/2008/05022008.html\n",
      "/media-releases/2007/mr-07-21.html\n",
      "/monetary-policy/rba-board-minutes/2007/04122007.html\n",
      "/media-releases/2007/mr-07-20.html\n",
      "/monetary-policy/rba-board-minutes/2007/06112007.html\n",
      "/monetary-policy/rba-board-minutes/2007/02102007.html\n",
      "/monetary-policy/rba-board-minutes/2007/04092007.html\n",
      "/media-releases/2007/mr-07-11.html\n",
      "/monetary-policy/rba-board-minutes/2007/07082007.html\n",
      "/monetary-policy/rba-board-minutes/2007/03072007.html\n",
      "/monetary-policy/rba-board-minutes/2007/05062007.html\n",
      "/monetary-policy/rba-board-minutes/2007/01052007.html\n",
      "/monetary-policy/rba-board-minutes/2007/03042007.html\n",
      "/monetary-policy/rba-board-minutes/2007/06032007.html\n",
      "/monetary-policy/rba-board-minutes/2007/06022007.html\n",
      "/monetary-policy/rba-board-minutes/2006/05122006.html\n",
      "/media-releases/2006/mr-06-11.html\n",
      "/monetary-policy/rba-board-minutes/2006/07112006.html\n",
      "/monetary-policy/rba-board-minutes/2006/03102006.html\n",
      "/media-releases/2006/mr-06-05.html\n",
      "/media-releases/2006/mr-06-03.html\n",
      "/media-releases/2005/mr-05-04.html\n",
      "/media-releases/2003/mr-03-17.html\n",
      "/media-releases/2003/mr-03-15.html\n",
      "/media-releases/2002/mr-02-11.html\n",
      "/media-releases/2002/mr-02-10.html\n",
      "/media-releases/2001/mr-01-23.html\n",
      "/media-releases/2001/mr-01-17.html\n",
      "/media-releases/2001/mr-01-15.html\n",
      "/media-releases/2001/mr-01-07.html\n",
      "/media-releases/2001/mr-01-04.html\n",
      "/media-releases/2001/mr-01-03.html\n",
      "/media-releases/2000/mr-00-13.html\n",
      "/media-releases/2000/mr-00-11.html\n",
      "/media-releases/2000/mr-00-08.html\n",
      "/media-releases/2000/mr-00-03.html\n",
      "/media-releases/1999/mr-99-11.html\n",
      "/media-releases/1998/mr-98-16.html\n",
      "/media-releases/1997/mr-97-15.html\n",
      "/media-releases/1997/mr-97-10.html\n",
      "/media-releases/1996/mr-96-14.html\n",
      "/media-releases/1996/mr-96-13.html\n",
      "/media-releases/1996/mr-96-09.html\n",
      "/media-releases/1994/mr-94-21.html\n",
      "/media-releases/1994/mr-94-17.html\n",
      "/media-releases/1994/mr-94-11.html\n",
      "/media-releases/1993/mr-93-17.html\n",
      "/media-releases/1993/mr-93-05.html\n",
      "/media-releases/1992/mr-92-18.html\n",
      "/media-releases/1992/mr-92-11.html\n",
      "/media-releases/1992/mr-92-03.html\n",
      "/media-releases/1991/mr-91-21.html\n",
      "/media-releases/1991/mr-91-15.html\n",
      "/media-releases/1991/mr-91-08.html\n",
      "/media-releases/1991/mr-91-05.html\n",
      "/media-releases/1990/mr-90-32.html\n",
      "/media-releases/1990/mr-90-29.html\n",
      "/media-releases/1990/mr-90-20.html\n",
      "/media-releases/1990/mr-90-12.html\n",
      "/media-releases/1990/mr-90-10.html\n",
      "/media-releases/1990/mr-90-03.html\n",
      "/monetary-policy/about.html#the_implementation_of_monetary_policy\n",
      "/monetary-policy/int-rate-decisions/\n",
      "/monetary-policy/rba-board-minutes/\n",
      "/statistics/tables/xls/a02hist.xls\n",
      "#top\n",
      "/updates/email-and-sms-service.html\n",
      "/updates/social-media.html\n",
      "https://www.facebook.com/ReserveBankAU\n",
      "https://www.x.com/RBAInfo\n",
      "https://www.linkedin.com/company/reserve-bank-of-australia\n",
      "https://www.youtube.com/RBAInfo\n",
      "https://www.instagram.com/reservebankau/\n",
      "https://www.flickr.com/photos/reservebankofaustralia/albums\n",
      "https://banknotes.rba.gov.au\n",
      "https://unreserved.rba.gov.au\n",
      "https://museum.rba.gov.au\n",
      "https://www.cfr.gov.au\n",
      "https://afxc.rba.gov.au\n",
      "https://hccoombscentre.gov.au\n",
      "http://www.foundationforchildren.com.au\n",
      "/copyright/\n",
      "/media/\n",
      "/judicial-notice/\n",
      "/privacy/\n",
      "/accessibility/\n",
      "/procurement/\n",
      "/glossary/\n",
      "/schedules-events/\n",
      "/vulnerability-disclosure-program/\n",
      "/scams/\n",
      "/pid/\n",
      "/information/\n"
     ]
    }
   ],
   "source": [
    "from bs4 import BeautifulSoup\n",
    "page_content = BeautifulSoup(webpage_source, 'lxml')\n",
    "\n",
    "# Example 1: print the title element of the page content\n",
    "print(\"Example 1: get a specific HTML element - such as the page title\")\n",
    "print(page_content.title)\n",
    "\n",
    "# Example 2: print just the text of the title element using the 'text' operator\n",
    "print(\"\\nExample 2: get HTML element's text content\")\n",
    "print(page_content.title.string)\n",
    "\n",
    "# Example 3: navigate along a tag sequence path and print content\n",
    "print(\"\\nExample 3: navigate along an element path to some content inside the page\")\n",
    "print(page_content.body.div['id'])\n",
    "\n",
    "# Example 4: find ALL hyperlinks on the page (anywhere on the page, just print URL)\n",
    "print(\"\\nExample 4: find_all() URLs of hyperlinks on this webpage\")\n",
    "for link in page_content.find_all(\"a\"):\n",
    "    if (link.has_attr('href')):  \n",
    "        print(link.get('href'));"
   ]
  },
  {
   "cell_type": "markdown",
   "id": "48d61ee1",
   "metadata": {},
   "source": [
    "## Question 1.1: Interest Rate Decisions\n",
    "\n",
    "Now that we have gained insights into webpage navigation, let's dive into the practical application. In this exercise, our goal is to extract information regarding the Interest Rate Decisions about the cash rate target. Subsequently, we aim to select an appropriate visualization method to effectively represent and comprehend this extracted data. Let's embark on this task to enhance our skills in web data extraction and visualization.\n"
   ]
  },
  {
   "cell_type": "code",
   "execution_count": null,
   "id": "89d4e307",
   "metadata": {},
   "outputs": [],
   "source": [
    "#TODO replace the content of this cell with your Python solution.\n",
    "raise NotImplementedError"
   ]
  },
  {
   "cell_type": "markdown",
   "id": "79028ca2",
   "metadata": {},
   "source": [
    "## Question 1.2: Retail Payments\n",
    "\n",
    "As part of the analysis, your task is to apply a standardized procedure to extract HTML data from two specified webpages. Specifically, focus on extracting information from the tables related to the Value of Retail Payments and the number of retail payments on both webpages. Pay particular attention to the data corresponding to the month of January for the years 2023 and 2022. Once the data extraction is complete, your next step is to generate comparison plots that vividly illustrate the trends in both the Value of Retail Payments and the number of retail payments over the specified timeframe. These plots will serve as valuable visualizations for understanding and comparing the patterns and fluctuations between the two years.\n",
    "\n"
   ]
  },
  {
   "cell_type": "code",
   "execution_count": 12,
   "id": "68028ae1",
   "metadata": {},
   "outputs": [
    {
     "data": {
      "text/plain": [
       "<title>Retail Payments January 2022 | RBA</title>"
      ]
     },
     "execution_count": 12,
     "metadata": {},
     "output_type": "execute_result"
    }
   ],
   "source": [
    "from bs4 import BeautifulSoup\n",
    "import requests\n",
    "html = requests.get(\"https://www.rba.gov.au/statistics/frequency/retail-payments/2022/retail-payments-0122.html\").text\n",
    "page = BeautifulSoup(html, 'lxml')\n",
    "\n",
    "page.title"
   ]
  },
  {
   "cell_type": "code",
   "execution_count": null,
   "id": "292328f6",
   "metadata": {},
   "outputs": [],
   "source": [
    "#TODO replace the content of this cell with your Python solution.\n",
    "raise NotImplementedError"
   ]
  },
  {
   "cell_type": "code",
   "execution_count": 159,
   "id": "92efa8dd",
   "metadata": {},
   "outputs": [
    {
     "data": {
      "text/plain": [
       "<title>Retail Payments January 2023 | RBA</title>"
      ]
     },
     "execution_count": 159,
     "metadata": {},
     "output_type": "execute_result"
    }
   ],
   "source": [
    "from bs4 import BeautifulSoup\n",
    "import requests\n",
    "html = requests.get(\"https://www.rba.gov.au/statistics/frequency/retail-payments/2023/retail-payments-0123.html\").text\n",
    "page = BeautifulSoup(html, 'lxml')\n",
    "\n",
    "page.title\n"
   ]
  },
  {
   "cell_type": "code",
   "execution_count": null,
   "id": "189f0d4b",
   "metadata": {},
   "outputs": [],
   "source": [
    "#TODO replace the content of this cell with your Python solution.\n",
    "raise NotImplementedError"
   ]
  },
  {
   "cell_type": "markdown",
   "id": "9366ffd3",
   "metadata": {},
   "source": [
    "# STOP PLEASE. THE FOLLOWING IS FOR THE NEXT EXERCISE. THANKS.\n"
   ]
  },
  {
   "cell_type": "markdown",
   "id": "d1204bc9",
   "metadata": {},
   "source": [
    " \n",
    "\n",
    "\n",
    "# EXERCISE 2: Using Web APIs with JSON and XML to gather data"
   ]
  },
  {
   "cell_type": "markdown",
   "id": "d9a07935",
   "metadata": {},
   "source": [
    "### Example 1: GitHub API\n",
    "Extracting some information from the meta-data of a GitHub repository.\n",
    "\n",
    "This is also an example of how to use the Pandas library to work with JSON data."
   ]
  },
  {
   "cell_type": "code",
   "execution_count": 64,
   "id": "0585302f",
   "metadata": {},
   "outputs": [
    {
     "name": "stdout",
     "output_type": "stream",
     "text": [
      "Most recent 3 repositories:\n",
      "pgweb-static : HTML\n",
      "pgarchives : Python\n",
      "pgweb : HTML\n"
     ]
    }
   ],
   "source": [
    "import requests\n",
    "import pandas as pd\n",
    "\n",
    "endpoint = \"https://api.github.com/users/postgres/repos\"\n",
    "response = requests.get(endpoint)\n",
    "repos    = json.loads(response.text)\n",
    "\n",
    "print(\"Most recent 3 repositories:\")\n",
    "last_3_repositories = sorted (repos, key=lambda r: r[\"created_at\"], reverse=True)[:3]\n",
    "\n",
    "for repo in last_3_repositories:\n",
    "    print(repo[\"name\"], \":\", repo[\"language\"])"
   ]
  },
  {
   "cell_type": "code",
   "execution_count": 65,
   "id": "07d4216b",
   "metadata": {},
   "outputs": [
    {
     "data": {
      "text/html": [
       "<div>\n",
       "<style scoped>\n",
       "    .dataframe tbody tr th:only-of-type {\n",
       "        vertical-align: middle;\n",
       "    }\n",
       "\n",
       "    .dataframe tbody tr th {\n",
       "        vertical-align: top;\n",
       "    }\n",
       "\n",
       "    .dataframe thead th {\n",
       "        text-align: right;\n",
       "    }\n",
       "</style>\n",
       "<table border=\"1\" class=\"dataframe\">\n",
       "  <thead>\n",
       "    <tr style=\"text-align: right;\">\n",
       "      <th></th>\n",
       "      <th>name</th>\n",
       "      <th>language</th>\n",
       "      <th>created_at</th>\n",
       "    </tr>\n",
       "  </thead>\n",
       "  <tbody>\n",
       "    <tr>\n",
       "      <th>2</th>\n",
       "      <td>pgweb-static</td>\n",
       "      <td>HTML</td>\n",
       "      <td>2019-11-05 19:47:15+00:00</td>\n",
       "    </tr>\n",
       "    <tr>\n",
       "      <th>0</th>\n",
       "      <td>pgarchives</td>\n",
       "      <td>Python</td>\n",
       "      <td>2019-11-01 11:08:32+00:00</td>\n",
       "    </tr>\n",
       "    <tr>\n",
       "      <th>1</th>\n",
       "      <td>pgweb</td>\n",
       "      <td>HTML</td>\n",
       "      <td>2011-12-18 15:28:47+00:00</td>\n",
       "    </tr>\n",
       "  </tbody>\n",
       "</table>\n",
       "</div>"
      ],
      "text/plain": [
       "           name language                created_at\n",
       "2  pgweb-static     HTML 2019-11-05 19:47:15+00:00\n",
       "0    pgarchives   Python 2019-11-01 11:08:32+00:00\n",
       "1         pgweb     HTML 2011-12-18 15:28:47+00:00"
      ]
     },
     "execution_count": 65,
     "metadata": {},
     "output_type": "execute_result"
    }
   ],
   "source": [
    "# the same using Pandas\n",
    "import requests\n",
    "import pandas as pd\n",
    "endpoint = \"https://api.github.com/users/postgres/repos\"\n",
    "response = requests.get(endpoint)\n",
    "\n",
    "df = pd.read_json(response.text)\n",
    "df.sort_values(by='created_at', ascending=False, inplace=True)\n",
    "df[['name','language','created_at']].head(3)\n"
   ]
  },
  {
   "cell_type": "code",
   "execution_count": 66,
   "id": "6f6f4b7f",
   "metadata": {},
   "outputs": [
    {
     "data": {
      "text/html": [
       "<div>\n",
       "<style scoped>\n",
       "    .dataframe tbody tr th:only-of-type {\n",
       "        vertical-align: middle;\n",
       "    }\n",
       "\n",
       "    .dataframe tbody tr th {\n",
       "        vertical-align: top;\n",
       "    }\n",
       "\n",
       "    .dataframe thead th {\n",
       "        text-align: right;\n",
       "    }\n",
       "</style>\n",
       "<table border=\"1\" class=\"dataframe\">\n",
       "  <thead>\n",
       "    <tr style=\"text-align: right;\">\n",
       "      <th></th>\n",
       "      <th>name</th>\n",
       "      <th>language</th>\n",
       "      <th>updated_at</th>\n",
       "    </tr>\n",
       "  </thead>\n",
       "  <tbody>\n",
       "    <tr>\n",
       "      <th>3</th>\n",
       "      <td>postgres</td>\n",
       "      <td>C</td>\n",
       "      <td>2024-02-05 02:12:15+00:00</td>\n",
       "    </tr>\n",
       "    <tr>\n",
       "      <th>1</th>\n",
       "      <td>pgweb</td>\n",
       "      <td>HTML</td>\n",
       "      <td>2024-01-29 15:16:31+00:00</td>\n",
       "    </tr>\n",
       "    <tr>\n",
       "      <th>4</th>\n",
       "      <td>postgres-old-soon-decommissioned</td>\n",
       "      <td>C</td>\n",
       "      <td>2024-01-19 17:46:18+00:00</td>\n",
       "    </tr>\n",
       "    <tr>\n",
       "      <th>0</th>\n",
       "      <td>pgarchives</td>\n",
       "      <td>Python</td>\n",
       "      <td>2023-12-23 14:48:21+00:00</td>\n",
       "    </tr>\n",
       "    <tr>\n",
       "      <th>2</th>\n",
       "      <td>pgweb-static</td>\n",
       "      <td>HTML</td>\n",
       "      <td>2023-12-23 14:48:17+00:00</td>\n",
       "    </tr>\n",
       "  </tbody>\n",
       "</table>\n",
       "</div>"
      ],
      "text/plain": [
       "                               name language                updated_at\n",
       "3                          postgres        C 2024-02-05 02:12:15+00:00\n",
       "1                             pgweb     HTML 2024-01-29 15:16:31+00:00\n",
       "4  postgres-old-soon-decommissioned        C 2024-01-19 17:46:18+00:00\n",
       "0                        pgarchives   Python 2023-12-23 14:48:21+00:00\n",
       "2                      pgweb-static     HTML 2023-12-23 14:48:17+00:00"
      ]
     },
     "execution_count": 66,
     "metadata": {},
     "output_type": "execute_result"
    }
   ],
   "source": [
    "# From the lecture slides: list of programming languages used in PostgreSQL for the last 5 updated repositories according to GitHub repositories\n",
    "import requests\n",
    "import pandas as pd\n",
    "\n",
    "base_url = 'https://api.github.com/users/postgres/repos'\n",
    "response = requests.get(base_url)\n",
    "\n",
    "df = pd.read_json(response.text)\n",
    "\n",
    "df.sort_values(by='updated_at', ascending=False, inplace=True)\n",
    "df[['name','language','updated_at']].head(5)"
   ]
  },
  {
   "cell_type": "markdown",
   "id": "e6c07d90",
   "metadata": {},
   "source": [
    "### Example 2: Web API returning XML\n",
    "\n",
    "Some web APIs return data in **XML** format.\n",
    "The easiest library to work with such kind of data in Python is called **lxml**.\n",
    "Its documentation can be found here:<br>\n",
    "http://lxml.de"
   ]
  },
  {
   "cell_type": "code",
   "execution_count": 67,
   "id": "ccfc76e1",
   "metadata": {},
   "outputs": [
    {
     "name": "stdout",
     "output_type": "stream",
     "text": [
      "8\n"
     ]
    },
    {
     "data": {
      "text/plain": [
       "['Justice Department Announces New National Security Cyber Section Within the National Security Division',\n",
       " 'Readout of Justice Department Convening with National Public Defense Organizations Hosted by the Office for Access to Justice',\n",
       " 'Assistant Attorney General Matthew G. Olsen Delivers Remarks at Hoover Institution Announcing National Security Cyber Section',\n",
       " 'Owner of Car Parts Remanufacturing Company  Pleads Guilty to Employment Tax Crime',\n",
       " 'Federal Jury Convicts Three Defendants of Interstate Stalking of Chinese Nationals in the United States and Two Defendants of Acting or Conspiring to Act on Behalf of the People’s Republic of China',\n",
       " 'Gerard R. Vetter Appointed Acting U.S. Trustee for Maryland, South Carolina, Virginia, West Virginia, and the District of Columbia',\n",
       " 'Assistant Attorney General Jonathan Kanter Delivers Keynote Address at the Brookings Institution’s Center on Regulation and Markets Event “Promoting Competition in Banking” ',\n",
       " 'Canadian Man Convicted in Multimillion-Dollar Psychic Mass-Mailing Fraud Scheme',\n",
       " 'Man Convicted of $54M Bribery and Kickback Scheme Involving Fraudulent Prescriptions',\n",
       " ' Lab Billing Company Settles False Claims Act Allegations Relating to Unnecessary Respiratory Panels Run on Seniors Receiving COVID-19 Tests',\n",
       " 'Assistant Attorney General Kristen Clarke Delivers Remarks on Justice Department Findings of Civil Rights Violations by the Minneapolis Police Department and the City of Minneapolis',\n",
       " 'Justice Department Finds Civil Rights Violations by the Minneapolis Police Department and the City of Minneapolis',\n",
       " 'Associate Attorney General Vanita Gupta Delivers Remarks on Justice Department Findings of Civil Rights Violations by the Minneapolis Police Department and the City of Minneapolis',\n",
       " 'Attorney General Merrick B. Garland Delivers Remarks on Justice Department Findings of Civil Rights Violations by the Minneapolis Police Department and the City of Minneapolis',\n",
       " 'Woman Pleads Guilty to Murder Conspiracy',\n",
       " 'Readout from Associate Attorney General Vanita Gupta’s Meeting with Mille Lacs Band of Ojibwe',\n",
       " 'Two Jacksonville Compounding Pharmacies and Their Owner Agree to Pay at Least $7.4 Million to Resolve False Claims Act Allegations',\n",
       " 'Air National Guardsman Indicted for Unlawful Disclosure of Classified National Defense Information',\n",
       " 'Oregon Man Pleads Guilty to Hate Crime Charges for Bias-Motivated Attacks in Boise',\n",
       " 'Foreign National Sentenced for International Cocaine Trafficking Conspiracy']"
      ]
     },
     "execution_count": 67,
     "metadata": {},
     "output_type": "execute_result"
    }
   ],
   "source": [
    "###### In the \"Justice News\" RSS feed maintained by the Justice Department, the number of items published on a Friday\n",
    "from datetime import datetime\n",
    "from lxml import etree\n",
    "import requests\n",
    "url = 'https://www.justice.gov/feeds/opa/justice-news.xml'\n",
    "news= requests.get(url).content\n",
    "doc = etree.fromstring(requests.get(url).content)\n",
    "items = doc.xpath('//channel/item')\n",
    "\n",
    "# how many news items on last Friday?\n",
    "dates = [item.find('pubDate').text.strip() for item in items]\n",
    "ts = [datetime.strptime(d[0:16], \"%a, %d %b %Y\") for d in dates]\n",
    "# for weekday(), 4 correspond to Friday\n",
    "print(len([t for t in ts if t.weekday() == 4]))\n",
    "\n",
    "# which news items were this\n",
    "titles = [item.find('title').text for item in items]\n",
    "titles"
   ]
  },
  {
   "cell_type": "markdown",
   "id": "c6827b41",
   "metadata": {},
   "source": [
    "### Example 3: Map APIs\n",
    "Here's another example with parameters send to a web service:\n",
    "\n",
    "There are several MAP API systems that allow you to convert a location address to a GPS location (and some information more). The most popular of these is Google's Maps Platform. However, this underwent an access change in June 2018 which meant that it is now requires an API key and associated billing information.\n",
    "\n",
    "So instead, we will be using the Open Street Maps project at https://www.openstreetmap.org. \n",
    "Note that this service does have however a restriction of 1 API call per second. \n",
    "The following example looks up the GPS location of UTS at \"15 Broadway, Ultimo, Australia\":\n"
   ]
  },
  {
   "cell_type": "code",
   "execution_count": 63,
   "id": "f13e54c5",
   "metadata": {},
   "outputs": [
    {
     "name": "stdout",
     "output_type": "stream",
     "text": [
      "waiting for 20 seconds based on a class size of 25\n",
      "This is what the response looks like:\n",
      "[{'address': {'ISO3166-2-lvl4': 'AU-NSW',\n",
      "              'building': 'UTS Tower',\n",
      "              'city': 'Sydney',\n",
      "              'country': 'Australia',\n",
      "              'country_code': 'au',\n",
      "              'house_number': '15',\n",
      "              'municipality': 'Council of the City of Sydney',\n",
      "              'postcode': '2007',\n",
      "              'road': 'Broadway',\n",
      "              'state': 'New South Wales',\n",
      "              'suburb': 'Ultimo'},\n",
      "  'addresstype': 'building',\n",
      "  'boundingbox': ['-33.8840957', '-33.8831512', '151.2003357', '151.2013478'],\n",
      "  'class': 'building',\n",
      "  'display_name': 'UTS Tower, 15, Broadway, Ultimo, Sydney, Council of the '\n",
      "                  'City of Sydney, New South Wales, 2007, Australia',\n",
      "  'importance': 0.282582546755277,\n",
      "  'lat': '-33.8836679',\n",
      "  'licence': 'Data © OpenStreetMap contributors, ODbL 1.0. '\n",
      "             'http://osm.org/copyright',\n",
      "  'lon': '151.20085784477652',\n",
      "  'name': 'UTS Tower',\n",
      "  'osm_id': 976544928,\n",
      "  'osm_type': 'way',\n",
      "  'place_id': 50807590,\n",
      "  'place_rank': 30,\n",
      "  'type': 'university'},\n",
      " {'address': {'ISO3166-2-lvl4': 'AU-NSW',\n",
      "              'amenity': 'The Loft UTS',\n",
      "              'city': 'Sydney',\n",
      "              'country': 'Australia',\n",
      "              'country_code': 'au',\n",
      "              'house_number': '15',\n",
      "              'municipality': 'Council of the City of Sydney',\n",
      "              'postcode': '2007',\n",
      "              'road': 'Broadway',\n",
      "              'state': 'New South Wales',\n",
      "              'suburb': 'Ultimo'},\n",
      "  'addresstype': 'amenity',\n",
      "  'boundingbox': ['-33.8837770', '-33.8836770', '151.2015099', '151.2016099'],\n",
      "  'class': 'amenity',\n",
      "  'display_name': 'The Loft UTS, 15, Broadway, Ultimo, Sydney, Council of the '\n",
      "                  'City of Sydney, New South Wales, 2007, Australia',\n",
      "  'importance': 9.99999999995449e-06,\n",
      "  'lat': '-33.883727',\n",
      "  'licence': 'Data © OpenStreetMap contributors, ODbL 1.0. '\n",
      "             'http://osm.org/copyright',\n",
      "  'lon': '151.2015599',\n",
      "  'name': 'The Loft UTS',\n",
      "  'osm_id': 2699744957,\n",
      "  'osm_type': 'node',\n",
      "  'place_id': 50784250,\n",
      "  'place_rank': 30,\n",
      "  'type': 'bar'}]\n",
      "Here is the Longitude and Latitude of our school:\n",
      "151.20085784477652 -33.8836679\n"
     ]
    }
   ],
   "source": [
    "# Lookup of a given address via Open Street Maps Wep-API:\n",
    "import requests\n",
    "import time\n",
    "import random\n",
    "import pprint\n",
    "\n",
    "def waitrequest(base_url, my_params):\n",
    "    # wait 5 second before we make the request, ideally we can prevent too many requests this way \n",
    "    # if we do too many requests, the whole uni's IP range can be locked out!\n",
    "    classsize = 25\n",
    "    sleeptime = random.randint(1,classsize)\n",
    "    print(\"waiting for \"+str(sleeptime)+\" seconds based on a class size of \"+str(classsize))\n",
    "    time.sleep(sleeptime)\n",
    "    return requests.get(base_url, params = my_params)\n",
    "\n",
    "base_url = 'https://nominatim.openstreetmap.org/search'\n",
    "my_params= {'q': '15 Broadway, Ultimo, Australia','format':'json','polygon' : 1, 'addressdetails': 1 }\n",
    "\n",
    "response = waitrequest(base_url, my_params)\n",
    "results  = response.json()\n",
    "if (results):\n",
    "    # Check what the results look like\n",
    "    print(\"This is what the response looks like:\")\n",
    "    pprint.pprint(results)\n",
    "    if (len(results) > 0):\n",
    "        x_geo    = results[0]\n",
    "        print(\"Here is the Longitude and Latitude of our school:\")\n",
    "        print(x_geo['lon'], x_geo['lat'])\n",
    "else:\n",
    "    print(\"no results\")"
   ]
  },
  {
   "cell_type": "markdown",
   "id": "d0fed068",
   "metadata": {},
   "source": [
    "## Question 2: Retrieve Geo-Location of Arrival Ports of Convict Ship 'Adelaide' \n",
    " - Where lies 'Van Diemen's Land'?<br>\n",
    "   Use the Open Street Maps Web-API to check for the *GPS location* of the landing locations of the first voyage of the convict transportation ship \"Adelaide\" (cf. Exercise 1b): **Port Phillip** and **Van Diemen's Land**\n",
    " - Also retrieve the 'boundingbox'.<br>\n",
    "   For this you might need to inspect first how the JSON response is structured: Do hence first a pretty-print of the corresponding JSON response data.\n",
    " - Tip: if you want to see a map for a given GPS location, try: https://www.latlong.net/\n"
   ]
  },
  {
   "cell_type": "code",
   "execution_count": null,
   "id": "366a9b8f",
   "metadata": {},
   "outputs": [],
   "source": [
    "#TODO replace the content of this cell with your Python solution.\n",
    "raise NotImplementedErro"
   ]
  },
  {
   "cell_type": "code",
   "execution_count": null,
   "id": "6742857b",
   "metadata": {},
   "outputs": [],
   "source": []
  }
 ],
 "metadata": {
  "kernelspec": {
   "display_name": "Python 3 (ipykernel)",
   "language": "python",
   "name": "python3"
  },
  "language_info": {
   "codemirror_mode": {
    "name": "ipython",
    "version": 3
   },
   "file_extension": ".py",
   "mimetype": "text/x-python",
   "name": "python",
   "nbconvert_exporter": "python",
   "pygments_lexer": "ipython3",
   "version": "3.11.5"
  }
 },
 "nbformat": 4,
 "nbformat_minor": 5
}
