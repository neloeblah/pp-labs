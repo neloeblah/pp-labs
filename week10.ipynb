{
 "cells": [
  {
   "cell_type": "markdown",
   "id": "917fe41c",
   "metadata": {},
   "source": [
    "#  Unit Testing and Error Handling\n",
    "\n",
    "Unit Testing ensures the reliability of individual units or components within a software application by systematically verifying their behavior through automated tests. Error Handling, on the other hand, focuses on gracefully managing and responding to errors or exceptions that occur during program execution. By incorporating both practices into the development process, developers can build more robust and reliable software, capable of detecting and handling errors effectively while maintaining overall code quality and stability."
   ]
  },
  {
   "cell_type": "markdown",
   "id": "90a41575",
   "metadata": {},
   "source": [
    "The unittest module in Python is a built-in framework for writing and executing unit tests, providing developers with a robust and flexible solution for automated testing. By defining test cases as subclasses of unittest.TestCase and using assertions to verify expected outcomes, developers can ensure the reliability and correctness of their codebase."
   ]
  },
  {
   "cell_type": "markdown",
   "id": "0852f184",
   "metadata": {},
   "source": [
    "# EXERCISE 1: Testing functions\n",
    "\n",
    "## Example 1.1: Formatted Name\n",
    "\n",
    "### A Passing Test "
   ]
  },
  {
   "cell_type": "markdown",
   "id": "d233a48d",
   "metadata": {},
   "source": [
    "Create a Python file named \"name_function.py\" and define a function called \"get_formatted_name()\" following the specifications provided in the lecture slides."
   ]
  },
  {
   "cell_type": "code",
   "execution_count": null,
   "id": "ad0ba6e5",
   "metadata": {},
   "outputs": [],
   "source": [
    "\n",
    "import unittest\n",
    "from name_function import get_formatted_name  \n",
    "\n",
    "class NamesTestCase(unittest.TestCase):\n",
    "    #\"\"\"Tests for 'name_function.py'.\"\"\"\n",
    "\n",
    "    def test_first_last_name(self):\n",
    "        #\"\"\"Do names like 'Bob Dylan' work?\"\"\"\n",
    "        formatted_name = get_formatted_name('bob', 'dylan')\n",
    "        self.assertEqual(formatted_name, \"Bob Dylan\")\n",
    "\n",
    "unittest.main(argv=[''], verbosity=2, exit=False);\n",
    "\n"
   ]
  },
  {
   "cell_type": "markdown",
   "id": "12f3c88f",
   "metadata": {},
   "source": [
    "The verbosity parameter controls the amount of detail displayed when running tests. Here's a description of the verbosity levels:\n",
    "\n",
    "- verbosity=0: Only the total number of tests run and the overall result (OK or FAILURE) are displayed.\n",
    "- verbosity=1 (default): Displays a dot for each successful test and a character representing the outcome of each test case (E for error, F for failure, etc.).\n",
    "- verbosity=2: Displays the name of each test case as it runs, along with the outcome (OK, ERROR, FAIL, etc.), and a summary at the end showing the total number of tests run and any errors or failures encountered.\n",
    "\n",
    "Increasing the verbosity level (e.g., setting verbosity=2) provides more detailed information during test execution, which can be helpful for debugging and understanding the test results."
   ]
  },
  {
   "cell_type": "markdown",
   "id": "df2c34ba",
   "metadata": {},
   "source": [
    "### A Failing Test"
   ]
  },
  {
   "cell_type": "code",
   "execution_count": null,
   "id": "3ea68e50",
   "metadata": {},
   "outputs": [],
   "source": [
    "\n",
    "import unittest\n",
    "from name_function_middle import get_formatted_name\n",
    "\n",
    "class NamesTestCase(unittest.TestCase):\n",
    "    #\"\"\"Tests for 'name_function.py'.\"\"\"\n",
    "\n",
    "    def test_first_last_name(self):\n",
    "        #\"\"\"Do names like 'Bob Dylan' work?\"\"\"\n",
    "        formatted_name = get_formatted_name('bob', 'dylan')\n",
    "        self.assertEqual(formatted_name, \"Bob Dylan\")\n",
    "\n",
    "unittest.main(argv=[''], verbosity=2, exit=False);\n",
    "\n"
   ]
  },
  {
   "cell_type": "markdown",
   "id": "babeb548",
   "metadata": {},
   "source": [
    "### Responding to a Failing Test "
   ]
  },
  {
   "cell_type": "code",
   "execution_count": null,
   "id": "0b891611",
   "metadata": {},
   "outputs": [],
   "source": [
    "import unittest\n",
    "from name_function import get_formatted_name\n",
    "\n",
    "class NamesTestCase(unittest.TestCase):\n",
    "    \"\"\"Tests for 'name_function.py'.\"\"\"\n",
    "\n",
    "    def test_first_last_name(self):\n",
    "        \"\"\"Do names like 'Bob Dylan' work?\"\"\"\n",
    "        formatted_name = get_formatted_name('bob', 'dylan')\n",
    "        self.assertEqual(formatted_name, \"Bob Dylan\")\n",
    "\n",
    "    def test_first_middle_last_name(self):\n",
    "        \"\"\"Do names like 'Edgar Allan Poe' work?\"\"\"\n",
    "        formatted_name = get_formatted_name('edgar', 'poe', 'allan')\n",
    "        self.assertEqual(formatted_name, \"Edgar Allan Poe\")\n",
    "\n",
    "unittest.main(argv=[''], verbosity=2, exit=False);\n"
   ]
  },
  {
   "cell_type": "markdown",
   "id": "bca61147",
   "metadata": {},
   "source": [
    "\n",
    "## Example 1.2: Rectangle Area\n",
    "\n",
    "This question involves testing a function calculate_rectangle_area()  defined in a file named \"rectangle_area.py\", which calculates the area of a rectangle given its length and width. The task is to write test cases to verify the correctness of this function. The tests should cover scenarios such as positive length and width, negative length or width, and zero length or width. The goal is to ensure that the function handles invalid inputs appropriately and raises the expected exceptions when necessary."
   ]
  },
  {
   "cell_type": "code",
   "execution_count": null,
   "id": "7ed5315f",
   "metadata": {},
   "outputs": [],
   "source": [
    "def calculate_rectangle_area(length, width):\n",
    "    if length <= 0 or width <= 0:\n",
    "        raise ValueError(\"Length and width must be positive numbers\")\n",
    "    return length * width"
   ]
  },
  {
   "cell_type": "code",
   "execution_count": null,
   "id": "fd7f3654",
   "metadata": {},
   "outputs": [],
   "source": [
    "import unittest\n",
    "from rectangle_area import calculate_rectangle_area\n",
    "\n",
    "class TestCalculateRectangleArea(unittest.TestCase):\n",
    "\n",
    "    def test_positive_numbers(self):\n",
    "        # Test case for positive length and width\n",
    "        length = 5\n",
    "        width = 4\n",
    "        self.assertEqual(calculate_rectangle_area(length, width), 20)\n",
    "\n",
    "    def test_negative_numbers(self):\n",
    "        # Test case for negative length\n",
    "        length = -5\n",
    "        width = 4\n",
    "        self.assertRaises(ValueError, calculate_rectangle_area, length, width)\n",
    "\n",
    "        # Test case for negative width\n",
    "        length = 5\n",
    "        width = -4\n",
    "        self.assertRaises(ValueError, calculate_rectangle_area, length, width)\n",
    "\n",
    "    def test_zero_values(self):\n",
    "        # Test case for zero length and width\n",
    "        length = 0\n",
    "        width = 4\n",
    "        self.assertRaises(ValueError, calculate_rectangle_area, length, width)\n",
    "\n",
    "        length = 5\n",
    "        width = 0\n",
    "        self.assertRaises(ValueError, calculate_rectangle_area, length, width)\n",
    "\n",
    "if __name__ == '__main__':\n",
    "    unittest.main(argv=[''], verbosity=2, exit=False);\n"
   ]
  },
  {
   "cell_type": "markdown",
   "id": "8693b909",
   "metadata": {},
   "source": [
    "### To run specific test classes within a Jupyter Notebook without executing other tests, follow these steps:\n",
    "\n"
   ]
  },
  {
   "cell_type": "code",
   "execution_count": null,
   "id": "39356c7c",
   "metadata": {},
   "outputs": [],
   "source": [
    "# Load the test suite for the specific test class\n",
    "test_suite = unittest.TestLoader().loadTestsFromTestCase(TestCalculateRectangleArea)\n",
    "\n",
    "# Create a test runner and run the tests\n",
    "test_runner = unittest.TextTestRunner(verbosity=2)\n",
    "test_runner.run(test_suite)"
   ]
  },
  {
   "cell_type": "markdown",
   "id": "739863b9",
   "metadata": {},
   "source": [
    "This solution utilizes the unittest.TestLoader class to load specific test classes within a Jupyter Notebook environment. By defining the desired test class, loading its test suite using loadTestsFromTestCase(), and then running the tests with a unittest.TextTestRunner(), we can execute only the tests associated with the specified class."
   ]
  },
  {
   "cell_type": "markdown",
   "id": "d4ce3b24",
   "metadata": {},
   "source": [
    "## Question 1: Test calculate_average()\n",
    "\n",
    "You have been provided with a simple function called calculate_average() that takes a list of numbers as input and returns the average value. However, you suspect that there might be some issues with the function. Your task is to write unit tests using the unittest module to ensure that the function behaves as expected in different scenarios.\n",
    "\n",
    "Write at least three test cases to cover various scenarios, including:\n",
    "\n",
    "- Testing the function with a list of positive integers.\n",
    "- Testing the function with a list containing negative integers.\n",
    "- Testing the function with an empty list.\n",
    "\n",
    "Ensure that your tests check for the correctness of the average calculation and handle any potential edge cases."
   ]
  },
  {
   "cell_type": "code",
   "execution_count": null,
   "id": "55c54f97",
   "metadata": {},
   "outputs": [],
   "source": [
    "#TODO replace the content of this cell with your Python solution.\n",
    "raise NotImplementedError\n"
   ]
  },
  {
   "cell_type": "markdown",
   "id": "9de0590e",
   "metadata": {},
   "source": [
    "# STOP PLEASE. THE FOLLOWING IS FOR THE NEXT EXERCISE. THANKS.\n"
   ]
  },
  {
   "cell_type": "markdown",
   "id": "81551682",
   "metadata": {},
   "source": [
    "\n",
    "# EXERCISE 2: Testing a Class\n",
    "\n",
    "\n"
   ]
  },
  {
   "cell_type": "markdown",
   "id": "e69e85c2",
   "metadata": {},
   "source": [
    "### Example 2.1: Testing the AnonymousSurvey Class"
   ]
  },
  {
   "cell_type": "code",
   "execution_count": null,
   "id": "a886bd69",
   "metadata": {},
   "outputs": [
    {
     "name": "stdout",
     "output_type": "stream",
     "text": [
      "What language did you first learn to speak?\n",
      "Enter 'q' at any time to quit.\n",
      "\n"
     ]
    }
   ],
   "source": [
    "from survey import AnonymousSurvey\n",
    "\n",
    "# Define a question, and make a survey.\n",
    "question = \"What language did you first learn to speak?\"\n",
    "my_survey = AnonymousSurvey(question)\n",
    "\n",
    "# Show the question, and store responses to the question.\n",
    "my_survey.show_question()\n",
    "print(\"Enter 'q' at any time to quit.\\n\")\n",
    "while True:\n",
    "    response = input(\"Language: \")\n",
    "    if response == 'q':\n",
    "        break\n",
    "    my_survey.store_response(response)\n",
    "\n",
    "# Show the survey results.\n",
    "print(\"\\nThank you to everyone who participated in the survey!\")\n",
    "my_survey.show_results()\n"
   ]
  },
  {
   "cell_type": "markdown",
   "id": "3e98fc45",
   "metadata": {},
   "source": [
    "### Example 2.2: Testing single response"
   ]
  },
  {
   "cell_type": "code",
   "execution_count": null,
   "id": "3c43e5a8",
   "metadata": {},
   "outputs": [],
   "source": [
    "import unittest\n",
    "from survey import AnonymousSurvey\n",
    "\n",
    "class TestAnonmyousSurvey(unittest.TestCase):\n",
    "    \"\"\"Tests for the class AnonymousSurvey\"\"\"\n",
    "\n",
    "    def test_store_single_response(self):\n",
    "        \"\"\"Test that a single response is stored properly.\"\"\"\n",
    "        question = \"What language did you first learn to speak?\"\n",
    "        my_survey = AnonymousSurvey(question)\n",
    "        my_survey.store_response('English')\n",
    "        self.assertIn('English', my_survey.responses)\n",
    "\n",
    "\n"
   ]
  },
  {
   "cell_type": "code",
   "execution_count": null,
   "id": "bdb64f9c",
   "metadata": {},
   "outputs": [],
   "source": [
    "# Load the test suite for the specific test class\n",
    "test_suite = unittest.TestLoader().loadTestsFromTestCase(TestAnonmyousSurvey)\n",
    "\n",
    "# Create a test runner and run the tests\n",
    "test_runner = unittest.TextTestRunner(verbosity=2)\n",
    "test_runner.run(test_suite)"
   ]
  },
  {
   "cell_type": "markdown",
   "id": "765930bb",
   "metadata": {},
   "source": [
    "### Example 2.3: Testing three responses"
   ]
  },
  {
   "cell_type": "code",
   "execution_count": null,
   "id": "4b23b8c9",
   "metadata": {},
   "outputs": [],
   "source": [
    "import unittest\n",
    "from survey import AnonymousSurvey\n",
    "\n",
    "class TestAnonmyousSurvey(unittest.TestCase):\n",
    "    \"\"\"Tests for the class AnonymousSurvey\"\"\"\n",
    "\n",
    "    def test_store_single_response(self):\n",
    "        \"\"\"Test that a single response is stored properly.\"\"\"\n",
    "        question = \"What language did you first learn to speak?\"\n",
    "        my_survey = AnonymousSurvey(question)\n",
    "        my_survey.store_response('English')\n",
    "        self.assertIn('English', my_survey.responses)\n",
    "        \n",
    "        \n",
    "    def test_store_three_responses(self):\n",
    "        \"\"\"Test that three responses are stored properly\"\"\"\n",
    "        question = \"What language did you first learn to speak?\"\n",
    "        my_survey = AnonymousSurvey(question)\n",
    "        responses = ['English', 'Spanish', 'Mandarin']\n",
    "\n",
    "        for response in responses:\n",
    "            my_survey.store_response(response)\n",
    "\n",
    "        for response in responses:\n",
    "            self.assertIn(response, my_survey.responses)\n"
   ]
  },
  {
   "cell_type": "code",
   "execution_count": null,
   "id": "fa4d610c",
   "metadata": {},
   "outputs": [],
   "source": [
    "# Load the test suite for the specific test class\n",
    "test_suite = unittest.TestLoader().loadTestsFromTestCase(TestAnonmyousSurvey)\n",
    "\n",
    "# Create a test runner and run the tests\n",
    "test_runner = unittest.TextTestRunner(verbosity=2)\n",
    "test_runner.run(test_suite)"
   ]
  },
  {
   "cell_type": "markdown",
   "id": "e12e7629",
   "metadata": {},
   "source": [
    "### Example 2.4: Testing AnonymousSurvey using setUp method"
   ]
  },
  {
   "cell_type": "code",
   "execution_count": null,
   "id": "ee67175b",
   "metadata": {},
   "outputs": [],
   "source": [
    "import unittest\n",
    "from survey import AnonymousSurvey\n",
    "\n",
    "class TestAnonymousSurvey(unittest.TestCase):\n",
    "    \"\"\"Tests for the classd AnonymousSurvey.\"\"\"\n",
    "    \n",
    "    def setUp(self):\n",
    "        \"\"\"Create a survey & responses for use in all test methods.\"\"\"\n",
    "        question = \"What language did you first learn to speak?\"\n",
    "        self.my_survey = AnonymousSurvey(question)\n",
    "        self.responses = ['English', 'Spanish', 'Mandarin']\n",
    "\n",
    "    def test_store_single_response(self):\n",
    "        \"\"\"Test that a single response is stored properly.\"\"\"\n",
    "        self.my_survey.store_response(self.responses[0])\n",
    "        self.assertIn(self.responses[0], self.my_survey.responses)\n",
    "\n",
    "    def test_store_three_responses(self):\n",
    "        \"\"\"Test that three individual responses are stored properly.\"\"\"\n",
    "        for response in self.responses:\n",
    "            self.my_survey.store_response(response)\n",
    "        for response in self.responses:\n",
    "            self.assertIn(response, self.my_survey.responses)\n"
   ]
  },
  {
   "cell_type": "code",
   "execution_count": null,
   "id": "fa7f9b96",
   "metadata": {},
   "outputs": [],
   "source": [
    "# Load the test suite for the specific test class\n",
    "test_suite = unittest.TestLoader().loadTestsFromTestCase(TestAnonmyousSurvey)\n",
    "\n",
    "# Create a test runner and run the tests\n",
    "test_runner = unittest.TextTestRunner(verbosity=2)\n",
    "test_runner.run(test_suite)"
   ]
  },
  {
   "cell_type": "markdown",
   "id": "26f4c178",
   "metadata": {},
   "source": [
    "## Question 2: UniversalProductCode \n",
    "- A check digit is a single digit in a larger value that is used to determine whether the value as a whole has not been modified or corrupted and is valid. Lots of things have check digits embedded in them to ensure the number provided is legal - for example bar codes on products, credit card numbers, tracking numbers on parcels etc.\n"
   ]
  },
  {
   "cell_type": "markdown",
   "id": "9828a3ff",
   "metadata": {},
   "source": [
    "![alternatvie text](productcode.gif)\n"
   ]
  },
  {
   "cell_type": "markdown",
   "id": "e88b0df2",
   "metadata": {},
   "source": [
    "You are provided with a class called UniversalProductCode which calculates the check digit of a value using the follow process:\n",
    "- Add the digits in the odd-numbered positions (first, third, fifth, etc.) together and multiply by three.\n",
    "- Add the digits (up to but not including the check digit) in the even-numbered positions (second, fourth, sixth, etc.) to the result.\n",
    "- Take the remainder of the result divided by 10 (modulo operation) and if not 0, subtract this from 10 to derive the check digit\n",
    "\n",
    "The code for the class is provided below (either copy and paste it into a file called upc.py or download a version from the Moodle shell for this weeks lab):\n"
   ]
  },
  {
   "cell_type": "code",
   "execution_count": null,
   "id": "ae0e370a",
   "metadata": {},
   "outputs": [],
   "source": [
    "class UniversalProductCode:\n",
    "\n",
    "    def __init__(self, code):\n",
    "        self.code = str(code)\n",
    "\n",
    "    def is_valid(self):\n",
    "        # Ensure we have digits only, if not then raise an exception\n",
    "        if (self.code.isdigit() == False):\n",
    "            raise Exception('Only digits allowed in product code!')\n",
    "\n",
    "        # Grab the final digit of the product code\n",
    "        provided_check_digit = int( self.code[-1:] )\n",
    "\n",
    "        # Grab everything EXCEPT the final digit of the product code\n",
    "        code_without_check_digit = self.code[:-1]\n",
    "        \n",
    "        # Sum all the digits in odd-numbered indices\n",
    "        sum_of_odd_digits = 0\n",
    "        for x in range(0, len(code_without_check_digit)):\n",
    "            if (x % 2 == 0): # was x % 2 == 1 which is a mistake\n",
    "                value = int( code_without_check_digit[x] )\n",
    "                sum_of_odd_digits += value\n",
    "\n",
    "        # Multiply this sum by three\n",
    "        step_one_result = sum_of_odd_digits * 3\n",
    "\n",
    "        # Sum all the digits in even-numbered indices\n",
    "        sum_of_even_digits = 0\n",
    "        for x in range(0, len(code_without_check_digit)):\n",
    "            if (x % 2 == 1):  # was x % 2 == 0 which is a mistake\n",
    "                value = int( code_without_check_digit[x] )\n",
    "                sum_of_even_digits += value\n",
    "\n",
    "        # Add this value to our step one result\n",
    "        step_two_result = step_one_result + sum_of_even_digits\n",
    "\n",
    "        # Take the remainder of our step two result modulus 10 as our check digit\n",
    "        calculated_check_digit = step_two_result % 10\n",
    "\n",
    "        # Return whether the product code is valid or not\n",
    "        if (provided_check_digit == calculated_check_digit):\n",
    "            return True\n",
    "        else:\n",
    "            return False\n"
   ]
  },
  {
   "cell_type": "markdown",
   "id": "5b165186",
   "metadata": {},
   "source": [
    "- Now that we have a class to test, write a TestUniversalProductCode class that uses Python’s unittest module to test that various product codes are valid or invalid, and that providing data in the wrong format (i.e. a product code that contains letters is not valid).\n",
    ".\n",
    "- You can look up some valid universal product codes (for example, here’s some for Cadbury chocolate bars – but you can search for anything: http://www.upcitemdb.com/info-cadbury_bars – add a zero at the beginning if valid codes looked up say they are not valid!). However, to save you some time here are a few to work with:\n",
    "    - 012345678905\t\t     (Valid)\n",
    "    - 012345678906\t\t     (Invalid check digit)\n",
    "    - OneTwoThree\t\t\t (Invalid input)\n",
    "\n",
    "- In your TestUniversalProductCode class you should write a test that checks for a few different valid and invalid UPC codes.\n",
    "\n",
    "- Use the unittest setUp(self) method to provide a number of UPC codes in a list.\n",
    "\n",
    "- For the above three UPCs, you should use the assertTrue, assertFalse and assertRaises assertions to ensure the first (valid) code is accepted as valid, the second isn’t, and the third throws an exception.\n"
   ]
  },
  {
   "cell_type": "code",
   "execution_count": 1,
   "id": "63bcbcba",
   "metadata": {},
   "outputs": [],
   "source": [
    "#TODO replace the content of this cell with your Python solution.\n",
    "raise NotImplementedError"
   ]
  },
  {
   "cell_type": "code",
   "execution_count": null,
   "id": "487912d4",
   "metadata": {},
   "outputs": [],
   "source": []
  }
 ],
 "metadata": {
  "kernelspec": {
   "display_name": "Python 3 (ipykernel)",
   "language": "python",
   "name": "python3"
  },
  "language_info": {
   "codemirror_mode": {
    "name": "ipython",
    "version": 3
   },
   "file_extension": ".py",
   "mimetype": "text/x-python",
   "name": "python",
   "nbconvert_exporter": "python",
   "pygments_lexer": "ipython3",
   "version": "3.10.9"
  }
 },
 "nbformat": 4,
 "nbformat_minor": 5
}
