{
 "cells": [
  {
   "cell_type": "markdown",
   "id": "917fe41c",
   "metadata": {},
   "source": [
    "#  Fucntions and Dictionaries\n",
    "\n",
    "# EXERCISE 1: \n",
    "## Functions\n",
    "\n",
    "In Python, a function is a reusable block of code that performs a specific task or set of tasks. Functions are defined using the def keyword, followed by the function name and a pair of parentheses. Any input parameters the function requires are listed within the parentheses.\n",
    "\n",
    "## Example 1: Here's a quick example:"
   ]
  },
  {
   "cell_type": "code",
   "execution_count": null,
   "id": "46a7d5a0",
   "metadata": {},
   "outputs": [],
   "source": [
    "def greet(name):\n",
    "    print(f\"Hello, {name}!\")\n",
    "\n",
    "# Test the function\n",
    "greet(\"Alice\")\n",
    "greet(\"Bob\")\n"
   ]
  },
  {
   "cell_type": "markdown",
   "id": "89bbd9fd",
   "metadata": {},
   "source": [
    "## Example 2: Calculator Function\n",
    "\n",
    "### A calculator function calculate that takes two numbers and an operator as arguments and returns the result.\n"
   ]
  },
  {
   "cell_type": "code",
   "execution_count": null,
   "id": "18b7c4e1",
   "metadata": {},
   "outputs": [],
   "source": [
    "def calculate(num1, num2, operator):\n",
    "    if operator == '+':\n",
    "        return num1 + num2\n",
    "    elif operator == '-':\n",
    "        return num1 - num2\n",
    "    elif operator == '*':\n",
    "        return num1 * num2\n",
    "    elif operator == '/':\n",
    "        return num1 / num2\n",
    "    else:\n",
    "        return \"Invalid operator\"\n",
    "\n",
    "# Test the function\n",
    "result = calculate(5, 3, '+')\n",
    "print(\"Result:\", result)\n"
   ]
  },
  {
   "cell_type": "markdown",
   "id": "53cf0369",
   "metadata": {},
   "source": [
    "## Example 3: Factorial Function\n",
    "### Write a function factorial that calculates the factorial of a given number."
   ]
  },
  {
   "cell_type": "code",
   "execution_count": null,
   "id": "4564034e",
   "metadata": {},
   "outputs": [],
   "source": [
    "def factorial(n):\n",
    "    if n == 0 or n == 1:\n",
    "        return 1\n",
    "    else:\n",
    "        return n * factorial(n - 1)\n",
    "\n",
    "# Test the function\n",
    "print(\"Factorial of 5:\", factorial(5))\n"
   ]
  },
  {
   "cell_type": "markdown",
   "id": "3665ae53",
   "metadata": {},
   "source": [
    "## Example 4: List Manipulation\n",
    "### Write a function even_numbers that takes a list of numbers and returns a new list containing only the even numbers."
   ]
  },
  {
   "cell_type": "code",
   "execution_count": null,
   "id": "bde1e478",
   "metadata": {},
   "outputs": [],
   "source": [
    "def even_numbers(numbers):\n",
    "    return [num for num in numbers if num % 2 == 0]\n",
    "\n",
    "# Test the function\n",
    "numbers = [1, 2, 3, 4, 5, 6, 7, 8, 9, 10]\n",
    "print(\"Even numbers:\", even_numbers(numbers))\n"
   ]
  },
  {
   "cell_type": "markdown",
   "id": "fffbb375",
   "metadata": {},
   "source": [
    "## Example 5: Multivariate Result Function\n",
    "\n",
    "### In Python, a function can return more than one value by utilizing tuples, lists, or other data structures. Here's a simple example using a tuple:\n"
   ]
  },
  {
   "cell_type": "code",
   "execution_count": null,
   "id": "87dbc782",
   "metadata": {},
   "outputs": [],
   "source": [
    "def calculate_statistics(numbers):\n",
    "    \"\"\"Calculate mean and sum of a list of numbers.\"\"\"\n",
    "    count = len(numbers)\n",
    "    total = sum(numbers)\n",
    "    mean = total / count\n",
    "    return mean, total\n",
    "\n",
    "# Example usage:\n",
    "data = [5, 10, 15, 20, 25]\n",
    "mean_value, total_sum = calculate_statistics(data)\n",
    "\n",
    "print(f\"Mean: {mean_value}\")\n",
    "print(f\"Total Sum: {total_sum}\")\n"
   ]
  },
  {
   "cell_type": "markdown",
   "id": "ca4f9fd4",
   "metadata": {},
   "source": [
    "## Question 1.1: Calculate Area\n",
    "- Create a function called calculate_area that takes the radius of a circle as an argument and returns its area. Test the function with different radius values.\n"
   ]
  },
  {
   "cell_type": "code",
   "execution_count": null,
   "id": "9162cdac",
   "metadata": {},
   "outputs": [],
   "source": [
    "#TODO replace the content of this cell with your Python solution.\n",
    "raise NotImplementedError"
   ]
  },
  {
   "cell_type": "markdown",
   "id": "ceb90602",
   "metadata": {},
   "source": [
    "## Question 1.2: Temperature Converter\n",
    "- Write a program that converts Fahrenheit to Celsius. Prompt the user for input and print the converted temperature."
   ]
  },
  {
   "cell_type": "code",
   "execution_count": null,
   "id": "3f560386",
   "metadata": {},
   "outputs": [],
   "source": [
    "#TODO replace the content of this cell with your Python solution.\n",
    "raise NotImplementedError\n"
   ]
  },
  {
   "cell_type": "markdown",
   "id": "7dceb0e7",
   "metadata": {},
   "source": [
    "## Question 1.3: Leap Year Checker\n",
    "- Write a function that checks if a given year is a leap year. A leap year is a year that is evenly divisible by 4, except for years that are divisible by 100. However, years that are divisible by 400 are leap years as well. "
   ]
  },
  {
   "cell_type": "code",
   "execution_count": null,
   "id": "adf377c5",
   "metadata": {},
   "outputs": [],
   "source": [
    "#TODO replace the content of this cell with your Python solution.\n",
    "raise NotImplementedError\n",
    "\n"
   ]
  },
  {
   "cell_type": "markdown",
   "id": "95097012",
   "metadata": {},
   "source": [
    "## *STOP PLEASE. THE FOLLOWING IS FOR THE NEXT EXERCISE. THANKS.*\n"
   ]
  },
  {
   "cell_type": "markdown",
   "id": "310cf040",
   "metadata": {},
   "source": [
    "# EXERCISE 2: \n",
    "## Dictionaries \n",
    "\n",
    "## Example 1: Fundamental Operations on Dictionaries\n",
    "- Lets create an empty dictionary called fruits. \n",
    "- Add the following key-value pairs to it:\n",
    "\n",
    "'apple' with a value of 3\n",
    "'banana' with a value of 5\n",
    "'orange' with a value of 2"
   ]
  },
  {
   "cell_type": "code",
   "execution_count": null,
   "id": "60edab8d",
   "metadata": {},
   "outputs": [],
   "source": [
    "fruits = {}\n",
    "fruits['apple'] = 3\n",
    "fruits['banana'] = 5\n",
    "fruits['orange'] = 2\n",
    "print(fruits)"
   ]
  },
  {
   "cell_type": "markdown",
   "id": "cf3261da",
   "metadata": {},
   "source": [
    "- In the existing fruits dictionary, update the value for 'banana' to 8."
   ]
  },
  {
   "cell_type": "code",
   "execution_count": null,
   "id": "db8c2893",
   "metadata": {},
   "outputs": [],
   "source": [
    "fruits['banana'] = 8\n",
    "print(fruits)\n"
   ]
  },
  {
   "cell_type": "markdown",
   "id": "eee1440b",
   "metadata": {},
   "source": [
    "- Remove the entry for 'orange' from the fruits dictionary."
   ]
  },
  {
   "cell_type": "code",
   "execution_count": null,
   "id": "8800de4e",
   "metadata": {},
   "outputs": [],
   "source": [
    "if 'orange' in fruits:\n",
    "    del fruits['orange']\n",
    "print(fruits)\n"
   ]
  },
  {
   "cell_type": "markdown",
   "id": "c3aea036",
   "metadata": {},
   "source": [
    "- Check if 'apple' is a key in the fruits dictionary. Print a corresponding message.\n",
    "\n"
   ]
  },
  {
   "cell_type": "code",
   "execution_count": null,
   "id": "02fbf4c9",
   "metadata": {},
   "outputs": [],
   "source": [
    "if 'apple' in fruits:\n",
    "    print(\"Yes, 'apple' is a key in the dictionary.\")\n",
    "else:\n",
    "    print(\"No, 'apple' is not a key in the dictionary.\")\n"
   ]
  },
  {
   "cell_type": "markdown",
   "id": "ab3aa3bd",
   "metadata": {},
   "source": [
    "- Create a function called get_fruit_quantity that takes a fruit name as an argument and returns the quantity if the fruit is in the fruits dictionary, otherwise, returns a default value of 0."
   ]
  },
  {
   "cell_type": "code",
   "execution_count": null,
   "id": "4c3e4d82",
   "metadata": {},
   "outputs": [],
   "source": [
    "def get_fruit_quantity(fruit_name):\n",
    "    return fruits.get(fruit_name, 0)\n",
    "\n",
    "# Test the function\n",
    "print(\"Quantity of apples:\", get_fruit_quantity('apple'))\n",
    "print(\"Quantity of grapes:\", get_fruit_quantity('grapes'))\n"
   ]
  },
  {
   "cell_type": "markdown",
   "id": "4254fe5d",
   "metadata": {},
   "source": [
    "## Example 2: Student Grades\n",
    "- Lets create a dictionary called student_grades with student names as keys and their respective grades as values. Print out the grades for each student."
   ]
  },
  {
   "cell_type": "code",
   "execution_count": null,
   "id": "f6f1fcab",
   "metadata": {},
   "outputs": [],
   "source": [
    "student_grades = {'Alice': 85, 'Bob': 92, 'Charlie': 78, 'David': 95}\n",
    "\n",
    "for student, grade in student_grades.items():\n",
    "    print(f\"{student}'s grade: {grade}\")\n"
   ]
  },
  {
   "cell_type": "markdown",
   "id": "e706ec06",
   "metadata": {},
   "source": [
    "## Example 3: Nested Dictionaries\n",
    "- Create a nested dictionary called student_info that contains information about a student, including 'name', 'age', and 'grades'. Print the student's name and average grade."
   ]
  },
  {
   "cell_type": "code",
   "execution_count": null,
   "id": "ff00b483",
   "metadata": {},
   "outputs": [],
   "source": [
    "pattern = re.compile(r\"python\", re.IGNORECASE)\n",
    "result = pattern.search(\"Python is fun!\")\n",
    "# Check if there is a match\n",
    "if result:\n",
    "    # Print the entire matching string\n",
    "    print(\"Matching string:\", result.group())\n",
    "else:\n",
    "    print(\"Pattern not found.\")"
   ]
  },
  {
   "cell_type": "markdown",
   "id": "6768e18e",
   "metadata": {},
   "source": [
    "## Question 2.1: Word Frequency\n",
    "- Write a function called word_frequency that takes a sentence as input and returns a dictionary with the frequency of each word."
   ]
  },
  {
   "cell_type": "code",
   "execution_count": null,
   "id": "fd066075",
   "metadata": {},
   "outputs": [],
   "source": [
    "#TODO replace the content of this cell with your Python solution.\n",
    "raise NotImplementedError\n"
   ]
  },
  {
   "cell_type": "markdown",
   "id": "3e99d1ac",
   "metadata": {},
   "source": [
    "## Question 2.2: Shopping Cart\n",
    "- Create a dictionary called shopping_cart to represent items in a shopping cart. Include at least three items with their respective prices. Calculate and print the total cost of the items in the shopping cart."
   ]
  },
  {
   "cell_type": "code",
   "execution_count": null,
   "id": "66957bb1",
   "metadata": {},
   "outputs": [],
   "source": [
    "#TODO replace the content of this cell with your Python solution.\n",
    "raise NotImplementedError\n"
   ]
  },
  {
   "cell_type": "markdown",
   "id": "6b1b68d9",
   "metadata": {},
   "source": [
    "## Question 2.3: Contact Book\n",
    "- Implement a simle contact book using a dictionary. Include information such as names, phone numbers, and email addresses. Allow the user to add, update, or delete contacts."
   ]
  },
  {
   "cell_type": "code",
   "execution_count": null,
   "id": "0a1250bc",
   "metadata": {},
   "outputs": [],
   "source": [
    "#TODO replace the content of this cell with your Python solution.\n",
    "raise NotImplementedError\n"
   ]
  },
  {
   "cell_type": "markdown",
   "id": "32c30455",
   "metadata": {},
   "source": [
    "## Question 2.4: Movie Database\n",
    "- Create a dictionary representing a movie database with information about different movies, including titles, genres, and release years. Allow the user to search for a movie by title and print its details."
   ]
  },
  {
   "cell_type": "code",
   "execution_count": null,
   "id": "ded14ce1",
   "metadata": {},
   "outputs": [],
   "source": [
    "#TODO replace the content of this cell with your Python solution.\n",
    "raise NotImplementedError\n"
   ]
  },
  {
   "cell_type": "markdown",
   "id": "1fa1eedf",
   "metadata": {},
   "source": [
    "## Question 2.5: Password Strength Checker\n",
    "- Write a function called password_strength that takes a password as input and returns a dictionary indicating the strength of the password. The dictionary should include keys like 'length', 'uppercase', 'lowercase', 'digits', and 'special_characters' with corresponding values (True/False)."
   ]
  },
  {
   "cell_type": "code",
   "execution_count": null,
   "id": "3ad41d69",
   "metadata": {},
   "outputs": [],
   "source": [
    "#TODO replace the content of this cell with your Python solution.\n",
    "raise NotImplementedError\n",
    "\n"
   ]
  },
  {
   "cell_type": "markdown",
   "id": "c6346c82",
   "metadata": {},
   "source": [
    "## Sets\n",
    "\n",
    "## Example 1: Fundamental Operations on Sets"
   ]
  },
  {
   "cell_type": "code",
   "execution_count": null,
   "id": "be5531d6",
   "metadata": {},
   "outputs": [],
   "source": [
    "set1 = {1, 2, 3, 4, 5}\n",
    "set2 = {3, 4, 5, 6, 7}\n",
    "\n",
    "# Union\n",
    "union_set = set1.union(set2)\n",
    "print(\"Union Set:\", union_set)\n",
    "\n",
    "# Intersection\n",
    "intersection_set = set1.intersection(set2)\n",
    "print(\"Intersection Set:\", intersection_set)\n",
    "\n",
    "# Difference\n",
    "difference_set = set1.difference(set2)\n",
    "print(\"Difference Set (set1 - set2):\", difference_set)\n",
    "\n",
    "# Symmetric Difference\n",
    "symmetric_difference_set = set1.symmetric_difference(set2)\n",
    "print(\"Symmetric Difference Set:\", symmetric_difference_set)\n"
   ]
  },
  {
   "cell_type": "markdown",
   "id": "75691a5f",
   "metadata": {},
   "source": [
    "### Example 2: Adding and Removing Elements"
   ]
  },
  {
   "cell_type": "code",
   "execution_count": null,
   "id": "28f2273a",
   "metadata": {},
   "outputs": [],
   "source": [
    "my_set = {1, 2, 3}\n",
    "\n",
    "# Adding elements\n",
    "my_set.add(4)\n",
    "my_set.update({5, 6})\n",
    "\n",
    "print(\"Updated Set:\", my_set)\n",
    "\n",
    "# Removing elements\n",
    "my_set.discard(3)\n",
    "my_set.remove(2)\n",
    "\n",
    "print(\"Modified Set:\", my_set)\n"
   ]
  },
  {
   "cell_type": "markdown",
   "id": "5b53a9cf",
   "metadata": {},
   "source": [
    "## Question 2.6: Unique Elements\n",
    "- Create a function called unique_elements that takes two lists as input and returns a set containing the unique elements from both lists.\n",
    "\n"
   ]
  },
  {
   "cell_type": "code",
   "execution_count": null,
   "id": "e5f134a4",
   "metadata": {},
   "outputs": [],
   "source": [
    "#TODO replace the content of this cell with your Python solution.\n",
    "raise NotImplementedError\n",
    "\n"
   ]
  },
  {
   "cell_type": "markdown",
   "id": "750a6a34",
   "metadata": {},
   "source": [
    "## Question 2.7: Common Elements\n",
    "- Write a function called common_elements that takes two sets as input and returns a new set containing the common elements.\n",
    "\n"
   ]
  },
  {
   "cell_type": "code",
   "execution_count": null,
   "id": "e007202a",
   "metadata": {},
   "outputs": [],
   "source": [
    "#TODO replace the content of this cell with your Python solution.\n",
    "raise NotImplementedError\n",
    "\n"
   ]
  },
  {
   "cell_type": "markdown",
   "id": "2d5048ca",
   "metadata": {},
   "source": [
    "# STOP PLEASE. THE FOLLOWING IS FOR THE NEXT EXERCISE. THANKS.\n",
    "## EXERCISE 3: Recursions\n"
   ]
  },
  {
   "cell_type": "markdown",
   "id": "2904acb7",
   "metadata": {},
   "source": [
    "### Example 1: A recursive function to calculate the factorial of a given number:"
   ]
  },
  {
   "cell_type": "code",
   "execution_count": null,
   "id": "b22d7459",
   "metadata": {},
   "outputs": [],
   "source": [
    "def factorial(n):\n",
    "    # Base case: factorial of 0 or 1 is 1\n",
    "    if n == 0 or n == 1:\n",
    "        return 1\n",
    "    # Recursive case: n! = n * (n-1)!\n",
    "    else:\n",
    "        return n * factorial(n - 1)\n",
    "\n",
    "# Test the function\n",
    "number = 5\n",
    "result = factorial(number)\n",
    "print(f\"The factorial of {number} is: {result}\")\n",
    "\n",
    "\n"
   ]
  },
  {
   "cell_type": "markdown",
   "id": "76394b61",
   "metadata": {},
   "source": [
    "### Example 2: A recursive function to calculate the nth Fibonacci number"
   ]
  },
  {
   "cell_type": "code",
   "execution_count": null,
   "id": "d5ff4cd1",
   "metadata": {},
   "outputs": [],
   "source": [
    "def fibonacci(n):\n",
    "    # Base case: Fibonacci of 0 is 0, and Fibonacci of 1 is 1\n",
    "    if n == 0:\n",
    "        return 0\n",
    "    elif n == 1:\n",
    "        return 1\n",
    "    # Recursive case: Fibonacci(n) = Fibonacci(n-1) + Fibonacci(n-2)\n",
    "    else:\n",
    "        return fibonacci(n - 1) + fibonacci(n - 2)\n",
    "\n",
    "# Test the function\n",
    "number = 6\n",
    "result = fibonacci(number)\n",
    "print(f\"The {number}th Fibonacci number is: {result}\")\n",
    "\n",
    "\n"
   ]
  },
  {
   "cell_type": "markdown",
   "id": "0f596db3",
   "metadata": {},
   "source": [
    "### Question 3.1 : Recursive Sum\n",
    "- Write a recursive function called recursive_sum that takes a positive integer n as input and calculates the sum of all positive integers from 1 to n. Use recursion to solve this problem.\n"
   ]
  },
  {
   "cell_type": "code",
   "execution_count": null,
   "id": "6e872c5a",
   "metadata": {},
   "outputs": [],
   "source": [
    "#TODO replace the content of this cell with your Python solution.\n",
    "raise NotImplementedError\n",
    "\n"
   ]
  },
  {
   "cell_type": "markdown",
   "id": "6ca003bc",
   "metadata": {},
   "source": [
    "### Question 3.2 : Recursive Power\n",
    "- Write a recursive function called recursive_power that takes two parameters, a base x and an exponent n, and calculates the result of raising x to the power of n. Use recursion to implement this function.\n"
   ]
  },
  {
   "cell_type": "code",
   "execution_count": null,
   "id": "989e28f1",
   "metadata": {},
   "outputs": [],
   "source": [
    "#TODO replace the content of this cell with your Python solution.\n",
    "raise NotImplementedError\n",
    "\n"
   ]
  },
  {
   "cell_type": "markdown",
   "id": "2b1edba8",
   "metadata": {},
   "source": [
    "# End of Tutorial. Many Thanks."
   ]
  }
 ],
 "metadata": {
  "kernelspec": {
   "display_name": "Python 3 (ipykernel)",
   "language": "python",
   "name": "python3"
  },
  "language_info": {
   "codemirror_mode": {
    "name": "ipython",
    "version": 3
   },
   "file_extension": ".py",
   "mimetype": "text/x-python",
   "name": "python",
   "nbconvert_exporter": "python",
   "pygments_lexer": "ipython3",
   "version": "3.11.5"
  }
 },
 "nbformat": 4,
 "nbformat_minor": 5
}
