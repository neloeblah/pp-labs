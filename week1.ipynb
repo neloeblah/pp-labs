{
 "cells": [
  {
   "cell_type": "markdown",
   "id": "917fe41c",
   "metadata": {},
   "source": [
    "#  Introduction to Python\n",
    "\n",
    "# EXERCISE 1: Python program that prints the string \"Hello, World!\""
   ]
  },
  {
   "cell_type": "code",
   "execution_count": null,
   "id": "46a7d5a0",
   "metadata": {},
   "outputs": [],
   "source": [
    "print(\"Hello, World!\")"
   ]
  },
  {
   "cell_type": "markdown",
   "id": "625d8cdd",
   "metadata": {},
   "source": [
    "# Print Multiple Lines:\n",
    "\n",
    "### Use a single print statement to print a message that spans multiple lines"
   ]
  },
  {
   "cell_type": "code",
   "execution_count": null,
   "id": "a67d8ad1",
   "metadata": {},
   "outputs": [],
   "source": [
    "# TODO: replace the content of this cell with your Python solution\n",
    "raise NotImplementedError"
   ]
  },
  {
   "cell_type": "markdown",
   "id": "17bf101d",
   "metadata": {},
   "source": [
    "# Here are some exercises to practice using the sep and end parameters in the print function in Python:\n",
    "\n",
    "### Questuion 1.1: \n",
    "\n",
    "   - Write a program that prints the words \"apple,\" \"orange,\" and \"banana\" on the same line with a comma , as the separator.\n",
    "\n",
    "   - Print the names of the days of the week on separate lines using the end parameter."
   ]
  },
  {
   "cell_type": "code",
   "execution_count": null,
   "id": "e1d3763e",
   "metadata": {},
   "outputs": [],
   "source": [
    "#TODO replace the content of this cell with your Python solution.\n",
    "raise NotImplementedError"
   ]
  },
  {
   "cell_type": "markdown",
   "id": "e5d5f2be",
   "metadata": {},
   "source": [
    "# Feel free to experiment with different separators and ending characters to understand how they affect the output of the print function"
   ]
  },
  {
   "cell_type": "code",
   "execution_count": null,
   "id": "f41f311a",
   "metadata": {},
   "outputs": [],
   "source": [
    "#TODO replace the content of this cell with your Python solution.\n",
    "raise NotImplementedError"
   ]
  },
  {
   "cell_type": "markdown",
   "id": "95097012",
   "metadata": {},
   "source": [
    "## *STOP PLEASE. THE FOLLOWING IS FOR THE NEXT EXERCISE. THANKS.*\n"
   ]
  },
  {
   "cell_type": "markdown",
   "id": "310cf040",
   "metadata": {},
   "source": [
    "# EXERCISE 2: Python variables"
   ]
  },
  {
   "cell_type": "code",
   "execution_count": null,
   "id": "505a8d3a",
   "metadata": {},
   "outputs": [],
   "source": [
    "# Concatenating strings using variables\n",
    "first_name = \"Alice\"\n",
    "last_name = \"Smith\"\n",
    "\n",
    "# Printing the concatenated string\n",
    "print(\"Full Name:\", first_name + \" \" + last_name)"
   ]
  },
  {
   "cell_type": "markdown",
   "id": "0de134f8",
   "metadata": {},
   "source": [
    "\n",
    "### Question 2.1: Variable Assignment:\n",
    "- Create a variable called name and assign your name to it.\n",
    "- Create a variable called age and assign your age to it.\n",
    "- Print both variables in a single line.\n",
    "    e.g: Name: Paul, age:37"
   ]
  },
  {
   "cell_type": "code",
   "execution_count": null,
   "id": "f0cf94cd",
   "metadata": {},
   "outputs": [],
   "source": [
    "#TODO replace the content of this cell with your Python solution.\n",
    "raise NotImplementedError"
   ]
  },
  {
   "cell_type": "markdown",
   "id": "ea8cef3a",
   "metadata": {},
   "source": [
    "### Question 2.2: Variable Types:\n",
    "\n",
    "- Create variables of different types: integer, float, string, and boolean.\n",
    "- Print the type of each variable."
   ]
  },
  {
   "cell_type": "code",
   "execution_count": null,
   "id": "450c5ac2",
   "metadata": {},
   "outputs": [],
   "source": [
    "#TODO replace the content of this cell with your Python solution.\n",
    "raise NotImplementedError"
   ]
  },
  {
   "cell_type": "markdown",
   "id": "b08e236a",
   "metadata": {},
   "source": [
    "### Question 2.3: Variable Operations:\n",
    "\n",
    "- Create two variables, num1 and num2, and assign them any numeric values.\n",
    "- Calculate the sum, difference, product, and quotient of these two numbers and store the results in separate variables.\n",
    "- Print the results."
   ]
  },
  {
   "cell_type": "code",
   "execution_count": null,
   "id": "2bd8f6c9",
   "metadata": {},
   "outputs": [],
   "source": [
    "#TODO replace the content of this cell with your Python solution.\n",
    "raise NotImplementedError"
   ]
  },
  {
   "cell_type": "markdown",
   "id": "2d5048ca",
   "metadata": {},
   "source": [
    "# STOP PLEASE. THE FOLLOWING IS FOR THE NEXT EXERCISE. THANKS.\n",
    "\n",
    "# EXERCISE 3: Formatted output"
   ]
  },
  {
   "cell_type": "code",
   "execution_count": null,
   "id": "5040f38c",
   "metadata": {},
   "outputs": [],
   "source": [
    "\n",
    "\n",
    "line_separator = \"-\" * 35\n",
    "\n",
    "# Sample data\n",
    "name1, age1, occupation1 = \"John\", 25, \"Engineer\"\n",
    "name2, age2, occupation2 = \"Alice\", 30, \"Teacher\"\n",
    "name3, age3, occupation3 = \"Bob\", 28, \"Designer\"\n",
    "\n",
    "# Printing table headers\n",
    "print(\"{:<10}\\t{}\\t{}\".format(\"Name\", \"Age\", \"Occupation\"))\n",
    "print(line_separator)\n",
    "\n",
    "# Printing data rows\n",
    "print(\"{:<10}\\t{}\\t{}\".format(name1, age1, occupation1))\n",
    "print(\"{:<10}\\t{}\\t{}\".format(name2, age2, occupation2))\n",
    "print(\"{:<10}\\t{}\\t{}\".format(name3, age3, occupation3))"
   ]
  },
  {
   "cell_type": "code",
   "execution_count": null,
   "id": "b22d7459",
   "metadata": {},
   "outputs": [],
   "source": [
    "# Printing data rows with floating-point numbers\n",
    "print(\"{:<10}\\t${:6.2f}\".format(\"Product A\", 19.99))\n",
    "print(\"{:<10}\\t${:6.2f}\".format(\"Product B\", 12.50))\n",
    "print(\"{:<10}\\t${:6.2f}\".format(\"Product C\", 8.75))"
   ]
  },
  {
   "cell_type": "markdown",
   "id": "0f596db3",
   "metadata": {},
   "source": [
    "### Question 3.1: Temperature Conversion Table:\n",
    "- Create a program that generates a temperature conversion table from Celsius to Fahrenheit. Use the format() function for a neat and organized display. (Display 3 records)\n",
    "\n"
   ]
  },
  {
   "cell_type": "code",
   "execution_count": null,
   "id": "83ad86d3",
   "metadata": {},
   "outputs": [],
   "source": [
    "#TODO replace the content of this cell with your Python solution.\n",
    "raise NotImplementedError"
   ]
  },
  {
   "cell_type": "markdown",
   "id": "d603558b",
   "metadata": {},
   "source": [
    "### Question 3.2: Time Table:\n",
    "\n",
    "- Create a program that generates a weekly timetable for a student. Include subjects, days, and timings in a well-formatted table. (Display 3 records)"
   ]
  },
  {
   "cell_type": "code",
   "execution_count": null,
   "id": "6e872c5a",
   "metadata": {},
   "outputs": [],
   "source": [
    "#TODO replace the content of this cell with your Python solution.\n",
    "raise NotImplementedError"
   ]
  },
  {
   "cell_type": "markdown",
   "id": "d3e26c16",
   "metadata": {},
   "source": [
    "# STOP PLEASE. THE FOLLOWING IS FOR THE NEXT EXERCISE. THANKS.\n",
    "\n",
    "# EXERCISE 4: Input function"
   ]
  },
  {
   "cell_type": "markdown",
   "id": "a1364592",
   "metadata": {},
   "source": [
    "In this example, the program takes the user's age as input, converts it to an integer using int(), and then performs a simple calculation (adding 10 years to the age). The result is printed out."
   ]
  },
  {
   "cell_type": "code",
   "execution_count": null,
   "id": "b3428158",
   "metadata": {},
   "outputs": [],
   "source": [
    "# Example with numeric input and calculation\n",
    "name = input(\"Enter your name: \")\n",
    "print(\"Hello, \" + name + \"!\")\n",
    "\n",
    "# Taking age as input and converting it to an integer\n",
    "age = int(input(\"Enter your age: \"))\n",
    "\n",
    "# Performing a calculation based on the user's age\n",
    "future_age = age + 10\n",
    "print(\"In 10 years, you will be\", future_age, \"years old.\")"
   ]
  },
  {
   "cell_type": "markdown",
   "id": "e0b7f49a",
   "metadata": {},
   "source": [
    "\n",
    "### Question 4.1: BMI Calculation\n",
    "\n",
    "- Input: Ask the user to enter their weight in kilograms.\n",
    "- Input: Ask the user to enter their height in meters.\n",
    "- Calculation: Calculate the BMI using the formula: \n",
    "BMI = weight / height^2\n",
    " \n",
    "-Output: Print the calculated BMI.\n"
   ]
  },
  {
   "cell_type": "code",
   "execution_count": null,
   "id": "e203dd7f",
   "metadata": {},
   "outputs": [],
   "source": [
    "# BMI Calculation Exercise\n",
    "\n",
    "# Input: Weight in kilograms\n",
    "weight_str = input(\"Enter your weight in kilograms: \")\n",
    "\n",
    "# Input: Height in meters\n",
    "height_str = input(\"Enter your height in meters: \")\n",
    "\n",
    "# Convert the input values to floats\n",
    "try:\n",
    "    weight = float(weight_str)\n",
    "    height = float(height_str)\n",
    "\n",
    "    # Calculation: BMI\n",
    "    bmi = weight / (height ** 2)\n",
    "\n",
    "    # Output: Print the BMI\n",
    "    print(\"Your BMI is:\", bmi)\n",
    "except ValueError:\n",
    "    print(\"Please enter valid numeric values for weight and height.\")\n",
    "\n"
   ]
  },
  {
   "cell_type": "markdown",
   "id": "50e893a0",
   "metadata": {},
   "source": [
    "### Question 4.2: Rectangle Area Calculator:\n",
    "- Write a Python program that takes the length and width of a rectangle as input from the user and calculates its area. Ensure that the program provides clear prompts, and displays the result in a formatted manner.\n"
   ]
  },
  {
   "cell_type": "code",
   "execution_count": null,
   "id": "0b5fee59",
   "metadata": {},
   "outputs": [],
   "source": [
    "#TODO replace the content of this cell with your Python solution.\n",
    "raise NotImplementedError"
   ]
  },
  {
   "cell_type": "markdown",
   "id": "3e9c4f80",
   "metadata": {},
   "source": [
    "### Question 4.3: Interest Rate Calculation:\n",
    "\n",
    "- Input: Ask the user to enter the principal amount (initial investment).\n",
    "- Input: Ask the user to enter the annual interest rate as a percentage.\n",
    "- Input: Ask the user to enter the number of years.\n",
    "- Calculation: Calculate the future value of the investment using the formula: \n",
    "\n",
    "### future_value = principal × (1+interest_rate/100)^years\n",
    "\n",
    " \n",
    "- Output: Print the future value of the investment.\n",
    "\n",
    "This exercise focuses on getting user input for principal, interest rate, and time, performing a calculation, and printing the result. If you want to challenge yourself, you can also include error handling to ensure that the user enters valid numeric values."
   ]
  },
  {
   "cell_type": "code",
   "execution_count": null,
   "id": "72b29a5a",
   "metadata": {},
   "outputs": [],
   "source": [
    "#TODO replace the content of this cell with your Python solution.\n",
    "raise NotImplementedError"
   ]
  },
  {
   "cell_type": "markdown",
   "id": "fa515ab1",
   "metadata": {},
   "source": [
    "# End of Tutorial. Many Thanks."
   ]
  },
  {
   "cell_type": "code",
   "execution_count": null,
   "id": "b7725630",
   "metadata": {},
   "outputs": [],
   "source": []
  }
 ],
 "metadata": {
  "kernelspec": {
   "display_name": "Python 3 (ipykernel)",
   "language": "python",
   "name": "python3"
  },
  "language_info": {
   "codemirror_mode": {
    "name": "ipython",
    "version": 3
   },
   "file_extension": ".py",
   "mimetype": "text/x-python",
   "name": "python",
   "nbconvert_exporter": "python",
   "pygments_lexer": "ipython3",
   "version": "3.10.9"
  }
 },
 "nbformat": 4,
 "nbformat_minor": 5
}
