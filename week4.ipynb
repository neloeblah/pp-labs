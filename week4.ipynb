{
 "cells": [
  {
   "cell_type": "markdown",
   "id": "917fe41c",
   "metadata": {},
   "source": [
    "#  Strings, RegExp and Files\n",
    "\n",
    "# EXERCISE 1: \n",
    "## Strings\n",
    "\n",
    "A string is a sequence of characters. In Python, strings are a fundamental data type, and they are used to represent text. Strings can include letters, numbers, symbols, and even spaces. Strings are enclosed in either single quotes (') or double quotes (\").\n",
    "\n",
    "Here's a quick example:"
   ]
  },
  {
   "cell_type": "code",
   "execution_count": null,
   "id": "46a7d5a0",
   "metadata": {},
   "outputs": [],
   "source": [
    "my_string = \"Hello, World!\"\n",
    "\n",
    "first_character = my_string[0]\n",
    "first_character\n",
    "\n"
   ]
  },
  {
   "cell_type": "code",
   "execution_count": null,
   "id": "5aae4a91",
   "metadata": {},
   "outputs": [],
   "source": [
    "substring = my_string[7:12]\n",
    "substring\n",
    "\n"
   ]
  },
  {
   "cell_type": "markdown",
   "id": "53cf0369",
   "metadata": {},
   "source": [
    "### Strings have various built-in methods, such as len(), upper(), and lower(), that perform operations on the string."
   ]
  },
  {
   "cell_type": "code",
   "execution_count": null,
   "id": "4564034e",
   "metadata": {},
   "outputs": [],
   "source": [
    "new_string = \"Hello\" + \" \" + \"World\"\n",
    "new_string"
   ]
  },
  {
   "cell_type": "markdown",
   "id": "3665ae53",
   "metadata": {},
   "source": [
    "### Escape characters, such as \\n for a new line and \\t for a tab, can be used to represent special characters in a string."
   ]
  },
  {
   "cell_type": "code",
   "execution_count": null,
   "id": "bde1e478",
   "metadata": {},
   "outputs": [],
   "source": [
    "special_string = \"This is a line\\nThis is a new line\\tThis is a tab.\"\n",
    "print(special_string)"
   ]
  },
  {
   "cell_type": "code",
   "execution_count": null,
   "id": "87dbc782",
   "metadata": {},
   "outputs": [],
   "source": [
    "length = len(my_string)\n",
    "uppercase_string = my_string.upper()\n",
    "print(uppercase_string)\n",
    "lowercase_string = my_string.lower()\n",
    "print(lowercase_string)"
   ]
  },
  {
   "cell_type": "markdown",
   "id": "e49e53d0",
   "metadata": {},
   "source": [
    "### String formatting allows you to create dynamic strings by embedding variables or expressions."
   ]
  },
  {
   "cell_type": "code",
   "execution_count": null,
   "id": "da024b5c",
   "metadata": {},
   "outputs": [],
   "source": [
    "name = \"John\"\n",
    "age = 25\n",
    "message = f\"My name is {name} and I am {age} years old.\"\n",
    "print(message)"
   ]
  },
  {
   "cell_type": "markdown",
   "id": "4231db8c",
   "metadata": {},
   "source": [
    "### Strings provide methods for various operations like stripping whitespaces, replacing substrings, etc."
   ]
  },
  {
   "cell_type": "code",
   "execution_count": null,
   "id": "1c01aabe",
   "metadata": {},
   "outputs": [],
   "source": [
    "stripped_string = \"   Trim whitespaces   \".strip()\n",
    "print(stripped_string)\n",
    "replaced_string = \"Hello, World!\".replace(\"Hello\", \"Hi\")\n",
    "print(replaced_string)"
   ]
  },
  {
   "cell_type": "markdown",
   "id": "27126687",
   "metadata": {},
   "source": [
    "### Strings in Python are immutable, meaning their values cannot be modified once they are created."
   ]
  },
  {
   "cell_type": "code",
   "execution_count": null,
   "id": "b2e3e7c1",
   "metadata": {},
   "outputs": [],
   "source": [
    "my_string[0] = 'h'  # This will result in an error\n"
   ]
  },
  {
   "cell_type": "markdown",
   "id": "ca4f9fd4",
   "metadata": {},
   "source": [
    "## Question 1.1: Word Counter\n",
    "- Write a program to count and display how many times the substring notice appears in the string:\n",
    "    \n",
    "    \"If you notice this notice you'll notice this notice is not worth noticing.\"\n"
   ]
  },
  {
   "cell_type": "code",
   "execution_count": null,
   "id": "9162cdac",
   "metadata": {},
   "outputs": [],
   "source": [
    "#TODO replace the content of this cell with your Python solution.\n",
    "raise NotImplementedError"
   ]
  },
  {
   "cell_type": "markdown",
   "id": "ceb90602",
   "metadata": {},
   "source": [
    "## Question 1.2: Email Validator without Regular Expressions\n",
    "\n",
    "- The program  checks if an email address entered by the user is valid. It does so by ensuring that the email contains the '@' symbol and at least one '.' for the domain."
   ]
  },
  {
   "cell_type": "code",
   "execution_count": null,
   "id": "3f560386",
   "metadata": {},
   "outputs": [],
   "source": [
    "#TODO replace the content of this cell with your Python solution.\n",
    "raise NotImplementedError\n",
    "\n"
   ]
  },
  {
   "cell_type": "markdown",
   "id": "7dceb0e7",
   "metadata": {},
   "source": [
    "## Question 1.3: Password Strength Checker without Regular Expressions\n",
    "- This program evaluates the strength of a password entered by the user. It checks if the password meets certain criteria, such as having a minimum length of 8 characters, containing both uppercase and lowercase letters, and having at least one digit."
   ]
  },
  {
   "cell_type": "code",
   "execution_count": null,
   "id": "adf377c5",
   "metadata": {},
   "outputs": [],
   "source": [
    "#TODO replace the content of this cell with your Python solution.\n",
    "raise NotImplementedError\n"
   ]
  },
  {
   "cell_type": "markdown",
   "id": "0efc5108",
   "metadata": {},
   "source": [
    "## Question 1.4: DNA Sequence Complement\n",
    "\n",
    "- Write a program that takes a DNA sequence as input from the user and outputs its complement. In DNA, adenine (A) pairs with thymine (T), and cytosine (C) pairs with guanine (G). The complement is formed by replacing each nucleotide with its pairing nucleotide.\n",
    "\n",
    "- For example, if the user inputs \"ATCGA,\" the program should output \"TAGCT.\""
   ]
  },
  {
   "cell_type": "code",
   "execution_count": null,
   "id": "acab0be9",
   "metadata": {},
   "outputs": [],
   "source": [
    "#TODO replace the content of this cell with your Python solution.\n",
    "raise NotImplementedError\n"
   ]
  },
  {
   "cell_type": "markdown",
   "id": "95097012",
   "metadata": {},
   "source": [
    "## *STOP PLEASE. THE FOLLOWING IS FOR THE NEXT EXERCISE. THANKS.*\n"
   ]
  },
  {
   "cell_type": "markdown",
   "id": "310cf040",
   "metadata": {},
   "source": [
    "# EXERCISE 2: \n",
    "## Regular Expressions \n",
    "\n"
   ]
  },
  {
   "cell_type": "markdown",
   "id": "4254fe5d",
   "metadata": {},
   "source": [
    "## Example 1: Matching a simple pattern"
   ]
  },
  {
   "cell_type": "code",
   "execution_count": null,
   "id": "f6f1fcab",
   "metadata": {},
   "outputs": [],
   "source": [
    "import re\n",
    "\n",
    "# Example 1: Matching a simple pattern\n",
    "pattern = re.compile(r\"\\d{3}-\\d{2}-\\d{4}\")\n",
    "result = pattern.match(\"123-45-6789\")\n",
    "\n",
    "# Check if there is a match\n",
    "if result:\n",
    "    # Print the entire matching string\n",
    "    print(\"Valid\")\n",
    "else:\n",
    "    print(\"Not valid.\")\n",
    "    \n"
   ]
  },
  {
   "cell_type": "markdown",
   "id": "e706ec06",
   "metadata": {},
   "source": [
    "## Example 2: Using flags for case-insensitive matching"
   ]
  },
  {
   "cell_type": "code",
   "execution_count": null,
   "id": "ff00b483",
   "metadata": {},
   "outputs": [],
   "source": [
    "pattern = re.compile(r\"python\", re.IGNORECASE)\n",
    "result = pattern.search(\"Python is fun!\")\n",
    "# Check if there is a match\n",
    "if result:\n",
    "    # Print the entire matching string\n",
    "    print(\"Matching string:\", result.group())\n",
    "else:\n",
    "    print(\"Pattern not found.\")"
   ]
  },
  {
   "cell_type": "markdown",
   "id": "eee9163b",
   "metadata": {},
   "source": [
    "## Example 3: Finding all matches in a string"
   ]
  },
  {
   "cell_type": "code",
   "execution_count": null,
   "id": "833ceaa6",
   "metadata": {},
   "outputs": [],
   "source": [
    "pattern = re.compile(r\"\\b\\w{3}\\b\")\n",
    "result = pattern.findall(\"The cat is cute.\")\n",
    "print(result)\n"
   ]
  },
  {
   "cell_type": "markdown",
   "id": "85bb99ab",
   "metadata": {},
   "source": [
    "## Example 4: Matching Whole Words"
   ]
  },
  {
   "cell_type": "code",
   "execution_count": null,
   "id": "15530872",
   "metadata": {},
   "outputs": [],
   "source": [
    "import re\n",
    "\n",
    "# Pattern to match the word \"apple\" as a whole word\n",
    "pattern = re.compile(r\"\\bapple\\b\")\n",
    "\n",
    "# Test strings\n",
    "text1 = \"I love apple.\"    # Match\n",
    "text2 = \"pineapple pie\"     # No match\n",
    "text3 = \"applesauce\"        # No match\n",
    "\n",
    "# Testing the pattern\n",
    "result1 = pattern.search(text1)\n",
    "result2 = pattern.search(text2)\n",
    "result3 = pattern.search(text3)\n",
    "\n",
    "print(\"Result 1:\", bool(result1))  # Output: True\n",
    "print(\"Result 2:\", bool(result2))  # Output: False\n",
    "print(\"Result 3:\", bool(result3))  # Output: False\n"
   ]
  },
  {
   "cell_type": "markdown",
   "id": "6768e18e",
   "metadata": {},
   "source": [
    "## Question 2.1: Email Validator\n",
    "- Write a Python program that takes an email address as input from the user and validates whether it is a valid email address using regular expressions."
   ]
  },
  {
   "cell_type": "code",
   "execution_count": null,
   "id": "fd066075",
   "metadata": {},
   "outputs": [],
   "source": [
    "#TODO replace the content of this cell with your Python solution.\n",
    "raise NotImplementedError"
   ]
  },
  {
   "cell_type": "markdown",
   "id": "3e99d1ac",
   "metadata": {},
   "source": [
    "## Question 2.2: URL Extractor\n",
    "- Write a Python script that extracts all the URLs from a given text using regular expressions."
   ]
  },
  {
   "cell_type": "code",
   "execution_count": null,
   "id": "66957bb1",
   "metadata": {},
   "outputs": [],
   "source": [
    "#TODO replace the content of this cell with your Python solution.\n",
    "raise NotImplementedError"
   ]
  },
  {
   "cell_type": "markdown",
   "id": "6b1b68d9",
   "metadata": {},
   "source": [
    "## Question 2.3: Word Frequency Counter\n",
    "- Create a program that takes a paragraph as input and uses regular expressions to count the frequency of each word. Display the word frequencies in descending order."
   ]
  },
  {
   "cell_type": "code",
   "execution_count": null,
   "id": "0a1250bc",
   "metadata": {},
   "outputs": [],
   "source": [
    "#TODO replace the content of this cell with your Python solution.\n",
    "raise NotImplementedError"
   ]
  },
  {
   "cell_type": "markdown",
   "id": "32c30455",
   "metadata": {},
   "source": [
    "## Question 2.4: Data Cleaning\n",
    "- Create a program to remove  both punctuation and emojis from a string using regular expressions in Python, you can use the re.sub() function along with an appropriate regular expression pattern."
   ]
  },
  {
   "cell_type": "code",
   "execution_count": null,
   "id": "ded14ce1",
   "metadata": {},
   "outputs": [],
   "source": [
    "#TODO replace the content of this cell with your Python solution.\n",
    "raise NotImplementedError"
   ]
  },
  {
   "cell_type": "markdown",
   "id": "b4913b3b",
   "metadata": {},
   "source": [
    "# STOP PLEASE. THE FOLLOWING IS FOR THE NEXT EXERCISE. THANKS.\n",
    "## EXERCISE 3: Exceptions\n",
    "\n"
   ]
  },
  {
   "cell_type": "markdown",
   "id": "1aa2bc3d",
   "metadata": {},
   "source": [
    "Exceptions are events that occur during the execution of a program that disrupt the normal flow of instructions. These events can be caused by various factors such as user input errors, unexpected conditions, or external issues. To handle these exceptions and gracefully manage unexpected situations, Python provides a mechanism called exception handling.\n",
    "\n",
    "The try, except, and finally blocks are fundamental components of Python's exception-handling mechanism. Here's an example that demonstrates how to use these blocks to handle exceptions:"
   ]
  },
  {
   "cell_type": "code",
   "execution_count": null,
   "id": "e8ef1fe9",
   "metadata": {},
   "outputs": [],
   "source": [
    "try:\n",
    "    # Code that might raise an exception\n",
    "    number = int(input(\"Enter a number: \"))\n",
    "    result = 10 / number\n",
    "    print(\"Result:\", result)\n",
    "\n",
    "except ValueError:\n",
    "    # Handle the case when the user doesn't enter a valid integer\n",
    "    print(\"Please enter a valid integer.\")\n",
    "\n",
    "except ZeroDivisionError:\n",
    "    # Handle the case when the user enters zero as the divisor\n",
    "    print(\"Cannot divide by zero.\")\n",
    "\n",
    "except Exception as e:\n",
    "    # Handle other types of exceptions\n",
    "    print(\"An error occurred:\", e)\n",
    "\n",
    "finally:\n",
    "    # Code to run whether an exception occurred or not\n",
    "    print(\"This block always executes.\")\n"
   ]
  },
  {
   "cell_type": "markdown",
   "id": "e1f85c5a",
   "metadata": {},
   "source": [
    "## Example 1:  Simple Calculator "
   ]
  },
  {
   "cell_type": "code",
   "execution_count": null,
   "id": "b72d6954",
   "metadata": {},
   "outputs": [],
   "source": [
    "def add(x, y):\n",
    "    return x + y\n",
    "\n",
    "def subtract(x, y):\n",
    "    return x - y\n",
    "\n",
    "def multiply(x, y):\n",
    "    return x * y\n",
    "\n",
    "def divide(x, y):\n",
    "    if y == 0:\n",
    "        raise ZeroDivisionError(\"Cannot divide by zero.\")\n",
    "    return x / y\n",
    "\n",
    "def main():\n",
    "    try:\n",
    "        # Get numeric inputs and operation from the user\n",
    "        num1 = float(input(\"Enter the first number: \"))\n",
    "        num2 = float(input(\"Enter the second number: \"))\n",
    "        operation = input(\"Enter the operation (+, -, *, /): \")\n",
    "\n",
    "        # Perform the arithmetic operation based on user input\n",
    "        if operation == '+':\n",
    "            result = add(num1, num2)\n",
    "        elif operation == '-':\n",
    "            result = subtract(num1, num2)\n",
    "        elif operation == '*':\n",
    "            result = multiply(num1, num2)\n",
    "        elif operation == '/':\n",
    "            result = divide(num1, num2)\n",
    "        else:\n",
    "            print(\"Error: Invalid operation.\")\n",
    "            return\n",
    "\n",
    "        # Display the result\n",
    "        print(\"Result:\", result)\n",
    "\n",
    "    except ValueError:\n",
    "        # Handle the case when the input is not a valid number\n",
    "        print(\"Error: Please enter valid numeric inputs.\")\n",
    "\n",
    "    except ZeroDivisionError as e:\n",
    "        # Handle the case when division by zero occurs\n",
    "        print(\"Error:\", e)\n",
    "\n",
    "    except Exception as e:\n",
    "        # Handle unexpected errors\n",
    "        print(\"An error occurred:\", e)\n",
    "\n",
    "if __name__ == \"__main__\":\n",
    "    main()\n"
   ]
  },
  {
   "cell_type": "markdown",
   "id": "30f16b6f",
   "metadata": {},
   "source": [
    "## Question 3.1: Password Strength Checker\n",
    "- The password must be at least 8 characters long.\n",
    "- It must contain a mix of uppercase and lowercase letters.\n",
    "- It must contain at least one digit.\n",
    "- It must contain at least one special character (e.g., @, #, $, %, etc.).\n",
    "\n",
    "Implement exception handling to ensure that the user's password meets these criteria and provide meaningful error messages for each condition."
   ]
  },
  {
   "cell_type": "code",
   "execution_count": null,
   "id": "d936edcd",
   "metadata": {},
   "outputs": [],
   "source": [
    "#TODO replace the content of this cell with your Python solution.\n",
    "raise NotImplementedError"
   ]
  },
  {
   "cell_type": "markdown",
   "id": "2d5048ca",
   "metadata": {},
   "source": [
    "# STOP PLEASE. THE FOLLOWING IS FOR THE NEXT EXERCISE. THANKS.\n",
    "## EXERCISE 4: Files\n",
    "\n",
    "## Writing to a file"
   ]
  },
  {
   "cell_type": "markdown",
   "id": "dff8ad98",
   "metadata": {},
   "source": [
    "### Example 1: Write a Single Line to a File\n"
   ]
  },
  {
   "cell_type": "code",
   "execution_count": null,
   "id": "5040f38c",
   "metadata": {},
   "outputs": [],
   "source": [
    "# Open a file for writing (creates the file if it doesn't exist)\n",
    "file = open('example.txt', 'w')\n",
    "file.write(\"Hello, this is a single line.\")\n",
    "file.close()\n",
    "\n"
   ]
  },
  {
   "cell_type": "markdown",
   "id": "2904acb7",
   "metadata": {},
   "source": [
    "### Example 2: Write Multiple Lines to a File"
   ]
  },
  {
   "cell_type": "code",
   "execution_count": null,
   "id": "b22d7459",
   "metadata": {},
   "outputs": [],
   "source": [
    "# Open a file for writing (creates the file if it doesn't exist)\n",
    "file = open('example.txt', 'w')\n",
    "lines = [\"This is line 1.\", \"This is line 2.\", \"This is line 3.\"]\n",
    "file.write(\"\\n\".join(lines))\n",
    "file.close()\n",
    "\n"
   ]
  },
  {
   "cell_type": "markdown",
   "id": "76394b61",
   "metadata": {},
   "source": [
    "### Example 3: Append to an Existing File"
   ]
  },
  {
   "cell_type": "code",
   "execution_count": null,
   "id": "d5ff4cd1",
   "metadata": {},
   "outputs": [],
   "source": [
    "# Open a file for appending (creates the file if it doesn't exist)\n",
    "file = open('example.txt', 'a')\n",
    "file.write(\"\\nThis line will be appended.\")\n",
    "file.close()\n",
    "\n"
   ]
  },
  {
   "cell_type": "markdown",
   "id": "60e5c546",
   "metadata": {},
   "source": [
    "### Example 4: Write Formatted Data to a file"
   ]
  },
  {
   "cell_type": "code",
   "execution_count": null,
   "id": "12194ff1",
   "metadata": {},
   "outputs": [],
   "source": [
    "# Open a file for writing (creates the file if it doesn't exist)\n",
    "file_path = 'formatted_data.txt'\n",
    "file = open(file_path, 'w')\n",
    "\n",
    "# Format and write data to the file\n",
    "data = [\n",
    "    ['Alice', 25, 'Wonderland'],\n",
    "    ['Bob', 30, 'Techland'],\n",
    "    ['Charlie', 22, 'Codeville']\n",
    "]\n",
    "\n",
    "file.write(\"{:<10} {:<5} {:<12}\\n\".format(\"Name\", \"Age\", \"City\"))\n",
    "file.write(\"-\"*30+\"\\n\")\n",
    "for person in data:\n",
    "    # Specify width for each variable in the formatted string\n",
    "    file.write(\"{:<10} {:<5} {:<12}\\n\".format(person[0], person[1], person[2]))\n",
    "\n",
    "print(f\"Data has been written to {file_path}\")\n",
    "file.close()\n",
    "\n"
   ]
  },
  {
   "cell_type": "markdown",
   "id": "0f596db3",
   "metadata": {},
   "source": [
    "## Question 4.1: Payslip Generator\n",
    "- Create a Python program to generate payslips for employees and store the data in a file. The payslip should include the employee's name, ID, base salary, deductions, and net salary. Implement the following:\n",
    "\n",
    "- Design a Python program that takes user input for the following information:\n",
    "\n",
    "    - Employee name\n",
    "    - Employee ID\n",
    "    - Base salary\n",
    "    - Deductions (e.g., taxes, insurance)\n",
    "- Calculate the net salary by subtracting the deductions from the base salary.\n",
    "\n",
    "- Write the payslip data (name, ID, base salary, deductions, net salary) to a file named \"payslips.txt\". Each line in the file should represent a payslip.\n",
    "\n",
    "- Implement error handling to ensure that the user inputs valid numerical values for salary and deductions.\n",
    "\n",
    "- Allow the user to input data for multiple employees in a loop until they choose to exit.\n",
    "\n",
    "- Provide a menu to the user with options like \"Add Employee\" and \"Exit\"."
   ]
  },
  {
   "cell_type": "markdown",
   "id": "8ec4efcf",
   "metadata": {},
   "source": [
    "---- Payslip Generator ----\n",
    "1. Add Employee\n",
    "2. Exit\n",
    "\n",
    "Enter your choice: 1\n",
    "\n",
    "Enter employee name: John Doe\n",
    "Enter employee ID: E12345\n",
    "Enter base salary: 50000\n",
    "Enter deductions: 7500\n",
    "\n",
    "Employee added successfully!\n",
    "\n",
    "---- Payslip Generator ----\n",
    "1. Add Employee\n",
    "2. Exit\n",
    "\n",
    "Enter your choice: 1\n",
    "\n",
    "Enter employee name: Jane Smith\n",
    "Enter employee ID: E67890\n",
    "Enter base salary: 60000\n",
    "Enter deductions: 8000\n",
    "\n",
    "Employee added successfully!\n",
    "\n",
    "---- Payslip Generator ----\n",
    "1. Add Employee\n",
    "2. Exit\n",
    "\n",
    "Enter your choice: 2\n",
    "\n",
    "Exiting... Payslips written to payslips.txt\n"
   ]
  },
  {
   "cell_type": "code",
   "execution_count": null,
   "id": "6e872c5a",
   "metadata": {},
   "outputs": [],
   "source": [
    "#TODO replace the content of this cell with your Python solution.\n",
    "raise NotImplementedError"
   ]
  },
  {
   "cell_type": "markdown",
   "id": "a5e02b80",
   "metadata": {},
   "source": [
    "## Reading from a file"
   ]
  },
  {
   "cell_type": "markdown",
   "id": "c649a620",
   "metadata": {},
   "source": [
    "## Example 1: Read Lines from a File"
   ]
  },
  {
   "cell_type": "markdown",
   "id": "fb73cd16",
   "metadata": {},
   "source": [
    "####  Sample File Data (input.txt):\n",
    "This is line 1.\n",
    "\n",
    "Here's line 2.\n",
    "\n",
    "And line 3 follows."
   ]
  },
  {
   "cell_type": "code",
   "execution_count": null,
   "id": "1a6f980b",
   "metadata": {},
   "outputs": [],
   "source": [
    "# Exercise 1: Read Lines from a File\n",
    "file_path = 'input.txt'\n",
    "\n",
    "try:\n",
    "    with open(file_path, 'r') as file:\n",
    "        for line in file:\n",
    "            print(line.strip())  # Remove newline characters for cleaner output\n",
    "except FileNotFoundError:\n",
    "    print(f\"Error: File '{file_path}' not found.\")\n",
    "\n"
   ]
  },
  {
   "cell_type": "markdown",
   "id": "0a0cb25d",
   "metadata": {},
   "source": [
    "## Example 2: Read and Calculate"
   ]
  },
  {
   "cell_type": "markdown",
   "id": "156bac56",
   "metadata": {},
   "source": [
    "### We'll use a file named \"numbers.txt\" with the following content:\n",
    "\n",
    "10\n",
    "\n",
    "25\n",
    "\n",
    "30\n",
    "\n",
    "15"
   ]
  },
  {
   "cell_type": "code",
   "execution_count": null,
   "id": "507476f3",
   "metadata": {},
   "outputs": [],
   "source": [
    "# Exercise: Read and Calculate without using with\n",
    "file_path = 'numbers.txt'\n",
    "\n",
    "# Attempt to open the file\n",
    "try:\n",
    "    file = open(file_path, 'r')\n",
    "\n",
    "    # Read numerical data from the file into a list\n",
    "    numbers = [float(line.strip()) for line in file]\n",
    "\n",
    "    # Print the original data\n",
    "    print(\"Original Numbers:\", numbers)\n",
    "\n",
    "    # Calculate the average\n",
    "    average = sum(numbers) / len(numbers)\n",
    "    print(\"Average:\", average)\n",
    "\n",
    "    # Find the maximum value\n",
    "    maximum = max(numbers)\n",
    "    print(\"Maximum Value:\", maximum)\n",
    "\n",
    "    # Double each number\n",
    "    doubled_numbers = [2 * num for num in numbers]\n",
    "    print(\"Doubled Numbers:\", doubled_numbers)\n",
    "\n",
    "except FileNotFoundError:\n",
    "    print(f\"Error: File '{file_path}' not found.\")\n",
    "except ValueError:\n",
    "    print(f\"Error: The file '{file_path}' contains non-numeric data.\")\n",
    "finally:\n",
    "    # Ensure the file is closed even if an exception occurs\n",
    "    if file:\n",
    "        file.close()\n",
    "\n",
    "\n"
   ]
  },
  {
   "cell_type": "markdown",
   "id": "fb413ed8",
   "metadata": {},
   "source": [
    "## Question 4.2: Read Sales Data with Quantity and Retail Price\n",
    "- Consider a data in the \"sales.txt\" file. The  file could look like this:\n",
    "\n",
    "5, 200, 10.99\n",
    "\n",
    "8, 450, 24.99\n",
    "\n",
    "3, 300, 15.49\n",
    "\n",
    "2, 150, 9.99\n",
    "\n",
    "- Here, each line represents the quantity sold, the sales figure, and the retail price, separated by commas.\n",
    "- Create a Python program to analyze sales data from a file. The file, named \"sales.txt,\" contains information about the quantity of items sold, the sales figures, and the retail price for each item. Each line in the file is formatted as follows: quantity, sales, retail_price\n",
    "\n",
    "- Design a Python script that reads the data from the \"sales.txt\" file and stores it in a suitable data structure (e.g., list of tuples).\n",
    "- Print the original sales data, displaying the quantity, sales figure, and retail price for each item.\n",
    "- Calculate and print the total sales based on the sales figures.\n",
    "- Allow the user to input new sales data interactively and append it to the existing file.\n",
    "- Provide a menu to the user with options like \"Print Sales Data,\" \"Calculate Total Sales,\" \"Add New Sales Data,\" and \"Exit.\""
   ]
  },
  {
   "cell_type": "code",
   "execution_count": null,
   "id": "ba56fe67",
   "metadata": {},
   "outputs": [],
   "source": [
    "\n",
    "#TODO replace the content of this cell with your Python solution.\n",
    "raise NotImplementedError"
   ]
  },
  {
   "cell_type": "markdown",
   "id": "72d3c990",
   "metadata": {},
   "source": [
    "# End of Tutorial. Many Thanks."
   ]
  }
 ],
 "metadata": {
  "kernelspec": {
   "display_name": "Python 3 (ipykernel)",
   "language": "python",
   "name": "python3"
  },
  "language_info": {
   "codemirror_mode": {
    "name": "ipython",
    "version": 3
   },
   "file_extension": ".py",
   "mimetype": "text/x-python",
   "name": "python",
   "nbconvert_exporter": "python",
   "pygments_lexer": "ipython3",
   "version": "3.11.5"
  }
 },
 "nbformat": 4,
 "nbformat_minor": 5
}
